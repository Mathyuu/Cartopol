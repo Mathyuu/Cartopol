{
 "cells": [
  {
   "cell_type": "code",
   "execution_count": 4,
   "metadata": {},
   "outputs": [
    {
     "name": "stdout",
     "output_type": "stream",
     "text": [
      "Cette cartographie politique inspirée du Political Compass et de ses dérivés va te placer dans un espace politique 3D dirigé par trois axes :\n",
      "- Un axe de la « liberté » qui traduira ton rapport à l'autorité et notamment à l'état.\n",
      "- Un axe de l'« économie » qui traduira ton rapport au capitalisme, au productivisme et donc également à l'environnement.\n",
      "- Un axe du « conservatisme » qui traduira ton rapport aux questions dites de société, cet axe est le plus proche du traditionnel axe « droite - gauche ».\n",
      "Ainsi ce test te fournira une position politique assez riche et te proposera les courants les plus proches de cette dernière. C'est parti !\n"
     ]
    }
   ],
   "source": [
    "# -*- coding: utf-8 -*-\n",
    "\n",
    "import numpy as np\n",
    "import matplotlib.pyplot as plt\n",
    "import random\n",
    "from ipywidgets import widgets, Layout, Box\n",
    "\n",
    "print('Cette cartographie politique inspirée du Political Compass et de ses dérivés va te placer dans un espace politique 3D dirigé par trois axes :')\n",
    "print('- Un axe de la « liberté » qui traduira ton rapport à l\\'autorité et notamment à l\\'état.')\n",
    "print('- Un axe de l\\'« économie » qui traduira ton rapport au capitalisme, au productivisme et donc également à l\\'environnement.')\n",
    "print('- Un axe du « conservatisme » qui traduira ton rapport aux questions dites de société, cet axe est le plus proche du traditionnel axe « droite - gauche ».')\n",
    "print('Ainsi ce test te fournira une position politique assez riche et te proposera les courants les plus proches de cette dernière. C\\'est parti !')\n",
    "\n",
    "x = np.zeros(32) #Liberté -> autorité\n",
    "y = np.zeros(32) #Antiproductivisme -> productivisme\n",
    "z = np.zeros(32) #Progressisme -> conservatisme"
   ]
  },
  {
   "cell_type": "code",
   "execution_count": 3,
   "metadata": {
    "scrolled": true
   },
   "outputs": [
    {
     "name": "stdout",
     "output_type": "stream",
     "text": [
      "Les frontières entre pays sont :\n"
     ]
    },
    {
     "data": {
      "application/vnd.jupyter.widget-view+json": {
       "model_id": "3949ba2f5d9149b38027283fd25f554b",
       "version_major": 2,
       "version_minor": 0
      },
      "text/plain": [
       "A Jupyter Widget"
      ]
     },
     "metadata": {},
     "output_type": "display_data"
    }
   ],
   "source": [
    "print('Les frontières entre pays sont :')\n",
    "\n",
    "def evaluate(a):\n",
    "    if (a == 'Un outil crucial pour protéger les civilisations'):\n",
    "        x[0]=2\n",
    "    elif(a == 'Les produits d\\'une histoire et d\\'une géographie, qu\\'il faut défendre'):\n",
    "        x[0]=1\n",
    "    elif(a == 'Un mal nécessaire'):\n",
    "        x[0]=0\n",
    "    elif(a == 'Une aberration qu\\'il faut abolir'):\n",
    "        x[0]=-2\n",
    "\n",
    "alternativ = widgets.RadioButtons(\n",
    "    options = ['Un outil crucial pour protéger les civilisations', 'Les produits d\\'une histoire et d\\'une géographie, qu\\'il faut défendre', 'Un mal nécessaire', 'Une aberration qu\\'il faut abolir'],\n",
    "    description = '', disabled = False, indent = False, align = 'center', layout={'width': 'max-content'}, value=None)\n",
    "    \n",
    "description_out = widgets.interactive_output(evaluate, {'a': alternativ})\n",
    "\n",
    "widgets.VBox([description_out, alternativ], layout=Layout(display='flex', flex_flow='column', align_items='stretch', width='auto'))\n"
   ]
  },
  {
   "cell_type": "code",
   "execution_count": 4,
   "metadata": {},
   "outputs": [
    {
     "name": "stdout",
     "output_type": "stream",
     "text": [
      "Les pays sont :\n"
     ]
    },
    {
     "data": {
      "application/vnd.jupyter.widget-view+json": {
       "model_id": "e2dcdb4bcb9b402983ccb7ce45f647c1",
       "version_major": 2,
       "version_minor": 0
      },
      "text/plain": [
       "A Jupyter Widget"
      ]
     },
     "metadata": {},
     "output_type": "display_data"
    }
   ],
   "source": [
    "print('Les pays sont :')\n",
    "\n",
    "A = \"Toute notre identité, je suis prêt.e à mourir pour le mien\"\n",
    "B = \"Un élément important de notre identité, il faut respecter le sien\"\n",
    "C = \"Des éléments importants des identités, mais aucun pays ne vaut plus qu'un autre\"\n",
    "D = \"Une construction ayant pour but l'oppression des peuples, nous ne devons rien à notre pays\"\n",
    "\n",
    "def evaluate(a):\n",
    "    if (a == A):\n",
    "        x[1]=2\n",
    "    elif(a == B):\n",
    "        x[1]=1\n",
    "    elif(a == C):\n",
    "        x[1]=0\n",
    "    elif(a == D):\n",
    "        x[1]=-1\n",
    "\n",
    "alternativ = widgets.RadioButtons(options = [A, B, C, D], description = '', disabled = False, indent = False, align = 'center', layout={'width': 'max-content'}, value=None)\n",
    "\n",
    "description_out = widgets.interactive_output(evaluate, {'a': alternativ})\n",
    "\n",
    "widgets.VBox([description_out, alternativ], layout=Layout(display='flex', flex_flow='column', align_items='stretch', width='auto'))\n"
   ]
  },
  {
   "cell_type": "code",
   "execution_count": 5,
   "metadata": {},
   "outputs": [
    {
     "name": "stdout",
     "output_type": "stream",
     "text": [
      "Que penses-tu de la devise « de chacun selon ses moyens à chacun selon ses besoins » ?\n"
     ]
    },
    {
     "data": {
      "application/vnd.jupyter.widget-view+json": {
       "model_id": "268decc3a8f74e9a92fe56f631dc8787",
       "version_major": 2,
       "version_minor": 0
      },
      "text/plain": [
       "A Jupyter Widget"
      ]
     },
     "metadata": {},
     "output_type": "display_data"
    }
   ],
   "source": [
    "print('Que penses-tu de la devise « de chacun selon ses moyens à chacun selon ses besoins » ?')\n",
    "\n",
    "A = \"Je suis totalement d'accord\"\n",
    "B = \"Je suis assez d'accord, ça dépend\"\n",
    "C = \"Je ne suis pas vraiment d'accord, ça dépend\"\n",
    "D = \"Je suis totalement en désaccord\"\n",
    "\n",
    "def evaluate(a):\n",
    "    if (a == A):\n",
    "        y[0]=-2\n",
    "    elif(a == B):\n",
    "        y[0]=-1\n",
    "    elif(a == C):\n",
    "        y[0]=1\n",
    "    elif(a == D):\n",
    "        y[0]=2\n",
    "\n",
    "alternativ = widgets.RadioButtons(options = [A, B, C, D], description = '', disabled = False, indent = False, align = 'center', layout={'width': 'max-content'}, value=None)\n",
    "    \n",
    "description_out = widgets.interactive_output(evaluate, {'a': alternativ})\n",
    "\n",
    "widgets.VBox([description_out, alternativ], layout=Layout(display='flex', flex_flow='column', align_items='stretch', width='auto'))\n"
   ]
  },
  {
   "cell_type": "code",
   "execution_count": 6,
   "metadata": {},
   "outputs": [
    {
     "name": "stdout",
     "output_type": "stream",
     "text": [
      "Faut-il réduire le temps de travail (en maintenant les salaires) ?\n"
     ]
    },
    {
     "data": {
      "application/vnd.jupyter.widget-view+json": {
       "model_id": "756a4ccf2ad64f7b8d8f4f7fa69d943c",
       "version_major": 2,
       "version_minor": 0
      },
      "text/plain": [
       "A Jupyter Widget"
      ]
     },
     "metadata": {},
     "output_type": "display_data"
    }
   ],
   "source": [
    "print('Faut-il réduire le temps de travail (en maintenant les salaires) ?')\n",
    "\n",
    "A = \"Oui, mais l'urgence est d'abolir le salariat\"\n",
    "B = \"Oui, ce serait bien pour l'environnement et le chômage\"\n",
    "C = \"Non, ça coutrerait trop cher\"\n",
    "D = \"Non, il faudrait l'augmenter\"\n",
    "\n",
    "def evaluate(a):\n",
    "    if (a == A):\n",
    "        y[1]=-3\n",
    "    elif(a == B):\n",
    "        y[1]=-1\n",
    "    elif(a == C):\n",
    "        y[1]=0\n",
    "    elif(a == D):\n",
    "        y[1]=2\n",
    "\n",
    "alternativ = widgets.RadioButtons(options = [A, B, C, D], description = '', disabled = False, indent = False, align = 'center', layout={'width': 'max-content'}, value=None)\n",
    "    \n",
    "description_out = widgets.interactive_output(evaluate, {'a': alternativ})\n",
    "\n",
    "widgets.VBox([description_out, alternativ], layout=Layout(display='flex', flex_flow='column', align_items='stretch', width='auto'))\n"
   ]
  },
  {
   "cell_type": "code",
   "execution_count": 7,
   "metadata": {},
   "outputs": [
    {
     "name": "stdout",
     "output_type": "stream",
     "text": [
      "La peine de mort...\n"
     ]
    },
    {
     "data": {
      "application/vnd.jupyter.widget-view+json": {
       "model_id": "a95343dc28d8452db2ef59bcd378a047",
       "version_major": 2,
       "version_minor": 0
      },
      "text/plain": [
       "A Jupyter Widget"
      ]
     },
     "metadata": {},
     "output_type": "display_data"
    }
   ],
   "source": [
    "print('La peine de mort...')\n",
    "\n",
    "A = \"... Ne devrait exister nulle part\"\n",
    "B = \"... Ne devrait pas exister mais est compréhensible dans certains contextes historiques (révolutions, grandes condamnations pour crimes contre l'humanité...)\"\n",
    "C = \"... Devrait exister seulement pour les crimes les plus graves ou à la demande du condamné\"\n",
    "D = \"... Devrait exister pour tous les crimes et être appliquée fermement\"\n",
    "\n",
    "def evaluate(a):\n",
    "    if (a == A):\n",
    "        z[0]=-1\n",
    "    elif(a == B):\n",
    "        z[0]=0\n",
    "        x[14]=1\n",
    "    elif(a == C):\n",
    "        z[0]=2\n",
    "    elif(a == D):\n",
    "        z[0]=3\n",
    "\n",
    "alternativ = widgets.RadioButtons(options = [A, B, C, D], description = '', disabled = False, indent = False, align = 'center', layout={'width': 'max-content'}, value=None)\n",
    "    \n",
    "description_out = widgets.interactive_output(evaluate, {'a': alternativ})\n",
    "\n",
    "widgets.VBox([description_out, alternativ], layout=Layout(display='flex', flex_flow='column', align_items='stretch', width='auto'))\n"
   ]
  },
  {
   "cell_type": "code",
   "execution_count": 8,
   "metadata": {},
   "outputs": [
    {
     "name": "stdout",
     "output_type": "stream",
     "text": [
      "L'avortement est :\n"
     ]
    },
    {
     "data": {
      "application/vnd.jupyter.widget-view+json": {
       "model_id": "f4b6923e35894ed4be13ce79f3a62dce",
       "version_major": 2,
       "version_minor": 0
      },
      "text/plain": [
       "A Jupyter Widget"
      ]
     },
     "metadata": {},
     "output_type": "display_data"
    }
   ],
   "source": [
    "print(\"L'avortement est :\")\n",
    "\n",
    "A = \"Un crime qu'il faut sévèrement condamner\"\n",
    "B = \"Un délit qu'il faut interdire, mais qui est tolérable dans les cas de viols\"\n",
    "C = \"La perte d'une vie, il ne faut pas l'interdire, mais ne pas l'encourager non plus\"\n",
    "D = \"Un droit fondamental qui doit être libre, accompagné et gratuit\"\n",
    "\n",
    "def evaluate(a):\n",
    "    if (a == A):\n",
    "        z[1]=2\n",
    "    elif(a == B):\n",
    "        z[1]=1\n",
    "    elif(a == C):\n",
    "        z[1]=0\n",
    "    elif(a == D):\n",
    "        z[1]=-1\n",
    "\n",
    "alternativ = widgets.RadioButtons(options = [A, B, C, D], description = '', disabled = False, indent = False, align = 'center', layout={'width': 'max-content'}, value=None)\n",
    "    \n",
    "description_out = widgets.interactive_output(evaluate, {'a': alternativ})\n",
    "\n",
    "widgets.VBox([description_out, alternativ], layout=Layout(display='flex', flex_flow='column', align_items='stretch', width='auto'))\n"
   ]
  },
  {
   "cell_type": "code",
   "execution_count": 16,
   "metadata": {},
   "outputs": [
    {
     "name": "stdout",
     "output_type": "stream",
     "text": [
      "Les prisons sont :\n"
     ]
    },
    {
     "data": {
      "application/vnd.jupyter.widget-view+json": {
       "model_id": "1491639e102f4806b523ce12dd65e24e",
       "version_major": 2,
       "version_minor": 0
      },
      "text/plain": [
       "A Jupyter Widget"
      ]
     },
     "metadata": {},
     "output_type": "display_data"
    }
   ],
   "source": [
    "print('Les prisons sont :')\n",
    "\n",
    "A = \"Les meilleurs outils pour assurer la sécurité et le calme dans la société\"\n",
    "B = \"Des outils pour protéger la société des criminels les plus dangereux ou instables\"\n",
    "C = \"Des outils de punition et de vengeance : il faut privilégier au maximum la réparation et la réhabilitation des condamné.e.s\"\n",
    "D = \"Des structures qu'il faut abolir, mais il faut pouvoir contrôler les criminels violents pouvant récidiver\"\n",
    "E = \"Des structures qu'il faut abolir sans condition, la justice ne doit pas priver les gens de liberté\"\n",
    "\n",
    "def evaluate(a):\n",
    "    if (a == A):\n",
    "        x[2]=2\n",
    "    elif(a == B):\n",
    "        x[2]=1\n",
    "    elif(a == C):\n",
    "        x[2]=0\n",
    "        z[14]=-1\n",
    "    elif(a == D):\n",
    "        x[2]=-1\n",
    "        z[14]=-1\n",
    "    elif(a == E):\n",
    "        x[2]=-2\n",
    "\n",
    "alternativ = widgets.RadioButtons(options = [A, B, C, D, E], description = '', disabled = False, indent = False, align = 'center', layout={'width': 'max-content'}, value=None)\n",
    "    \n",
    "description_out = widgets.interactive_output(evaluate, {'a': alternativ})\n",
    "\n",
    "widgets.VBox([description_out, alternativ], layout=Layout(display='flex', flex_flow='column', align_items='stretch', width='auto'))\n"
   ]
  },
  {
   "cell_type": "code",
   "execution_count": 10,
   "metadata": {},
   "outputs": [
    {
     "name": "stdout",
     "output_type": "stream",
     "text": [
      "Le maintien de l'ordre...\n"
     ]
    },
    {
     "data": {
      "application/vnd.jupyter.widget-view+json": {
       "model_id": "acfcf52087f14dd28559255dfcf426f9",
       "version_major": 2,
       "version_minor": 0
      },
      "text/plain": [
       "A Jupyter Widget"
      ]
     },
     "metadata": {},
     "output_type": "display_data"
    }
   ],
   "source": [
    "print('Le maintien de l\\'ordre...')\n",
    "\n",
    "A = \"... Doit être effectué par une police de métier ayant le droit d'employer la force autant qu'elle le juge nécessaire\"\n",
    "B = \"... Doit être effectue par une police de métier ne possédant pas d'armes létales et pouvant être controlée\"\n",
    "C = \"... Doit être effectué par un corps de personnes mandatées et contrôlées par la population, ayant reçu une formation pour être dans le respect et la non-violence\"\n",
    "D = \"... Ne doit pas être effectué\"\n",
    "\n",
    "def evaluate(a):\n",
    "    if (a == A):\n",
    "        x[3]=3\n",
    "    elif(a == B):\n",
    "        x[3]=1\n",
    "    elif(a == C):\n",
    "        x[3]=-1\n",
    "    elif(a == D):\n",
    "        x[3]=-2\n",
    "\n",
    "alternativ = widgets.RadioButtons(options = [A, B, C, D], description = '', disabled = False, indent = False, align = 'center', layout={'width': 'max-content'}, value=None)\n",
    "    \n",
    "description_out = widgets.interactive_output(evaluate, {'a': alternativ})\n",
    "\n",
    "widgets.VBox([description_out, alternativ], layout=Layout(display='flex', flex_flow='column', align_items='stretch', width='auto'))\n"
   ]
  },
  {
   "cell_type": "code",
   "execution_count": 11,
   "metadata": {},
   "outputs": [
    {
     "name": "stdout",
     "output_type": "stream",
     "text": [
      "Que penses-tu des impôts ?\n"
     ]
    },
    {
     "data": {
      "application/vnd.jupyter.widget-view+json": {
       "model_id": "4d3cd8bda1bf479bb919fdb6c83aaeda",
       "version_major": 2,
       "version_minor": 0
      },
      "text/plain": [
       "A Jupyter Widget"
      ]
     },
     "metadata": {},
     "output_type": "display_data"
    }
   ],
   "source": [
    "print('Que penses-tu des impôts ?')\n",
    "\n",
    "A = \"Ils doivent être les mêmes pour toustes : chacun.e doit contribuer également aux services publics\"\n",
    "B = \"Ils doivent être égalitaires et progressifs : les riches doivent être fortement taxés et les pauvres, peu\"\n",
    "C = \"Ils ne devraient pas exister : chacun.e doit payer pour les services sont iel a besoin\"\n",
    "D = \"Ils ne devraient pas exister : nous n'avons besoin ni d'argent, ni d'état pour offrir des services publics de qualité et faire preuve de solidarité\"\n",
    "\n",
    "def evaluate(a):\n",
    "    if (a == A):\n",
    "        y[2]=1\n",
    "    elif(a == B):\n",
    "        y[2]=-1\n",
    "    elif(a == C):\n",
    "        y[2]=2\n",
    "    elif(a == D):\n",
    "        y[2]=-1\n",
    "        x[15]=-1\n",
    "\n",
    "alternativ = widgets.RadioButtons(options = [A, B, C, D], description = '', disabled = False, indent = False, align = 'center', layout={'width': 'max-content'}, value=None)\n",
    "    \n",
    "description_out = widgets.interactive_output(evaluate, {'a': alternativ})\n",
    "\n",
    "widgets.VBox([description_out, alternativ], layout=Layout(display='flex', flex_flow='column', align_items='stretch', width='auto'))\n"
   ]
  },
  {
   "cell_type": "code",
   "execution_count": 17,
   "metadata": {},
   "outputs": [
    {
     "name": "stdout",
     "output_type": "stream",
     "text": [
      "Le coût du travail :\n"
     ]
    },
    {
     "data": {
      "application/vnd.jupyter.widget-view+json": {
       "model_id": "dfc9cf21a75c415c8f405e4f1e109930",
       "version_major": 2,
       "version_minor": 0
      },
      "text/plain": [
       "A Jupyter Widget"
      ]
     },
     "metadata": {},
     "output_type": "display_data"
    }
   ],
   "source": [
    "print('Le coût du travail :')\n",
    "\n",
    "A = \"Est trop élevé, il faut réduire les dépenses des créateurs d'emplois\"\n",
    "B = \"Est trop faible, il faut mieux rémunérer les travailleureuses\"\n",
    "C = \"Est une absurdité, le travail ne coûte rien puisqu'il produit tout\"\n",
    "\n",
    "def evaluate(a):\n",
    "    if (a == A):\n",
    "        y[3]=1\n",
    "    elif(a == B):\n",
    "        y[3]=-1\n",
    "    elif(a == C):\n",
    "        y[3]=-3\n",
    "\n",
    "alternativ = widgets.RadioButtons(options = [A, B, C], description = '', disabled = False, indent = False, align = 'center', layout={'width': 'max-content'}, value=None)\n",
    "    \n",
    "description_out = widgets.interactive_output(evaluate, {'a': alternativ})\n",
    "\n",
    "widgets.VBox([description_out, alternativ], layout=Layout(display='flex', flex_flow='column', align_items='stretch', width='auto'))\n"
   ]
  },
  {
   "cell_type": "code",
   "execution_count": 13,
   "metadata": {},
   "outputs": [
    {
     "name": "stdout",
     "output_type": "stream",
     "text": [
      "Une relation entre deux personnes du même sexe est :\n"
     ]
    },
    {
     "data": {
      "application/vnd.jupyter.widget-view+json": {
       "model_id": "6affd21655784e529188ced028cccb17",
       "version_major": 2,
       "version_minor": 0
      },
      "text/plain": [
       "A Jupyter Widget"
      ]
     },
     "metadata": {},
     "output_type": "display_data"
    }
   ],
   "source": [
    "print('Une relation entre deux personnes du même sexe est :')\n",
    "\n",
    "A = \"Normale : ces personnes doivent avoir exactement les mêmes droits que les couples hétérosexuels\"\n",
    "B = \"Normale mais certains droits, comme ceux d'avoir des enfants, ne devraient pas être attribuée systématiquement\"\n",
    "C = \"Contre nature, mais les gens sont libres\"\n",
    "D = \"Honteuse : il faut interdire ce genre de relations\"\n",
    "\n",
    "def evaluate(a):\n",
    "    if (a == A):\n",
    "        z[2]=-1\n",
    "    elif(a == B):\n",
    "        z[2]=0\n",
    "    elif(a == C):\n",
    "        z[2]=2\n",
    "    elif(a == D):\n",
    "        z[2]=3\n",
    "\n",
    "alternativ = widgets.RadioButtons(options = [A, B, C, D], description = '', disabled = False, indent = False, align = 'center', layout={'width': 'max-content'}, value=None)\n",
    "    \n",
    "description_out = widgets.interactive_output(evaluate, {'a': alternativ})\n",
    "\n",
    "widgets.VBox([description_out, alternativ], layout=Layout(display='flex', flex_flow='column', align_items='stretch', width='auto'))\n"
   ]
  },
  {
   "cell_type": "code",
   "execution_count": 18,
   "metadata": {},
   "outputs": [
    {
     "name": "stdout",
     "output_type": "stream",
     "text": [
      "Les religions :\n"
     ]
    },
    {
     "data": {
      "application/vnd.jupyter.widget-view+json": {
       "model_id": "e0728b25e6e64cd29d2d9f500caa1ba0",
       "version_major": 2,
       "version_minor": 0
      },
      "text/plain": [
       "A Jupyter Widget"
      ]
     },
     "metadata": {},
     "output_type": "display_data"
    }
   ],
   "source": [
    "print('Les religions :')\n",
    "\n",
    "A = \"Doivent gouverner la société\"\n",
    "B = \"Doivent être respectées, surtout la mienne\"\n",
    "C = \"Ne doivent pas interférer avec les choix de société\"\n",
    "D = \"Sont des instruments d'aliénation et des vecteurs d'oppresions, il faut les combattre\"\n",
    "\n",
    "def evaluate(a):\n",
    "    if (a == A):\n",
    "        z[3]=2\n",
    "    elif(a == B):\n",
    "        z[3]=1\n",
    "    elif(a == C):\n",
    "        z[3]=0\n",
    "    elif(a == D):\n",
    "        z[3]=-2\n",
    "\n",
    "alternativ = widgets.RadioButtons(options = [A, B, C, D], description = '', disabled = False, indent = False, align = 'center', layout={'width': 'max-content'}, value=None)\n",
    "    \n",
    "description_out = widgets.interactive_output(evaluate, {'a': alternativ})\n",
    "\n",
    "widgets.VBox([description_out, alternativ], layout=Layout(display='flex', flex_flow='column', align_items='stretch', width='auto'))\n"
   ]
  },
  {
   "cell_type": "code",
   "execution_count": 3,
   "metadata": {},
   "outputs": [
    {
     "name": "stdout",
     "output_type": "stream",
     "text": [
      "Un système politique à parti unique est :\n"
     ]
    },
    {
     "data": {
      "application/vnd.jupyter.widget-view+json": {
       "model_id": "be2539338e264061ac3c145ac64ae903",
       "version_major": 2,
       "version_minor": 0
      },
      "text/plain": [
       "A Jupyter Widget"
      ]
     },
     "metadata": {},
     "output_type": "display_data"
    }
   ],
   "source": [
    "print('Un système politique à parti unique est :')\n",
    "\n",
    "A = \"Un système autoritaire\"\n",
    "B = \"Un système imparfait mais ayant certains avantages\"\n",
    "C = \"Un système politiquement stable\"\n",
    "\n",
    "def evaluate(a):\n",
    "    if (a == A):\n",
    "        x[4]=-1\n",
    "    elif(a == B):\n",
    "        x[4]=1\n",
    "    elif(a == C):\n",
    "        x[4]=2\n",
    "\n",
    "alternativ = widgets.RadioButtons(options = [A, B, C], description = '', disabled = False, indent = False, align = 'center', layout={'width': 'max-content'}, value=None)\n",
    "    \n",
    "description_out = widgets.interactive_output(evaluate, {'a': alternativ})\n",
    "\n",
    "widgets.VBox([description_out, alternativ], layout=Layout(display='flex', flex_flow='column', align_items='stretch', width='auto'))\n"
   ]
  },
  {
   "cell_type": "code",
   "execution_count": 15,
   "metadata": {},
   "outputs": [
    {
     "data": {
      "text/plain": [
       "' print(\\'\\')\\n\\nA = \"\"\\nB = \"\"\\nC = \"\"\\nD = \"\"\\n\\ndef evaluate(a):\\n    if (a == A):\\n        \\n    elif(a == B):\\n        \\n    elif(a == C):\\n        \\n    elif(a == D):\\n        \\n\\nalternativ = widgets.RadioButtons(options = [A, B, C, D], description = \\'\\', disabled = False, indent = False, align = \\'center\\', layout={\\'width\\': \\'max-content\\'}, value=None)\\n    \\ndescription_out = widgets.interactive_output(evaluate, {\\'a\\': alternativ})\\n\\nwidgets.VBox([description_out, alternativ], layout=Layout(display=\\'flex\\', flex_flow=\\'column\\', align_items=\\'stretch\\', width=\\'auto\\'))\\n'"
      ]
     },
     "execution_count": 15,
     "metadata": {},
     "output_type": "execute_result"
    }
   ],
   "source": [
    "print('Les musées :')\n",
    "\n",
    "A = \"Sont inutiles\"\n",
    "B = \"Sont de plus en plus remplis de fausses oeuvres d'art\"\n",
    "C = \"Sont importants pour la vie culturelle de la société\"\n",
    "D = \"Sont malheureusement réservés aux personnes privilégiées\"\n",
    "\n",
    "def evaluate(a):\n",
    "    if (a == A):\n",
    "        x[5]=2\n",
    "    elif(a == B):\n",
    "        x[5]=0\n",
    "    elif(a == C):\n",
    "        x[5]=-1\n",
    "    elif(a == D):\n",
    "        x[5]=-2\n",
    "\n",
    "alternativ = widgets.RadioButtons(options = [A, B, C, D], description = '', disabled = False, indent = False, align = 'center', layout={'width': 'max-content'}, value=None)\n",
    "    \n",
    "description_out = widgets.interactive_output(evaluate, {'a': alternativ})\n",
    "\n",
    "widgets.VBox([description_out, alternativ], layout=Layout(display='flex', flex_flow='column', align_items='stretch', width='auto'))\n"
   ]
  },
  {
   "cell_type": "code",
   "execution_count": 15,
   "metadata": {},
   "outputs": [
    {
     "data": {
      "text/plain": [
       "' print(\\'\\')\\n\\nA = \"\"\\nB = \"\"\\nC = \"\"\\nD = \"\"\\n\\ndef evaluate(a):\\n    if (a == A):\\n        \\n    elif(a == B):\\n        \\n    elif(a == C):\\n        \\n    elif(a == D):\\n        \\n\\nalternativ = widgets.RadioButtons(options = [A, B, C, D], description = \\'\\', disabled = False, indent = False, align = \\'center\\', layout={\\'width\\': \\'max-content\\'}, value=None)\\n    \\ndescription_out = widgets.interactive_output(evaluate, {\\'a\\': alternativ})\\n\\nwidgets.VBox([description_out, alternativ], layout=Layout(display=\\'flex\\', flex_flow=\\'column\\', align_items=\\'stretch\\', width=\\'auto\\'))\\n'"
      ]
     },
     "execution_count": 15,
     "metadata": {},
     "output_type": "execute_result"
    }
   ],
   "source": [
    "print('Les syndicats :')\n",
    "\n",
    "A = \"Sont un frein aux employeurs et aux salariés, il faut les interdire\"\n",
    "B = \"Sont utiles mais sont trop souvent dans la confrontation et pas assez dans le dialogue social\"\n",
    "C = \"Sont des structures cruciales garantissant le respect des droits de toustes les travailleureuses et permettant des avancées sociales\"\n",
    "D = \"Sont très importants, mais deviennent inutiles dans le cadre d'un pouvoir et d'une économie socialiste\"\n",
    "\n",
    "def evaluate(a):\n",
    "    if (a == A):\n",
    "        y[4]=2\n",
    "        x[16]=2\n",
    "    elif(a == B):\n",
    "        y[4]=1\n",
    "    elif(a == C):\n",
    "        y[4]=-2\n",
    "    elif(a == D):\n",
    "        y[4]=-2\n",
    "        x[16]=1\n",
    "\n",
    "alternativ = widgets.RadioButtons(options = [A, B, C, D], description = '', disabled = False, indent = False, align = 'center', layout={'width': 'max-content'}, value=None)\n",
    "    \n",
    "description_out = widgets.interactive_output(evaluate, {'a': alternativ})\n",
    "\n",
    "widgets.VBox([description_out, alternativ], layout=Layout(display='flex', flex_flow='column', align_items='stretch', width='auto'))\n"
   ]
  },
  {
   "cell_type": "code",
   "execution_count": 15,
   "metadata": {},
   "outputs": [
    {
     "data": {
      "text/plain": [
       "' print(\\'\\')\\n\\nA = \"\"\\nB = \"\"\\nC = \"\"\\nD = \"\"\\n\\ndef evaluate(a):\\n    if (a == A):\\n        \\n    elif(a == B):\\n        \\n    elif(a == C):\\n        \\n    elif(a == D):\\n        \\n\\nalternativ = widgets.RadioButtons(options = [A, B, C, D], description = \\'\\', disabled = False, indent = False, align = \\'center\\', layout={\\'width\\': \\'max-content\\'}, value=None)\\n    \\ndescription_out = widgets.interactive_output(evaluate, {\\'a\\': alternativ})\\n\\nwidgets.VBox([description_out, alternativ], layout=Layout(display=\\'flex\\', flex_flow=\\'column\\', align_items=\\'stretch\\', width=\\'auto\\'))\\n'"
      ]
     },
     "execution_count": 15,
     "metadata": {},
     "output_type": "execute_result"
    }
   ],
   "source": [
    "print('Faut-il attacher une importance à la croissance économique ?')\n",
    "\n",
    "A = \"Non, elle ne fait que détruire l'environnement\"\n",
    "B = \"Oui, elle permet de réduire les inégalités économiques, mais il faut la limiter\"\n",
    "C = \"Oui, elle permet à la société de s'enrichir et d'augmenter son confort\"\n",
    "D = \"Peu importe, l'important et de quitter les modes de production capitalistes\"\n",
    "\n",
    "def evaluate(a):\n",
    "    if (a == A):\n",
    "        y[5]=-1\n",
    "    elif(a == B):\n",
    "        y[5]=0\n",
    "    elif(a == C):\n",
    "        y[5]=1\n",
    "    elif(a == D):\n",
    "        y[5]=-2\n",
    "\n",
    "alternativ = widgets.RadioButtons(options = [A, B, C, D], description = '', disabled = False, indent = False, align = 'center', layout={'width': 'max-content'}, value=None)\n",
    "    \n",
    "description_out = widgets.interactive_output(evaluate, {'a': alternativ})\n",
    "\n",
    "widgets.VBox([description_out, alternativ], layout=Layout(display='flex', flex_flow='column', align_items='stretch', width='auto'))\n"
   ]
  },
  {
   "cell_type": "code",
   "execution_count": 15,
   "metadata": {},
   "outputs": [
    {
     "data": {
      "text/plain": [
       "' print(\\'\\')\\n\\nA = \"\"\\nB = \"\"\\nC = \"\"\\nD = \"\"\\n\\ndef evaluate(a):\\n    if (a == A):\\n        \\n    elif(a == B):\\n        \\n    elif(a == C):\\n        \\n    elif(a == D):\\n        \\n\\nalternativ = widgets.RadioButtons(options = [A, B, C, D], description = \\'\\', disabled = False, indent = False, align = \\'center\\', layout={\\'width\\': \\'max-content\\'}, value=None)\\n    \\ndescription_out = widgets.interactive_output(evaluate, {\\'a\\': alternativ})\\n\\nwidgets.VBox([description_out, alternativ], layout=Layout(display=\\'flex\\', flex_flow=\\'column\\', align_items=\\'stretch\\', width=\\'auto\\'))\\n'"
      ]
     },
     "execution_count": 15,
     "metadata": {},
     "output_type": "execute_result"
    }
   ],
   "source": [
    "print('Faut-il lutter contre les violences sexistes et sexuelles ?')\n",
    "\n",
    "A = \"Oui, il y a encore beaucoup de chemin à faire\"\n",
    "B = \"Oui, mais ce n'est pas une priorité, ces violences sont très faibles\"\n",
    "C = \"Ce n'est plus une nécessité, ces violences ont quasiment disparu\"\n",
    "D = \"Oui, car ce sont les hommes qui en sont victimes depuis que le féminisme les prive de leur liberté\"\n",
    "\n",
    "def evaluate(a):\n",
    "    if (a == A):\n",
    "        z[4]=-2\n",
    "    elif(a == B):\n",
    "        z[4]=-1\n",
    "    elif(a == C):\n",
    "        z[4]=1\n",
    "    elif(a == D):\n",
    "        z[4]=2\n",
    "\n",
    "alternativ = widgets.RadioButtons(options = [A, B, C, D], description = '', disabled = False, indent = False, align = 'center', layout={'width': 'max-content'}, value=None)\n",
    "    \n",
    "description_out = widgets.interactive_output(evaluate, {'a': alternativ})\n",
    "\n",
    "widgets.VBox([description_out, alternativ], layout=Layout(display='flex', flex_flow='column', align_items='stretch', width='auto'))\n"
   ]
  },
  {
   "cell_type": "code",
   "execution_count": 5,
   "metadata": {},
   "outputs": [
    {
     "name": "stdout",
     "output_type": "stream",
     "text": [
      "Les transidentités... \n"
     ]
    },
    {
     "data": {
      "application/vnd.jupyter.widget-view+json": {
       "model_id": "3d8b25031ee94653975f902c4e7ad475",
       "version_major": 2,
       "version_minor": 0
      },
      "text/plain": [
       "A Jupyter Widget"
      ]
     },
     "metadata": {},
     "output_type": "display_data"
    }
   ],
   "source": [
    "print('Les transidentités... ')\n",
    "\n",
    "A = \"... Doivent être respectées\"\n",
    "B = \"... Sont un caprice et un effet de mode\"\n",
    "C = \"... Sont un outil des hommes pour s'infiltrer parmi les femmes\"\n",
    "D = \"... Sont une abomination\"\n",
    "\n",
    "def evaluate(a):\n",
    "    if (a == A):\n",
    "        z[5]=-1\n",
    "    elif(a == B):\n",
    "        z[5]=2\n",
    "    elif(a == C):\n",
    "        z[5]=1\n",
    "    elif(a == D):\n",
    "        z[5]=3\n",
    "\n",
    "alternativ = widgets.RadioButtons(options = [A, B, C, D], description = '', disabled = False, indent = False, align = 'center', layout={'width': 'max-content'}, value=None)\n",
    "    \n",
    "description_out = widgets.interactive_output(evaluate, {'a': alternativ})\n",
    "\n",
    "widgets.VBox([description_out, alternativ], layout=Layout(display='flex', flex_flow='column', align_items='stretch', width='auto'))\n"
   ]
  },
  {
   "cell_type": "code",
   "execution_count": 15,
   "metadata": {},
   "outputs": [
    {
     "data": {
      "text/plain": [
       "' print(\\'\\')\\n\\nA = \"\"\\nB = \"\"\\nC = \"\"\\nD = \"\"\\n\\ndef evaluate(a):\\n    if (a == A):\\n        \\n    elif(a == B):\\n        \\n    elif(a == C):\\n        \\n    elif(a == D):\\n        \\n\\nalternativ = widgets.RadioButtons(options = [A, B, C, D], description = \\'\\', disabled = False, indent = False, align = \\'center\\', layout={\\'width\\': \\'max-content\\'}, value=None)\\n    \\ndescription_out = widgets.interactive_output(evaluate, {\\'a\\': alternativ})\\n\\nwidgets.VBox([description_out, alternativ], layout=Layout(display=\\'flex\\', flex_flow=\\'column\\', align_items=\\'stretch\\', width=\\'auto\\'))\\n'"
      ]
     },
     "execution_count": 15,
     "metadata": {},
     "output_type": "execute_result"
    }
   ],
   "source": [
    "print('')\n",
    "\n",
    "A = \"\"\n",
    "B = \"\"\n",
    "C = \"\"\n",
    "D = \"\"\n",
    "\n",
    "def evaluate(a):\n",
    "    if (a == A):\n",
    "        \n",
    "    elif(a == B):\n",
    "        \n",
    "    elif(a == C):\n",
    "        \n",
    "    elif(a == D):\n",
    "        \n",
    "\n",
    "alternativ = widgets.RadioButtons(options = [A, B, C, D], description = '', disabled = False, indent = False, align = 'center', layout={'width': 'max-content'}, value=None)\n",
    "    \n",
    "description_out = widgets.interactive_output(evaluate, {'a': alternativ})\n",
    "\n",
    "widgets.VBox([description_out, alternativ], layout=Layout(display='flex', flex_flow='column', align_items='stretch', width='auto'))\n"
   ]
  },
  {
   "cell_type": "code",
   "execution_count": 15,
   "metadata": {},
   "outputs": [
    {
     "data": {
      "text/plain": [
       "' print(\\'\\')\\n\\nA = \"\"\\nB = \"\"\\nC = \"\"\\nD = \"\"\\n\\ndef evaluate(a):\\n    if (a == A):\\n        \\n    elif(a == B):\\n        \\n    elif(a == C):\\n        \\n    elif(a == D):\\n        \\n\\nalternativ = widgets.RadioButtons(options = [A, B, C, D], description = \\'\\', disabled = False, indent = False, align = \\'center\\', layout={\\'width\\': \\'max-content\\'}, value=None)\\n    \\ndescription_out = widgets.interactive_output(evaluate, {\\'a\\': alternativ})\\n\\nwidgets.VBox([description_out, alternativ], layout=Layout(display=\\'flex\\', flex_flow=\\'column\\', align_items=\\'stretch\\', width=\\'auto\\'))\\n'"
      ]
     },
     "execution_count": 15,
     "metadata": {},
     "output_type": "execute_result"
    }
   ],
   "source": [
    "print('')\n",
    "\n",
    "A = \"\"\n",
    "B = \"\"\n",
    "C = \"\"\n",
    "D = \"\"\n",
    "\n",
    "def evaluate(a):\n",
    "    if (a == A):\n",
    "        \n",
    "    elif(a == B):\n",
    "        \n",
    "    elif(a == C):\n",
    "        \n",
    "    elif(a == D):\n",
    "        \n",
    "\n",
    "alternativ = widgets.RadioButtons(options = [A, B, C, D], description = '', disabled = False, indent = False, align = 'center', layout={'width': 'max-content'}, value=None)\n",
    "    \n",
    "description_out = widgets.interactive_output(evaluate, {'a': alternativ})\n",
    "\n",
    "widgets.VBox([description_out, alternativ], layout=Layout(display='flex', flex_flow='column', align_items='stretch', width='auto'))\n"
   ]
  },
  {
   "cell_type": "code",
   "execution_count": 15,
   "metadata": {},
   "outputs": [
    {
     "data": {
      "text/plain": [
       "' print(\\'\\')\\n\\nA = \"\"\\nB = \"\"\\nC = \"\"\\nD = \"\"\\n\\ndef evaluate(a):\\n    if (a == A):\\n        \\n    elif(a == B):\\n        \\n    elif(a == C):\\n        \\n    elif(a == D):\\n        \\n\\nalternativ = widgets.RadioButtons(options = [A, B, C, D], description = \\'\\', disabled = False, indent = False, align = \\'center\\', layout={\\'width\\': \\'max-content\\'}, value=None)\\n    \\ndescription_out = widgets.interactive_output(evaluate, {\\'a\\': alternativ})\\n\\nwidgets.VBox([description_out, alternativ], layout=Layout(display=\\'flex\\', flex_flow=\\'column\\', align_items=\\'stretch\\', width=\\'auto\\'))\\n'"
      ]
     },
     "execution_count": 15,
     "metadata": {},
     "output_type": "execute_result"
    }
   ],
   "source": [
    "print('')\n",
    "\n",
    "A = \"\"\n",
    "B = \"\"\n",
    "C = \"\"\n",
    "D = \"\"\n",
    "\n",
    "def evaluate(a):\n",
    "    if (a == A):\n",
    "        \n",
    "    elif(a == B):\n",
    "        \n",
    "    elif(a == C):\n",
    "        \n",
    "    elif(a == D):\n",
    "        \n",
    "\n",
    "alternativ = widgets.RadioButtons(options = [A, B, C, D], description = '', disabled = False, indent = False, align = 'center', layout={'width': 'max-content'}, value=None)\n",
    "    \n",
    "description_out = widgets.interactive_output(evaluate, {'a': alternativ})\n",
    "\n",
    "widgets.VBox([description_out, alternativ], layout=Layout(display='flex', flex_flow='column', align_items='stretch', width='auto'))\n"
   ]
  },
  {
   "cell_type": "code",
   "execution_count": 15,
   "metadata": {},
   "outputs": [
    {
     "data": {
      "text/plain": [
       "' print(\\'\\')\\n\\nA = \"\"\\nB = \"\"\\nC = \"\"\\nD = \"\"\\n\\ndef evaluate(a):\\n    if (a == A):\\n        \\n    elif(a == B):\\n        \\n    elif(a == C):\\n        \\n    elif(a == D):\\n        \\n\\nalternativ = widgets.RadioButtons(options = [A, B, C, D], description = \\'\\', disabled = False, indent = False, align = \\'center\\', layout={\\'width\\': \\'max-content\\'}, value=None)\\n    \\ndescription_out = widgets.interactive_output(evaluate, {\\'a\\': alternativ})\\n\\nwidgets.VBox([description_out, alternativ], layout=Layout(display=\\'flex\\', flex_flow=\\'column\\', align_items=\\'stretch\\', width=\\'auto\\'))\\n'"
      ]
     },
     "execution_count": 15,
     "metadata": {},
     "output_type": "execute_result"
    }
   ],
   "source": [
    "print('')\n",
    "\n",
    "A = \"\"\n",
    "B = \"\"\n",
    "C = \"\"\n",
    "D = \"\"\n",
    "\n",
    "def evaluate(a):\n",
    "    if (a == A):\n",
    "        \n",
    "    elif(a == B):\n",
    "        \n",
    "    elif(a == C):\n",
    "        \n",
    "    elif(a == D):\n",
    "        \n",
    "\n",
    "alternativ = widgets.RadioButtons(options = [A, B, C, D], description = '', disabled = False, indent = False, align = 'center', layout={'width': 'max-content'}, value=None)\n",
    "    \n",
    "description_out = widgets.interactive_output(evaluate, {'a': alternativ})\n",
    "\n",
    "widgets.VBox([description_out, alternativ], layout=Layout(display='flex', flex_flow='column', align_items='stretch', width='auto'))\n"
   ]
  },
  {
   "cell_type": "code",
   "execution_count": 15,
   "metadata": {},
   "outputs": [
    {
     "data": {
      "text/plain": [
       "' print(\\'\\')\\n\\nA = \"\"\\nB = \"\"\\nC = \"\"\\nD = \"\"\\n\\ndef evaluate(a):\\n    if (a == A):\\n        \\n    elif(a == B):\\n        \\n    elif(a == C):\\n        \\n    elif(a == D):\\n        \\n\\nalternativ = widgets.RadioButtons(options = [A, B, C, D], description = \\'\\', disabled = False, indent = False, align = \\'center\\', layout={\\'width\\': \\'max-content\\'}, value=None)\\n    \\ndescription_out = widgets.interactive_output(evaluate, {\\'a\\': alternativ})\\n\\nwidgets.VBox([description_out, alternativ], layout=Layout(display=\\'flex\\', flex_flow=\\'column\\', align_items=\\'stretch\\', width=\\'auto\\'))\\n'"
      ]
     },
     "execution_count": 15,
     "metadata": {},
     "output_type": "execute_result"
    }
   ],
   "source": [
    "print('')\n",
    "\n",
    "A = \"\"\n",
    "B = \"\"\n",
    "C = \"\"\n",
    "D = \"\"\n",
    "\n",
    "def evaluate(a):\n",
    "    if (a == A):\n",
    "        \n",
    "    elif(a == B):\n",
    "        \n",
    "    elif(a == C):\n",
    "        \n",
    "    elif(a == D):\n",
    "        \n",
    "\n",
    "alternativ = widgets.RadioButtons(options = [A, B, C, D], description = '', disabled = False, indent = False, align = 'center', layout={'width': 'max-content'}, value=None)\n",
    "    \n",
    "description_out = widgets.interactive_output(evaluate, {'a': alternativ})\n",
    "\n",
    "widgets.VBox([description_out, alternativ], layout=Layout(display='flex', flex_flow='column', align_items='stretch', width='auto'))\n"
   ]
  },
  {
   "cell_type": "code",
   "execution_count": 15,
   "metadata": {},
   "outputs": [
    {
     "data": {
      "text/plain": [
       "' print(\\'\\')\\n\\nA = \"\"\\nB = \"\"\\nC = \"\"\\nD = \"\"\\n\\ndef evaluate(a):\\n    if (a == A):\\n        \\n    elif(a == B):\\n        \\n    elif(a == C):\\n        \\n    elif(a == D):\\n        \\n\\nalternativ = widgets.RadioButtons(options = [A, B, C, D], description = \\'\\', disabled = False, indent = False, align = \\'center\\', layout={\\'width\\': \\'max-content\\'}, value=None)\\n    \\ndescription_out = widgets.interactive_output(evaluate, {\\'a\\': alternativ})\\n\\nwidgets.VBox([description_out, alternativ], layout=Layout(display=\\'flex\\', flex_flow=\\'column\\', align_items=\\'stretch\\', width=\\'auto\\'))\\n'"
      ]
     },
     "execution_count": 15,
     "metadata": {},
     "output_type": "execute_result"
    }
   ],
   "source": [
    "print('')\n",
    "\n",
    "A = \"\"\n",
    "B = \"\"\n",
    "C = \"\"\n",
    "D = \"\"\n",
    "\n",
    "def evaluate(a):\n",
    "    if (a == A):\n",
    "        \n",
    "    elif(a == B):\n",
    "        \n",
    "    elif(a == C):\n",
    "        \n",
    "    elif(a == D):\n",
    "        \n",
    "\n",
    "alternativ = widgets.RadioButtons(options = [A, B, C, D], description = '', disabled = False, indent = False, align = 'center', layout={'width': 'max-content'}, value=None)\n",
    "    \n",
    "description_out = widgets.interactive_output(evaluate, {'a': alternativ})\n",
    "\n",
    "widgets.VBox([description_out, alternativ], layout=Layout(display='flex', flex_flow='column', align_items='stretch', width='auto'))\n"
   ]
  },
  {
   "cell_type": "code",
   "execution_count": 15,
   "metadata": {},
   "outputs": [
    {
     "data": {
      "text/plain": [
       "' print(\\'\\')\\n\\nA = \"\"\\nB = \"\"\\nC = \"\"\\nD = \"\"\\n\\ndef evaluate(a):\\n    if (a == A):\\n        \\n    elif(a == B):\\n        \\n    elif(a == C):\\n        \\n    elif(a == D):\\n        \\n\\nalternativ = widgets.RadioButtons(options = [A, B, C, D], description = \\'\\', disabled = False, indent = False, align = \\'center\\', layout={\\'width\\': \\'max-content\\'}, value=None)\\n    \\ndescription_out = widgets.interactive_output(evaluate, {\\'a\\': alternativ})\\n\\nwidgets.VBox([description_out, alternativ], layout=Layout(display=\\'flex\\', flex_flow=\\'column\\', align_items=\\'stretch\\', width=\\'auto\\'))\\n'"
      ]
     },
     "execution_count": 15,
     "metadata": {},
     "output_type": "execute_result"
    }
   ],
   "source": [
    "print('')\n",
    "\n",
    "A = \"\"\n",
    "B = \"\"\n",
    "C = \"\"\n",
    "D = \"\"\n",
    "\n",
    "def evaluate(a):\n",
    "    if (a == A):\n",
    "        \n",
    "    elif(a == B):\n",
    "        \n",
    "    elif(a == C):\n",
    "        \n",
    "    elif(a == D):\n",
    "        \n",
    "\n",
    "alternativ = widgets.RadioButtons(options = [A, B, C, D], description = '', disabled = False, indent = False, align = 'center', layout={'width': 'max-content'}, value=None)\n",
    "    \n",
    "description_out = widgets.interactive_output(evaluate, {'a': alternativ})\n",
    "\n",
    "widgets.VBox([description_out, alternativ], layout=Layout(display='flex', flex_flow='column', align_items='stretch', width='auto'))\n"
   ]
  },
  {
   "cell_type": "code",
   "execution_count": 15,
   "metadata": {},
   "outputs": [
    {
     "data": {
      "text/plain": [
       "' print(\\'\\')\\n\\nA = \"\"\\nB = \"\"\\nC = \"\"\\nD = \"\"\\n\\ndef evaluate(a):\\n    if (a == A):\\n        \\n    elif(a == B):\\n        \\n    elif(a == C):\\n        \\n    elif(a == D):\\n        \\n\\nalternativ = widgets.RadioButtons(options = [A, B, C, D], description = \\'\\', disabled = False, indent = False, align = \\'center\\', layout={\\'width\\': \\'max-content\\'}, value=None)\\n    \\ndescription_out = widgets.interactive_output(evaluate, {\\'a\\': alternativ})\\n\\nwidgets.VBox([description_out, alternativ], layout=Layout(display=\\'flex\\', flex_flow=\\'column\\', align_items=\\'stretch\\', width=\\'auto\\'))\\n'"
      ]
     },
     "execution_count": 15,
     "metadata": {},
     "output_type": "execute_result"
    }
   ],
   "source": [
    "print('')\n",
    "\n",
    "A = \"\"\n",
    "B = \"\"\n",
    "C = \"\"\n",
    "D = \"\"\n",
    "\n",
    "def evaluate(a):\n",
    "    if (a == A):\n",
    "        \n",
    "    elif(a == B):\n",
    "        \n",
    "    elif(a == C):\n",
    "        \n",
    "    elif(a == D):\n",
    "        \n",
    "\n",
    "alternativ = widgets.RadioButtons(options = [A, B, C, D], description = '', disabled = False, indent = False, align = 'center', layout={'width': 'max-content'}, value=None)\n",
    "    \n",
    "description_out = widgets.interactive_output(evaluate, {'a': alternativ})\n",
    "\n",
    "widgets.VBox([description_out, alternativ], layout=Layout(display='flex', flex_flow='column', align_items='stretch', width='auto'))\n"
   ]
  },
  {
   "cell_type": "code",
   "execution_count": null,
   "metadata": {
    "collapsed": true
   },
   "outputs": [],
   "source": []
  },
  {
   "cell_type": "code",
   "execution_count": null,
   "metadata": {
    "collapsed": true
   },
   "outputs": [],
   "source": []
  }
 ],
 "metadata": {
  "kernelspec": {
   "display_name": "Python 3",
   "language": "python",
   "name": "python3"
  },
  "language_info": {
   "codemirror_mode": {
    "name": "ipython",
    "version": 3
   },
   "file_extension": ".py",
   "mimetype": "text/x-python",
   "name": "python",
   "nbconvert_exporter": "python",
   "pygments_lexer": "ipython3",
   "version": "3.6.3"
  }
 },
 "nbformat": 4,
 "nbformat_minor": 2
}
