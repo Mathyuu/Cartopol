{
 "cells": [
  {
   "cell_type": "code",
   "execution_count": 1,
   "metadata": {},
   "outputs": [
    {
     "name": "stdout",
     "output_type": "stream",
     "text": [
      "Cette cartographie politique inspirée du Political Compass et de ses dérivés va te placer dans un espace politique 3D dirigé par trois axes :\n",
      "- Un axe de la « liberté » qui traduira ton rapport à l'autorité et notamment à l'état.\n",
      "- Un axe de l'« économie » qui traduira ton rapport au capitalisme, au productivisme et donc également à l'environnement.\n",
      "- Un axe du « conservatisme » qui traduira ton rapport aux questions dites de société, cet axe est le plus proche du traditionnel axe « droite - gauche ».\n",
      "Ainsi ce test te fournira une position politique assez riche et te proposera les courants les plus proches de cette dernière. C'est parti !\n"
     ]
    }
   ],
   "source": [
    "# -*- coding: utf-8 -*-\n",
    "\n",
    "import numpy as np\n",
    "import matplotlib.pyplot as plt\n",
    "from mpl_toolkits import mplot3d\n",
    "from ipywidgets import widgets, Layout, Box\n",
    "\n",
    "print('Cette cartographie politique inspirée du Political Compass et de ses dérivés va te placer dans un espace politique 3D dirigé par trois axes :')\n",
    "print('- Un axe de la « liberté » qui traduira ton rapport à l\\'autorité et notamment à l\\'état.')\n",
    "print('- Un axe de l\\'« économie » qui traduira ton rapport au capitalisme, au productivisme et donc également à l\\'environnement.')\n",
    "print('- Un axe du « conservatisme » qui traduira ton rapport aux questions dites de société, cet axe est le plus proche du traditionnel axe « droite - gauche ».')\n",
    "print('Ainsi ce test te fournira une position politique assez riche et te proposera les courants les plus proches de cette dernière. C\\'est parti !')\n",
    "\n",
    "x = np.zeros(32) #Liberté -> autorité\n",
    "y = np.zeros(32) #Antiproductivisme -> productivisme\n",
    "z = np.zeros(32) #Progressisme -> conservatisme"
   ]
  },
  {
   "cell_type": "code",
   "execution_count": 54,
   "metadata": {
    "scrolled": true
   },
   "outputs": [
    {
     "name": "stdout",
     "output_type": "stream",
     "text": [
      "Les frontières entre pays sont :\n"
     ]
    },
    {
     "data": {
      "application/vnd.jupyter.widget-view+json": {
       "model_id": "267b8f89ce1e4039a41e95b0ce8639a9",
       "version_major": 2,
       "version_minor": 0
      },
      "text/plain": [
       "A Jupyter Widget"
      ]
     },
     "metadata": {},
     "output_type": "display_data"
    }
   ],
   "source": [
    "print('Les frontières entre pays sont :')\n",
    "\n",
    "def evaluate(a):\n",
    "    if (a == 'Un outil crucial pour protéger les civilisations'):\n",
    "        x[0]=2\n",
    "    elif(a == 'Les produits d\\'une histoire et d\\'une géographie, qu\\'il faut défendre'):\n",
    "        x[0]=1\n",
    "    elif(a == 'Un mal nécessaire'):\n",
    "        x[0]=0\n",
    "    elif(a == 'Une aberration qu\\'il faut abolir'):\n",
    "        x[0]=-2\n",
    "\n",
    "alternativ = widgets.RadioButtons(\n",
    "    options = ['Un outil crucial pour protéger les civilisations', 'Les produits d\\'une histoire et d\\'une géographie, qu\\'il faut défendre', 'Un mal nécessaire', 'Une aberration qu\\'il faut abolir'],\n",
    "    description = '', disabled = False, indent = False, align = 'center', layout={'width': 'max-content'}, value=None)\n",
    "    \n",
    "description_out = widgets.interactive_output(evaluate, {'a': alternativ})\n",
    "\n",
    "widgets.VBox([description_out, alternativ], layout=Layout(display='flex', flex_flow='column', align_items='stretch', width='auto'))\n"
   ]
  },
  {
   "cell_type": "code",
   "execution_count": 55,
   "metadata": {},
   "outputs": [
    {
     "name": "stdout",
     "output_type": "stream",
     "text": [
      "Les pays sont :\n"
     ]
    },
    {
     "data": {
      "application/vnd.jupyter.widget-view+json": {
       "model_id": "1adba1351b55481aafd52e9720c62d4d",
       "version_major": 2,
       "version_minor": 0
      },
      "text/plain": [
       "A Jupyter Widget"
      ]
     },
     "metadata": {},
     "output_type": "display_data"
    }
   ],
   "source": [
    "print('Les pays sont :')\n",
    "\n",
    "A = \"Toute notre identité, je suis prêt.e à mourir pour le mien\"\n",
    "B = \"Un élément important de notre identité, il faut respecter le sien\"\n",
    "C = \"Des éléments importants des identités, mais aucun pays ne vaut plus qu'un autre\"\n",
    "D = \"Une construction ayant pour but l'oppression des peuples, nous ne devons rien à notre pays\"\n",
    "\n",
    "def evaluate(a):\n",
    "    if (a == A):\n",
    "        x[1]=2\n",
    "    elif(a == B):\n",
    "        x[1]=1\n",
    "    elif(a == C):\n",
    "        x[1]=0\n",
    "    elif(a == D):\n",
    "        x[1]=-1\n",
    "\n",
    "alternativ = widgets.RadioButtons(options = [A, B, C, D], description = '', disabled = False, indent = False, align = 'center', layout={'width': 'max-content'}, value=None)\n",
    "\n",
    "description_out = widgets.interactive_output(evaluate, {'a': alternativ})\n",
    "\n",
    "widgets.VBox([description_out, alternativ], layout=Layout(display='flex', flex_flow='column', align_items='stretch', width='auto'))\n"
   ]
  },
  {
   "cell_type": "code",
   "execution_count": 56,
   "metadata": {},
   "outputs": [
    {
     "name": "stdout",
     "output_type": "stream",
     "text": [
      "Que penses-tu de la devise « de chacun.e selon ses moyens à chacun.e selon ses besoins » ?\n"
     ]
    },
    {
     "data": {
      "application/vnd.jupyter.widget-view+json": {
       "model_id": "72fc6db3a7284c4cb24dcf7f184eb271",
       "version_major": 2,
       "version_minor": 0
      },
      "text/plain": [
       "A Jupyter Widget"
      ]
     },
     "metadata": {},
     "output_type": "display_data"
    }
   ],
   "source": [
    "print('Que penses-tu de la devise « de chacun.e selon ses moyens à chacun.e selon ses besoins » ?')\n",
    "\n",
    "A = \"Je suis totalement d'accord\"\n",
    "B = \"Je suis assez d'accord, ça dépend\"\n",
    "C = \"Je ne suis pas vraiment d'accord, ça dépend\"\n",
    "D = \"Je suis totalement en désaccord\"\n",
    "\n",
    "def evaluate(a):\n",
    "    if (a == A):\n",
    "        y[0]=-2\n",
    "    elif(a == B):\n",
    "        y[0]=-1\n",
    "    elif(a == C):\n",
    "        y[0]=1\n",
    "    elif(a == D):\n",
    "        y[0]=2\n",
    "\n",
    "alternativ = widgets.RadioButtons(options = [A, B, C, D], description = '', disabled = False, indent = False, align = 'center', layout={'width': 'max-content'}, value=None)\n",
    "    \n",
    "description_out = widgets.interactive_output(evaluate, {'a': alternativ})\n",
    "\n",
    "widgets.VBox([description_out, alternativ], layout=Layout(display='flex', flex_flow='column', align_items='stretch', width='auto'))\n"
   ]
  },
  {
   "cell_type": "code",
   "execution_count": 57,
   "metadata": {},
   "outputs": [
    {
     "name": "stdout",
     "output_type": "stream",
     "text": [
      "Faut-il réduire le temps de travail (en maintenant les salaires) ?\n"
     ]
    },
    {
     "data": {
      "application/vnd.jupyter.widget-view+json": {
       "model_id": "36e4892c8dfe4f0fa205e28745281c87",
       "version_major": 2,
       "version_minor": 0
      },
      "text/plain": [
       "A Jupyter Widget"
      ]
     },
     "metadata": {},
     "output_type": "display_data"
    }
   ],
   "source": [
    "print('Faut-il réduire le temps de travail (en maintenant les salaires) ?')\n",
    "\n",
    "A = \"Oui, mais l'urgence est d'abolir le salariat\"\n",
    "B = \"Oui, ce serait bien pour l'environnement et le chômage\"\n",
    "C = \"Non, ça coûterait trop cher\"\n",
    "D = \"Non, il faudrait l'augmenter\"\n",
    "\n",
    "def evaluate(a):\n",
    "    if (a == A):\n",
    "        y[1]=-3\n",
    "    elif(a == B):\n",
    "        y[1]=-1\n",
    "    elif(a == C):\n",
    "        y[1]=0\n",
    "    elif(a == D):\n",
    "        y[1]=2\n",
    "\n",
    "alternativ = widgets.RadioButtons(options = [A, B, C, D], description = '', disabled = False, indent = False, align = 'center', layout={'width': 'max-content'}, value=None)\n",
    "    \n",
    "description_out = widgets.interactive_output(evaluate, {'a': alternativ})\n",
    "\n",
    "widgets.VBox([description_out, alternativ], layout=Layout(display='flex', flex_flow='column', align_items='stretch', width='auto'))\n"
   ]
  },
  {
   "cell_type": "code",
   "execution_count": 58,
   "metadata": {},
   "outputs": [
    {
     "name": "stdout",
     "output_type": "stream",
     "text": [
      "La peine de mort...\n"
     ]
    },
    {
     "data": {
      "application/vnd.jupyter.widget-view+json": {
       "model_id": "9a99581dd1e742f29d705ef363f6fe54",
       "version_major": 2,
       "version_minor": 0
      },
      "text/plain": [
       "A Jupyter Widget"
      ]
     },
     "metadata": {},
     "output_type": "display_data"
    }
   ],
   "source": [
    "print('La peine de mort...')\n",
    "\n",
    "A = \"... Ne devrait exister nulle part\"\n",
    "B = \"... Ne devrait pas exister mais est compréhensible dans certains contextes historiques (révolutions, grandes condamnations pour crimes contre l'humanité...)\"\n",
    "C = \"... Devrait exister seulement pour les crimes les plus graves ou à la demande du condamné\"\n",
    "D = \"... Devrait exister pour tous les crimes et être appliquée fermement\"\n",
    "\n",
    "def evaluate(a):\n",
    "    if (a == A):\n",
    "        z[0]=-1\n",
    "    elif(a == B):\n",
    "        z[0]=0\n",
    "        x[14]=1\n",
    "    elif(a == C):\n",
    "        z[0]=2\n",
    "    elif(a == D):\n",
    "        z[0]=3\n",
    "\n",
    "alternativ = widgets.RadioButtons(options = [A, B, C, D], description = '', disabled = False, indent = False, align = 'center', layout={'width': 'max-content'}, value=None)\n",
    "    \n",
    "description_out = widgets.interactive_output(evaluate, {'a': alternativ})\n",
    "\n",
    "widgets.VBox([description_out, alternativ], layout=Layout(display='flex', flex_flow='column', align_items='stretch', width='auto'))\n"
   ]
  },
  {
   "cell_type": "code",
   "execution_count": 59,
   "metadata": {},
   "outputs": [
    {
     "name": "stdout",
     "output_type": "stream",
     "text": [
      "L'avortement est :\n"
     ]
    },
    {
     "data": {
      "application/vnd.jupyter.widget-view+json": {
       "model_id": "b235e9336a2346cb91d209fa7618e80e",
       "version_major": 2,
       "version_minor": 0
      },
      "text/plain": [
       "A Jupyter Widget"
      ]
     },
     "metadata": {},
     "output_type": "display_data"
    }
   ],
   "source": [
    "print(\"L'avortement est :\")\n",
    "\n",
    "A = \"Un crime qu'il faut sévèrement condamner\"\n",
    "B = \"Un délit qu'il faut interdire, mais qui est tolérable dans les cas de viols\"\n",
    "C = \"La perte d'une vie, il ne faut pas l'interdire, mais ne pas l'encourager non plus\"\n",
    "D = \"Un droit fondamental qui doit être libre, accompagné et gratuit\"\n",
    "\n",
    "def evaluate(a):\n",
    "    if (a == A):\n",
    "        z[1]=2\n",
    "    elif(a == B):\n",
    "        z[1]=1\n",
    "    elif(a == C):\n",
    "        z[1]=0\n",
    "    elif(a == D):\n",
    "        z[1]=-1\n",
    "\n",
    "alternativ = widgets.RadioButtons(options = [A, B, C, D], description = '', disabled = False, indent = False, align = 'center', layout={'width': 'max-content'}, value=None)\n",
    "    \n",
    "description_out = widgets.interactive_output(evaluate, {'a': alternativ})\n",
    "\n",
    "widgets.VBox([description_out, alternativ], layout=Layout(display='flex', flex_flow='column', align_items='stretch', width='auto'))\n"
   ]
  },
  {
   "cell_type": "code",
   "execution_count": 60,
   "metadata": {},
   "outputs": [
    {
     "name": "stdout",
     "output_type": "stream",
     "text": [
      "Les prisons sont :\n"
     ]
    },
    {
     "data": {
      "application/vnd.jupyter.widget-view+json": {
       "model_id": "6873735f5e21455384d58e6a444ed67a",
       "version_major": 2,
       "version_minor": 0
      },
      "text/plain": [
       "A Jupyter Widget"
      ]
     },
     "metadata": {},
     "output_type": "display_data"
    }
   ],
   "source": [
    "print('Les prisons sont :')\n",
    "\n",
    "A = \"Les meilleurs outils pour assurer la sécurité et le calme dans la société\"\n",
    "B = \"Des outils pour protéger la société des criminels les plus dangereux ou instables, mais les conditions de vie doivent y être correctes\"\n",
    "C = \"Des outils de punition et de vengeance : il faut privilégier au maximum la réparation et la réhabilitation des condamné.e.s\"\n",
    "D = \"Des structures qu'il faut abolir, mais il faut pouvoir contrôler les criminels violents pouvant récidiver\"\n",
    "E = \"Des structures qu'il faut abolir sans condition, la justice ne doit pas priver les gens de liberté\"\n",
    "\n",
    "def evaluate(a):\n",
    "    if (a == A):\n",
    "        x[2]=2\n",
    "    elif(a == B):\n",
    "        x[2]=1\n",
    "    elif(a == C):\n",
    "        x[2]=0\n",
    "        z[14]=-1\n",
    "    elif(a == D):\n",
    "        x[2]=-1\n",
    "        z[14]=-1\n",
    "    elif(a == E):\n",
    "        x[2]=-2\n",
    "\n",
    "alternativ = widgets.RadioButtons(options = [A, B, C, D, E], description = '', disabled = False, indent = False, align = 'center', layout={'width': 'max-content'}, value=None)\n",
    "    \n",
    "description_out = widgets.interactive_output(evaluate, {'a': alternativ})\n",
    "\n",
    "widgets.VBox([description_out, alternativ], layout=Layout(display='flex', flex_flow='column', align_items='stretch', width='auto'))\n"
   ]
  },
  {
   "cell_type": "code",
   "execution_count": 61,
   "metadata": {},
   "outputs": [
    {
     "name": "stdout",
     "output_type": "stream",
     "text": [
      "Le maintien de l'ordre...\n"
     ]
    },
    {
     "data": {
      "application/vnd.jupyter.widget-view+json": {
       "model_id": "869f41c638f34d079e9e1693c72605dc",
       "version_major": 2,
       "version_minor": 0
      },
      "text/plain": [
       "A Jupyter Widget"
      ]
     },
     "metadata": {},
     "output_type": "display_data"
    }
   ],
   "source": [
    "print('Le maintien de l\\'ordre...')\n",
    "\n",
    "A = \"... Doit être effectué par une police de métier ayant le droit d'employer la force autant qu'elle le juge nécessaire\"\n",
    "B = \"... Doit être effectué par une police de métier ne possédant pas d'armes létales et pouvant être controlée\"\n",
    "C = \"... Doit être effectué par un corps de personnes mandatées et contrôlées par la population, ayant reçu une formation pour être dans le respect et la non-violence\"\n",
    "D = \"... Ne doit pas être effectué\"\n",
    "\n",
    "def evaluate(a):\n",
    "    if (a == A):\n",
    "        x[3]=3\n",
    "    elif(a == B):\n",
    "        x[3]=1\n",
    "    elif(a == C):\n",
    "        x[3]=-1\n",
    "    elif(a == D):\n",
    "        x[3]=-2\n",
    "\n",
    "alternativ = widgets.RadioButtons(options = [A, B, C, D], description = '', disabled = False, indent = False, align = 'center', layout={'width': 'max-content'}, value=None)\n",
    "    \n",
    "description_out = widgets.interactive_output(evaluate, {'a': alternativ})\n",
    "\n",
    "widgets.VBox([description_out, alternativ], layout=Layout(display='flex', flex_flow='column', align_items='stretch', width='auto'))\n"
   ]
  },
  {
   "cell_type": "code",
   "execution_count": 62,
   "metadata": {},
   "outputs": [
    {
     "name": "stdout",
     "output_type": "stream",
     "text": [
      "Que penses-tu des impôts ?\n"
     ]
    },
    {
     "data": {
      "application/vnd.jupyter.widget-view+json": {
       "model_id": "9cf72bd1150a453aa0712e8b8583fb06",
       "version_major": 2,
       "version_minor": 0
      },
      "text/plain": [
       "A Jupyter Widget"
      ]
     },
     "metadata": {},
     "output_type": "display_data"
    }
   ],
   "source": [
    "print('Que penses-tu des impôts ?')\n",
    "\n",
    "A = \"Ils doivent être les mêmes ou presque pour toustes : chacun.e doit contribuer aux services publics\"\n",
    "B = \"Ils doivent être égalitaires et progressifs : les riches doivent être fortement taxés et les pauvres, peu\"\n",
    "C = \"Ils ne devraient pas exister : chacun.e doit payer pour les services sont iel a besoin\"\n",
    "D = \"Ils ne devraient pas exister : nous n'avons besoin ni d'argent, ni d'état pour offrir des services publics de qualité et faire preuve de solidarité\"\n",
    "\n",
    "def evaluate(a):\n",
    "    if (a == A):\n",
    "        y[2]=1\n",
    "    elif(a == B):\n",
    "        y[2]=-1\n",
    "    elif(a == C):\n",
    "        y[2]=2\n",
    "    elif(a == D):\n",
    "        y[2]=-1\n",
    "        x[15]=-1\n",
    "\n",
    "alternativ = widgets.RadioButtons(options = [A, B, C, D], description = '', disabled = False, indent = False, align = 'center', layout={'width': 'max-content'}, value=None)\n",
    "    \n",
    "description_out = widgets.interactive_output(evaluate, {'a': alternativ})\n",
    "\n",
    "widgets.VBox([description_out, alternativ], layout=Layout(display='flex', flex_flow='column', align_items='stretch', width='auto'))\n"
   ]
  },
  {
   "cell_type": "code",
   "execution_count": 64,
   "metadata": {},
   "outputs": [
    {
     "name": "stdout",
     "output_type": "stream",
     "text": [
      "Le coût du travail :\n"
     ]
    },
    {
     "data": {
      "application/vnd.jupyter.widget-view+json": {
       "model_id": "0326ba91ece84988aee44b20c5181152",
       "version_major": 2,
       "version_minor": 0
      },
      "text/plain": [
       "A Jupyter Widget"
      ]
     },
     "metadata": {},
     "output_type": "display_data"
    }
   ],
   "source": [
    "print('Le coût du travail :')\n",
    "\n",
    "A = \"Est trop élevé, il faut réduire les dépenses des créateurs d'emplois\"\n",
    "B = \"Est trop faible, il faut mieux rémunérer les travailleureuses\"\n",
    "C = \"Est une absurdité, le travail ne coûte rien puisqu'il produit tout\"\n",
    "\n",
    "def evaluate(a):\n",
    "    if (a == A):\n",
    "        y[3]=1\n",
    "    elif(a == B):\n",
    "        y[3]=-1\n",
    "    elif(a == C):\n",
    "        y[3]=-3\n",
    "\n",
    "alternativ = widgets.RadioButtons(options = [A, B, C], description = '', disabled = False, indent = False, align = 'center', layout={'width': 'max-content'}, value=None)\n",
    "    \n",
    "description_out = widgets.interactive_output(evaluate, {'a': alternativ})\n",
    "\n",
    "widgets.VBox([description_out, alternativ], layout=Layout(display='flex', flex_flow='column', align_items='stretch', width='auto'))\n"
   ]
  },
  {
   "cell_type": "code",
   "execution_count": 65,
   "metadata": {},
   "outputs": [
    {
     "name": "stdout",
     "output_type": "stream",
     "text": [
      "Une relation entre deux personnes du même sexe est :\n"
     ]
    },
    {
     "data": {
      "application/vnd.jupyter.widget-view+json": {
       "model_id": "bc8015246fd049df9fad0583181c74c8",
       "version_major": 2,
       "version_minor": 0
      },
      "text/plain": [
       "A Jupyter Widget"
      ]
     },
     "metadata": {},
     "output_type": "display_data"
    }
   ],
   "source": [
    "print('Une relation entre deux personnes du même sexe est :')\n",
    "\n",
    "A = \"Normale : il faut les mêmes droits pour toutes et tous\"\n",
    "B = \"Normale mais certains droits, comme ceux d'avoir des enfants, ne devraient pas être attribués systématiquement\"\n",
    "C = \"Contre nature, mais les gens sont libres\"\n",
    "D = \"Honteuse : il faut interdire ce genre de relations\"\n",
    "\n",
    "def evaluate(a):\n",
    "    if (a == A):\n",
    "        z[2]=-1\n",
    "    elif(a == B):\n",
    "        z[2]=0\n",
    "    elif(a == C):\n",
    "        z[2]=2\n",
    "    elif(a == D):\n",
    "        z[2]=3\n",
    "\n",
    "alternativ = widgets.RadioButtons(options = [A, B, C, D], description = '', disabled = False, indent = False, align = 'center', layout={'width': 'max-content'}, value=None)\n",
    "    \n",
    "description_out = widgets.interactive_output(evaluate, {'a': alternativ})\n",
    "\n",
    "widgets.VBox([description_out, alternativ], layout=Layout(display='flex', flex_flow='column', align_items='stretch', width='auto'))\n"
   ]
  },
  {
   "cell_type": "code",
   "execution_count": 66,
   "metadata": {},
   "outputs": [
    {
     "name": "stdout",
     "output_type": "stream",
     "text": [
      "Les religions :\n"
     ]
    },
    {
     "data": {
      "application/vnd.jupyter.widget-view+json": {
       "model_id": "33ad674737464011a24ad80c7f996f90",
       "version_major": 2,
       "version_minor": 0
      },
      "text/plain": [
       "A Jupyter Widget"
      ]
     },
     "metadata": {},
     "output_type": "display_data"
    }
   ],
   "source": [
    "print('Les religions :')\n",
    "\n",
    "A = \"Doivent gouverner la société\"\n",
    "B = \"Doivent être respectées, surtout la mienne\"\n",
    "C = \"Ne doivent pas interférer avec les choix de société\"\n",
    "D = \"Sont des instruments d'aliénation et des vecteurs d'oppressions, il faut les combattre\"\n",
    "\n",
    "def evaluate(a):\n",
    "    if (a == A):\n",
    "        z[3]=2\n",
    "    elif(a == B):\n",
    "        z[3]=1\n",
    "    elif(a == C):\n",
    "        z[3]=0\n",
    "    elif(a == D):\n",
    "        z[3]=-2\n",
    "\n",
    "alternativ = widgets.RadioButtons(options = [A, B, C, D], description = '', disabled = False, indent = False, align = 'center', layout={'width': 'max-content'}, value=None)\n",
    "    \n",
    "description_out = widgets.interactive_output(evaluate, {'a': alternativ})\n",
    "\n",
    "widgets.VBox([description_out, alternativ], layout=Layout(display='flex', flex_flow='column', align_items='stretch', width='auto'))\n"
   ]
  },
  {
   "cell_type": "code",
   "execution_count": 67,
   "metadata": {},
   "outputs": [
    {
     "name": "stdout",
     "output_type": "stream",
     "text": [
      "La prise de pouvoir au niveau de l'état est :\n"
     ]
    },
    {
     "data": {
      "application/vnd.jupyter.widget-view+json": {
       "model_id": "eb5f667bcf8f482b966134e9dadb4971",
       "version_major": 2,
       "version_minor": 0
      },
      "text/plain": [
       "A Jupyter Widget"
      ]
     },
     "metadata": {},
     "output_type": "display_data"
    }
   ],
   "source": [
    "print('La prise de pouvoir au niveau de l\\'état est :')\n",
    "\n",
    "A = \"Inacceptable\"\n",
    "B = \"Potentiellement acceptable si cette prise de pouvoir se fait par une insurrection du peuple\"\n",
    "C = \"Acceptable si cette prise de pouvoir se fait de façon démocratique\"\n",
    "D = \"Acceptable tant que cette prise de pouvoir profite au peuple\"\n",
    "\n",
    "def evaluate(a):\n",
    "    if (a == A):\n",
    "        x[4]=-1\n",
    "    elif(a == B):\n",
    "        x[4]=1\n",
    "    elif(a == C):\n",
    "        x[4]=0\n",
    "    elif(a == D):\n",
    "        x[4]=2\n",
    "\n",
    "alternativ = widgets.RadioButtons(options = [A, B, C, D], description = '', disabled = False, indent = False, align = 'center', layout={'width': 'max-content'}, value=None)\n",
    "    \n",
    "description_out = widgets.interactive_output(evaluate, {'a': alternativ})\n",
    "\n",
    "widgets.VBox([description_out, alternativ], layout=Layout(display='flex', flex_flow='column', align_items='stretch', width='auto'))\n"
   ]
  },
  {
   "cell_type": "code",
   "execution_count": 68,
   "metadata": {},
   "outputs": [
    {
     "name": "stdout",
     "output_type": "stream",
     "text": [
      "Les musées :\n"
     ]
    },
    {
     "data": {
      "application/vnd.jupyter.widget-view+json": {
       "model_id": "489f34cf217746bb821e09789cb222ac",
       "version_major": 2,
       "version_minor": 0
      },
      "text/plain": [
       "A Jupyter Widget"
      ]
     },
     "metadata": {},
     "output_type": "display_data"
    }
   ],
   "source": [
    "print('Les musées :')\n",
    "\n",
    "A = \"Sont inutiles\"\n",
    "B = \"Sont de plus en plus remplis de fausses oeuvres d'art\"\n",
    "C = \"Sont importants pour la vie culturelle de la société\"\n",
    "D = \"Sont malheureusement réservés aux personnes privilégiées\"\n",
    "\n",
    "def evaluate(a):\n",
    "    if (a == A):\n",
    "        x[5]=2\n",
    "    elif(a == B):\n",
    "        x[5]=0\n",
    "    elif(a == C):\n",
    "        x[5]=-1\n",
    "    elif(a == D):\n",
    "        x[5]=-2\n",
    "\n",
    "alternativ = widgets.RadioButtons(options = [A, B, C, D], description = '', disabled = False, indent = False, align = 'center', layout={'width': 'max-content'}, value=None)\n",
    "    \n",
    "description_out = widgets.interactive_output(evaluate, {'a': alternativ})\n",
    "\n",
    "widgets.VBox([description_out, alternativ], layout=Layout(display='flex', flex_flow='column', align_items='stretch', width='auto'))\n"
   ]
  },
  {
   "cell_type": "code",
   "execution_count": 69,
   "metadata": {},
   "outputs": [
    {
     "name": "stdout",
     "output_type": "stream",
     "text": [
      "Les syndicats :\n"
     ]
    },
    {
     "data": {
      "application/vnd.jupyter.widget-view+json": {
       "model_id": "e2f3ac6f4bf2478081a21f715f790f47",
       "version_major": 2,
       "version_minor": 0
      },
      "text/plain": [
       "A Jupyter Widget"
      ]
     },
     "metadata": {},
     "output_type": "display_data"
    }
   ],
   "source": [
    "print('Les syndicats :')\n",
    "\n",
    "A = \"Sont un frein aux employeurs et aux salariés, il faut les interdire\"\n",
    "B = \"Sont utiles mais sont trop souvent dans la confrontation et pas assez dans le dialogue social\"\n",
    "C = \"Sont des structures cruciales garantissant le respect des droits de toustes les travailleureuses et permettant des avancées sociales\"\n",
    "D = \"Sont très importants, mais deviennent inutiles dans le cadre d'un pouvoir et d'une économie socialiste\"\n",
    "\n",
    "def evaluate(a):\n",
    "    if (a == A):\n",
    "        y[4]=2\n",
    "        x[16]=2\n",
    "    elif(a == B):\n",
    "        y[4]=1\n",
    "    elif(a == C):\n",
    "        y[4]=-2\n",
    "    elif(a == D):\n",
    "        y[4]=-2\n",
    "        x[16]=1\n",
    "\n",
    "alternativ = widgets.RadioButtons(options = [A, B, C, D], description = '', disabled = False, indent = False, align = 'center', layout={'width': 'max-content'}, value=None)\n",
    "    \n",
    "description_out = widgets.interactive_output(evaluate, {'a': alternativ})\n",
    "\n",
    "widgets.VBox([description_out, alternativ], layout=Layout(display='flex', flex_flow='column', align_items='stretch', width='auto'))\n"
   ]
  },
  {
   "cell_type": "code",
   "execution_count": 70,
   "metadata": {},
   "outputs": [
    {
     "name": "stdout",
     "output_type": "stream",
     "text": [
      "Faut-il attacher une importance à la croissance économique ?\n"
     ]
    },
    {
     "data": {
      "application/vnd.jupyter.widget-view+json": {
       "model_id": "8fbbd11cf342423f9b3272ce03a57756",
       "version_major": 2,
       "version_minor": 0
      },
      "text/plain": [
       "A Jupyter Widget"
      ]
     },
     "metadata": {},
     "output_type": "display_data"
    }
   ],
   "source": [
    "print('Faut-il attacher une importance à la croissance économique ?')\n",
    "\n",
    "A = \"Non, elle ne fait que détruire l'environnement\"\n",
    "B = \"Oui, elle permet de réduire les inégalités économiques, mais il faut la limiter\"\n",
    "C = \"Oui, elle permet à la société de s'enrichir et d'augmenter son confort\"\n",
    "D = \"Peu importe, il faut quitter les modes de production capitalistes\"\n",
    "\n",
    "def evaluate(a):\n",
    "    if (a == A):\n",
    "        y[5]=-1\n",
    "    elif(a == B):\n",
    "        y[5]=0\n",
    "    elif(a == C):\n",
    "        y[5]=1\n",
    "    elif(a == D):\n",
    "        y[5]=-2\n",
    "\n",
    "alternativ = widgets.RadioButtons(options = [A, B, C, D], description = '', disabled = False, indent = False, align = 'center', layout={'width': 'max-content'}, value=None)\n",
    "    \n",
    "description_out = widgets.interactive_output(evaluate, {'a': alternativ})\n",
    "\n",
    "widgets.VBox([description_out, alternativ], layout=Layout(display='flex', flex_flow='column', align_items='stretch', width='auto'))\n"
   ]
  },
  {
   "cell_type": "code",
   "execution_count": 71,
   "metadata": {},
   "outputs": [
    {
     "name": "stdout",
     "output_type": "stream",
     "text": [
      "Faut-il lutter contre les violences sexistes et sexuelles ?\n"
     ]
    },
    {
     "data": {
      "application/vnd.jupyter.widget-view+json": {
       "model_id": "ebeae402bef64b4d94ac3da9ea8ba940",
       "version_major": 2,
       "version_minor": 0
      },
      "text/plain": [
       "A Jupyter Widget"
      ]
     },
     "metadata": {},
     "output_type": "display_data"
    }
   ],
   "source": [
    "print('Faut-il lutter contre les violences sexistes et sexuelles ?')\n",
    "\n",
    "A = \"Oui, il y a encore beaucoup de chemin à faire\"\n",
    "B = \"Oui mais ce n'est pas une priorité, ces violences sont très faibles\"\n",
    "C = \"Ce n'est plus une nécessité, ces violences ont quasiment disparu\"\n",
    "D = \"Oui, car ce sont les hommes qui en sont victimes depuis que le féminisme les prive de leur liberté\"\n",
    "\n",
    "def evaluate(a):\n",
    "    if (a == A):\n",
    "        z[4]=-2\n",
    "    elif(a == B):\n",
    "        z[4]=-1\n",
    "    elif(a == C):\n",
    "        z[4]=1\n",
    "    elif(a == D):\n",
    "        z[4]=2\n",
    "\n",
    "alternativ = widgets.RadioButtons(options = [A, B, C, D], description = '', disabled = False, indent = False, align = 'center', layout={'width': 'max-content'}, value=None)\n",
    "    \n",
    "description_out = widgets.interactive_output(evaluate, {'a': alternativ})\n",
    "\n",
    "widgets.VBox([description_out, alternativ], layout=Layout(display='flex', flex_flow='column', align_items='stretch', width='auto'))\n"
   ]
  },
  {
   "cell_type": "code",
   "execution_count": 72,
   "metadata": {},
   "outputs": [
    {
     "name": "stdout",
     "output_type": "stream",
     "text": [
      "Les transidentités... \n"
     ]
    },
    {
     "data": {
      "application/vnd.jupyter.widget-view+json": {
       "model_id": "352addaedb6145d89f65f4dda97e75c9",
       "version_major": 2,
       "version_minor": 0
      },
      "text/plain": [
       "A Jupyter Widget"
      ]
     },
     "metadata": {},
     "output_type": "display_data"
    }
   ],
   "source": [
    "print('Les transidentités... ')\n",
    "\n",
    "A = \"... Doivent être respectées\"\n",
    "B = \"... Sont un caprice et un effet de mode\"\n",
    "C = \"... Sont un outil des hommes pour s'infiltrer parmi des femmes\"\n",
    "D = \"... Sont une abomination\"\n",
    "\n",
    "def evaluate(a):\n",
    "    if (a == A):\n",
    "        z[5]=-1\n",
    "    elif(a == B):\n",
    "        z[5]=2\n",
    "    elif(a == C):\n",
    "        z[5]=1\n",
    "    elif(a == D):\n",
    "        z[5]=3\n",
    "\n",
    "alternativ = widgets.RadioButtons(options = [A, B, C, D], description = '', disabled = False, indent = False, align = 'center', layout={'width': 'max-content'}, value=None)\n",
    "    \n",
    "description_out = widgets.interactive_output(evaluate, {'a': alternativ})\n",
    "\n",
    "widgets.VBox([description_out, alternativ], layout=Layout(display='flex', flex_flow='column', align_items='stretch', width='auto'))\n"
   ]
  },
  {
   "cell_type": "code",
   "execution_count": 73,
   "metadata": {},
   "outputs": [
    {
     "name": "stdout",
     "output_type": "stream",
     "text": [
      "L'autorité doit :\n"
     ]
    },
    {
     "data": {
      "application/vnd.jupyter.widget-view+json": {
       "model_id": "c83a01428a114a1d980d7b623bf5d304",
       "version_major": 2,
       "version_minor": 0
      },
      "text/plain": [
       "A Jupyter Widget"
      ]
     },
     "metadata": {},
     "output_type": "display_data"
    }
   ],
   "source": [
    "print('L\\'autorité doit :')\n",
    "\n",
    "A = \"Toujours être suivie\"\n",
    "B = \"Parfois être interrogée\"\n",
    "C = \"Toujours être interrogée\"\n",
    "D = \"Toujours être combattue\"\n",
    "\n",
    "def evaluate(a):\n",
    "    if (a == A):\n",
    "        x[6]=1\n",
    "    elif(a == B):\n",
    "        x[6]=0\n",
    "    elif(a == C):\n",
    "        x[6]=-1\n",
    "    elif(a == D):\n",
    "        x[6]=-2\n",
    "        z[15]=1\n",
    "\n",
    "alternativ = widgets.RadioButtons(options = [A, B, C, D], description = '', disabled = False, indent = False, align = 'center', layout={'width': 'max-content'}, value=None)\n",
    "    \n",
    "description_out = widgets.interactive_output(evaluate, {'a': alternativ})\n",
    "\n",
    "widgets.VBox([description_out, alternativ], layout=Layout(display='flex', flex_flow='column', align_items='stretch', width='auto'))\n"
   ]
  },
  {
   "cell_type": "code",
   "execution_count": 74,
   "metadata": {},
   "outputs": [
    {
     "name": "stdout",
     "output_type": "stream",
     "text": [
      "La presse doit être financée par :\n"
     ]
    },
    {
     "data": {
      "application/vnd.jupyter.widget-view+json": {
       "model_id": "c4480c4c0eb2408c8b455000812bf1a5",
       "version_major": 2,
       "version_minor": 0
      },
      "text/plain": [
       "A Jupyter Widget"
      ]
     },
     "metadata": {},
     "output_type": "display_data"
    }
   ],
   "source": [
    "print('La presse doit être financée par :')\n",
    "\n",
    "A = \"L'état\"\n",
    "B = \"Des groupes privés\"\n",
    "C = \"L'état et des groupes privés\"\n",
    "D = \"La population\"\n",
    "E = \"Ses utilsateurices\"\n",
    "\n",
    "def evaluate(a):\n",
    "    if (a == A):\n",
    "        x[7]=1\n",
    "    elif(a == B):\n",
    "        x[7]=0\n",
    "        y[14]=1\n",
    "    elif(a == C):\n",
    "        x[7]=1\n",
    "        y[14]=1\n",
    "    elif(a == D):\n",
    "        x[7]=0\n",
    "        y[14]=-1\n",
    "    elif(a == E):\n",
    "        x[7]=-1\n",
    "\n",
    "alternativ = widgets.RadioButtons(options = [A, B, C, D, E], description = '', disabled = False, indent = False, align = 'center', layout={'width': 'max-content'}, value=None)\n",
    "    \n",
    "description_out = widgets.interactive_output(evaluate, {'a': alternativ})\n",
    "\n",
    "widgets.VBox([description_out, alternativ], layout=Layout(display='flex', flex_flow='column', align_items='stretch', width='auto'))\n"
   ]
  },
  {
   "cell_type": "code",
   "execution_count": 75,
   "metadata": {},
   "outputs": [
    {
     "name": "stdout",
     "output_type": "stream",
     "text": [
      "Le protectionnisme :\n"
     ]
    },
    {
     "data": {
      "application/vnd.jupyter.widget-view+json": {
       "model_id": "3e7c9b4f313d4a20b754ced96e3e4ee7",
       "version_major": 2,
       "version_minor": 0
      },
      "text/plain": [
       "A Jupyter Widget"
      ]
     },
     "metadata": {},
     "output_type": "display_data"
    }
   ],
   "source": [
    "print('Le protectionnisme :')\n",
    "\n",
    "A = \"Est une bonne chose car il permet de favoriser une production locale et de mieux rémunérer les travailleureuses\"\n",
    "B = \"Est une bonne chose car il permet de favoriser l'économie de notre pays\"\n",
    "C = \"Est une mauvaise chose car il ne permet pas à l'économie de notre pays de s'adapter à la concurrence\"\n",
    "D = \"Est une mauvaise chose car le repli sur soi ne permet pas d'apporter des solutions aux problèmes économiques\"\n",
    "\n",
    "def evaluate(a):\n",
    "    if (a == A):\n",
    "        y[6]=-1\n",
    "    elif(a == B):\n",
    "        y[6]=0\n",
    "        x[17]=1\n",
    "    elif(a == C):\n",
    "        y[6]=1\n",
    "    elif(a == D):\n",
    "        y[6]=0\n",
    "        x[17]=-1\n",
    "\n",
    "alternativ = widgets.RadioButtons(options = [A, B, C, D], description = '', disabled = False, indent = False, align = 'center', layout={'width': 'max-content'}, value=None)\n",
    "    \n",
    "description_out = widgets.interactive_output(evaluate, {'a': alternativ})\n",
    "\n",
    "widgets.VBox([description_out, alternativ], layout=Layout(display='flex', flex_flow='column', align_items='stretch', width='auto'))\n"
   ]
  },
  {
   "cell_type": "code",
   "execution_count": 76,
   "metadata": {},
   "outputs": [
    {
     "name": "stdout",
     "output_type": "stream",
     "text": [
      "Les Organismes Génétiquement Modifiés :\n"
     ]
    },
    {
     "data": {
      "application/vnd.jupyter.widget-view+json": {
       "model_id": "012e5b83858147518b3edad299fa0513",
       "version_major": 2,
       "version_minor": 0
      },
      "text/plain": [
       "A Jupyter Widget"
      ]
     },
     "metadata": {},
     "output_type": "display_data"
    }
   ],
   "source": [
    "print('Les Organismes Génétiquement Modifiés :')\n",
    "\n",
    "A = \"Sont dangereux pour la santé et l'environnement\"\n",
    "B = \"Ne sont pas intrinsèquement dangereux, mais il ne faut pas déséquilibrer la nature\"\n",
    "C = \"Ne sont pas dangereux et sont utiles, mais ils doivent être publics pour ne pas breveter le vivant\"\n",
    "D = \"Ne sont pas dangereux et sont utiles car ils permettent une meilleures production agricole\"\n",
    "\n",
    "def evaluate(a):\n",
    "    if (a == A):\n",
    "        y[7]=0\n",
    "        z[16]=1\n",
    "    elif(a == B):\n",
    "        y[7]=0\n",
    "    elif(a == C):\n",
    "        y[7]=-1\n",
    "    elif(a == D):\n",
    "        y[7]=1\n",
    "\n",
    "alternativ = widgets.RadioButtons(options = [A, B, C, D], description = '', disabled = False, indent = False, align = 'center', layout={'width': 'max-content'}, value=None)\n",
    "    \n",
    "description_out = widgets.interactive_output(evaluate, {'a': alternativ})\n",
    "\n",
    "widgets.VBox([description_out, alternativ], layout=Layout(display='flex', flex_flow='column', align_items='stretch', width='auto'))\n"
   ]
  },
  {
   "cell_type": "code",
   "execution_count": 77,
   "metadata": {},
   "outputs": [
    {
     "name": "stdout",
     "output_type": "stream",
     "text": [
      "L'immigration est-elle une chance pour les pays d'accueil ?\n"
     ]
    },
    {
     "data": {
      "application/vnd.jupyter.widget-view+json": {
       "model_id": "f4ba403bfc3e47b89a3a558b294d5a80",
       "version_major": 2,
       "version_minor": 0
      },
      "text/plain": [
       "A Jupyter Widget"
      ]
     },
     "metadata": {},
     "output_type": "display_data"
    }
   ],
   "source": [
    "print('L\\'immigration est-elle une chance pour les pays d\\'accueil ?')\n",
    "\n",
    "A = \"Oui en général\"\n",
    "B = \"Non en général\"\n",
    "C = \"Peu importe : la libre circulation est un droit\"\n",
    "D = \"Peu importe : il faut stopper l'immigration\"\n",
    "\n",
    "def evaluate(a):\n",
    "    if (a == A):\n",
    "        z[6]=-1\n",
    "    elif(a == B):\n",
    "        z[6]=1\n",
    "    elif(a == C):\n",
    "        z[6]=-2\n",
    "    elif(a == D):\n",
    "        z[6]=2\n",
    "\n",
    "alternativ = widgets.RadioButtons(options = [A, B, C, D], description = '', disabled = False, indent = False, align = 'center', layout={'width': 'max-content'}, value=None)\n",
    "    \n",
    "description_out = widgets.interactive_output(evaluate, {'a': alternativ})\n",
    "\n",
    "widgets.VBox([description_out, alternativ], layout=Layout(display='flex', flex_flow='column', align_items='stretch', width='auto'))\n"
   ]
  },
  {
   "cell_type": "code",
   "execution_count": 78,
   "metadata": {},
   "outputs": [
    {
     "name": "stdout",
     "output_type": "stream",
     "text": [
      "La psychanalyse est :\n"
     ]
    },
    {
     "data": {
      "application/vnd.jupyter.widget-view+json": {
       "model_id": "f5847dedb5fc470c8dd5d956047b7add",
       "version_major": 2,
       "version_minor": 0
      },
      "text/plain": [
       "A Jupyter Widget"
      ]
     },
     "metadata": {},
     "output_type": "display_data"
    }
   ],
   "source": [
    "print('La psychanalyse est :')\n",
    "\n",
    "A = \"Une thérapie efficace\"\n",
    "B = \"Une thérapie d'efficacité limitée mais plus facilement supportable que les autres psychothérapies\"\n",
    "C = \"Une pseudo-science car elle n'a jamais fait preuve de son efficacité dans des conditions expérimentales\"\n",
    "D = \"Une pseudo-science ayant une grande responsabilité dans la culture du viol et la psychophobie\"\n",
    "\n",
    "def evaluate(a):\n",
    "    if (a == A):\n",
    "        z[7]=1\n",
    "    elif(a == B):\n",
    "        z[7]=0\n",
    "    elif(a == C):\n",
    "        z[7]=-1\n",
    "    elif(a == D):\n",
    "        z[7]=-2\n",
    "\n",
    "alternativ = widgets.RadioButtons(options = [A, B, C, D], description = '', disabled = False, indent = False, align = 'center', layout={'width': 'max-content'}, value=None)\n",
    "    \n",
    "description_out = widgets.interactive_output(evaluate, {'a': alternativ})\n",
    "\n",
    "widgets.VBox([description_out, alternativ], layout=Layout(display='flex', flex_flow='column', align_items='stretch', width='auto'))\n"
   ]
  },
  {
   "cell_type": "code",
   "execution_count": 79,
   "metadata": {},
   "outputs": [
    {
     "name": "stdout",
     "output_type": "stream",
     "text": [
      "Le fichage de la population :\n"
     ]
    },
    {
     "data": {
      "application/vnd.jupyter.widget-view+json": {
       "model_id": "a211a61a54d940d69c157caeab3e3ab1",
       "version_major": 2,
       "version_minor": 0
      },
      "text/plain": [
       "A Jupyter Widget"
      ]
     },
     "metadata": {},
     "output_type": "display_data"
    }
   ],
   "source": [
    "print('Le fichage de la population :')\n",
    "\n",
    "A = \"Ne doit pas exister\"\n",
    "B = \"Peut être utile pour certaines informations, mais les autorités et groupes privés ne doivent pas y accéder\"\n",
    "C = \"Doit être utilisé seulement sur les personnes suspectes de terrorisme ou d'association de malfaiteurs\"\n",
    "D = \"Doit exister pour tout le monde\"\n",
    "\n",
    "def evaluate(a):\n",
    "    if (a == A):\n",
    "        x[8]=-1\n",
    "    elif(a == B):\n",
    "        x[8]=0\n",
    "    elif(a == C):\n",
    "        x[8]=1\n",
    "    elif(a == D):\n",
    "        x[8]=2\n",
    "\n",
    "alternativ = widgets.RadioButtons(options = [A, B, C, D], description = '', disabled = False, indent = False, align = 'center', layout={'width': 'max-content'}, value=None)\n",
    "    \n",
    "description_out = widgets.interactive_output(evaluate, {'a': alternativ})\n",
    "\n",
    "widgets.VBox([description_out, alternativ], layout=Layout(display='flex', flex_flow='column', align_items='stretch', width='auto'))\n"
   ]
  },
  {
   "cell_type": "code",
   "execution_count": 80,
   "metadata": {},
   "outputs": [
    {
     "name": "stdout",
     "output_type": "stream",
     "text": [
      "L'enseignement de l'Histoire\n"
     ]
    },
    {
     "data": {
      "application/vnd.jupyter.widget-view+json": {
       "model_id": "5677cc040b3b4241b181cda5d9cbb566",
       "version_major": 2,
       "version_minor": 0
      },
      "text/plain": [
       "A Jupyter Widget"
      ]
     },
     "metadata": {},
     "output_type": "display_data"
    }
   ],
   "source": [
    "print('L\\'enseignement de l\\'Histoire')\n",
    "\n",
    "A = \"Doit créer un sentiment de fierté nationale\"\n",
    "B = \"Doit être le plus neutre possible\"\n",
    "\n",
    "def evaluate(a):\n",
    "    if (a == A):\n",
    "        z[18]=2\n",
    "    elif(a == B):\n",
    "        z[18]=0\n",
    "\n",
    "alternativ = widgets.RadioButtons(options = [A, B], description = '', disabled = False, indent = False, align = 'center', layout={'width': 'max-content'}, value=None)\n",
    "    \n",
    "description_out = widgets.interactive_output(evaluate, {'a': alternativ})\n",
    "\n",
    "widgets.VBox([description_out, alternativ], layout=Layout(display='flex', flex_flow='column', align_items='stretch', width='auto'))\n"
   ]
  },
  {
   "cell_type": "code",
   "execution_count": 81,
   "metadata": {},
   "outputs": [
    {
     "name": "stdout",
     "output_type": "stream",
     "text": [
      "Le changement climatique :\n"
     ]
    },
    {
     "data": {
      "application/vnd.jupyter.widget-view+json": {
       "model_id": "fe800fe0342545da9ec60db284fa5f5f",
       "version_major": 2,
       "version_minor": 0
      },
      "text/plain": [
       "A Jupyter Widget"
      ]
     },
     "metadata": {},
     "output_type": "display_data"
    }
   ],
   "source": [
    "print('Le changement climatique :')\n",
    "\n",
    "A = \"Est principalement dû à l'activité humaine dans un contexte capitaliste\"\n",
    "B = \"Est principalement dû à toutes les activités humaines\"\n",
    "C = \"N'est pas principalement dû à l'activité humaine\"\n",
    "D = \"N'existe pas réellement\"\n",
    "\n",
    "def evaluate(a):\n",
    "    if (a == A):\n",
    "        y[8]=-2\n",
    "    elif(a == B):\n",
    "        y[8]=0\n",
    "    elif(a == C):\n",
    "        y[8]=1\n",
    "    elif(a == D):\n",
    "        y[8]=3\n",
    "\n",
    "alternativ = widgets.RadioButtons(options = [A, B, C, D], description = '', disabled = False, indent = False, align = 'center', layout={'width': 'max-content'}, value=None)\n",
    "    \n",
    "description_out = widgets.interactive_output(evaluate, {'a': alternativ})\n",
    "\n",
    "widgets.VBox([description_out, alternativ], layout=Layout(display='flex', flex_flow='column', align_items='stretch', width='auto'))\n"
   ]
  },
  {
   "cell_type": "code",
   "execution_count": 82,
   "metadata": {},
   "outputs": [
    {
     "name": "stdout",
     "output_type": "stream",
     "text": [
      "Est-il acceptable qu'il y ait des riches et des pauvres ?\n"
     ]
    },
    {
     "data": {
      "application/vnd.jupyter.widget-view+json": {
       "model_id": "0c7a7c9a42d6474997af9bd1eda4cbd5",
       "version_major": 2,
       "version_minor": 0
      },
      "text/plain": [
       "A Jupyter Widget"
      ]
     },
     "metadata": {},
     "output_type": "display_data"
    }
   ],
   "source": [
    "print('Est-il acceptable qu\\'il y ait des riches et des pauvres ?')\n",
    "\n",
    "A = \"Oui\"\n",
    "B = \"Oui mais les inégalités entre ces catégories doivent être raisonnables\"\n",
    "C = \"Non\"\n",
    "\n",
    "def evaluate(a):\n",
    "    if (a == A):\n",
    "        y[9]=2\n",
    "    elif(a == B):\n",
    "        y[9]=1\n",
    "    elif(a == C):\n",
    "        y[9]=-1\n",
    "\n",
    "alternativ = widgets.RadioButtons(options = [A, B, C], description = '', disabled = False, indent = False, align = 'center', layout={'width': 'max-content'}, value=None)\n",
    "    \n",
    "description_out = widgets.interactive_output(evaluate, {'a': alternativ})\n",
    "\n",
    "widgets.VBox([description_out, alternativ], layout=Layout(display='flex', flex_flow='column', align_items='stretch', width='auto'))\n"
   ]
  },
  {
   "cell_type": "code",
   "execution_count": 83,
   "metadata": {},
   "outputs": [
    {
     "name": "stdout",
     "output_type": "stream",
     "text": [
      "Dans quels domaines est-il prioritaire d'investir ?\n"
     ]
    },
    {
     "data": {
      "application/vnd.jupyter.widget-view+json": {
       "model_id": "d1a5118bf4f14a60962e19569d86de27",
       "version_major": 2,
       "version_minor": 0
      },
      "text/plain": [
       "A Jupyter Widget"
      ]
     },
     "metadata": {},
     "output_type": "display_data"
    }
   ],
   "source": [
    "print('Dans quels domaines est-il prioritaire d\\'investir ?')\n",
    "\n",
    "A = \"La culture, la recherche et l'education\"\n",
    "B = \"L'éducation, la justice et la sécurité\"\n",
    "C = \"La recherche, l'environnement et la lutte contre les inégalités\"\n",
    "D = \"La sécurité, l'aide aux petites entreprises et la défense\"\n",
    "\n",
    "def evaluate(a):\n",
    "    if (a == A):\n",
    "        z[8]=-1\n",
    "    elif(a == B):\n",
    "        z[8]=0\n",
    "    elif(a == C):\n",
    "        z[8]=0\n",
    "        y[15]=-1\n",
    "    elif(a == D):\n",
    "        z[8]=1\n",
    "        x[18]=1\n",
    "        \n",
    "alternativ = widgets.RadioButtons(options = [A, B, C, D], description = '', disabled = False, indent = False, align = 'center', layout={'width': 'max-content'}, value=None)\n",
    "    \n",
    "description_out = widgets.interactive_output(evaluate, {'a': alternativ})\n",
    "\n",
    "widgets.VBox([description_out, alternativ], layout=Layout(display='flex', flex_flow='column', align_items='stretch', width='auto'))\n"
   ]
  },
  {
   "cell_type": "code",
   "execution_count": 84,
   "metadata": {},
   "outputs": [
    {
     "name": "stdout",
     "output_type": "stream",
     "text": [
      "Internet :\n"
     ]
    },
    {
     "data": {
      "application/vnd.jupyter.widget-view+json": {
       "model_id": "83b6197fed8e484ab2b32171b3c0a342",
       "version_major": 2,
       "version_minor": 0
      },
      "text/plain": [
       "A Jupyter Widget"
      ]
     },
     "metadata": {},
     "output_type": "display_data"
    }
   ],
   "source": [
    "print('Internet :')\n",
    "\n",
    "A = \"Est une chance car cela permet de populariser les connaissances et de faciliter les communications et l'accès à l'information\"\n",
    "B = \"Est une chance mais n'est pas assez libre vis-à-vis du secteur privé\"\n",
    "C = \"A des côtés très positifs et des côtés très négatifs\"\n",
    "D = \"Est un mal technologique\"\n",
    "\n",
    "def evaluate(a):\n",
    "    if (a == A):\n",
    "        z[9]=-1\n",
    "    elif(a == B):\n",
    "        z[9]=-1\n",
    "        y[16]=-1\n",
    "    elif(a == C):\n",
    "        z[9]=0\n",
    "    elif(a == D):\n",
    "        z[9]=1\n",
    "\n",
    "alternativ = widgets.RadioButtons(options = [A, B, C, D], description = '', disabled = False, indent = False, align = 'center', layout={'width': 'max-content'}, value=None)\n",
    "    \n",
    "description_out = widgets.interactive_output(evaluate, {'a': alternativ})\n",
    "\n",
    "widgets.VBox([description_out, alternativ], layout=Layout(display='flex', flex_flow='column', align_items='stretch', width='auto'))\n"
   ]
  },
  {
   "cell_type": "code",
   "execution_count": 85,
   "metadata": {},
   "outputs": [
    {
     "name": "stdout",
     "output_type": "stream",
     "text": [
      "L'usage de la violence :\n"
     ]
    },
    {
     "data": {
      "application/vnd.jupyter.widget-view+json": {
       "model_id": "068cc99428464a2cb92cd469bc180408",
       "version_major": 2,
       "version_minor": 0
      },
      "text/plain": [
       "A Jupyter Widget"
      ]
     },
     "metadata": {},
     "output_type": "display_data"
    }
   ],
   "source": [
    "print('L\\'usage de la violence :')\n",
    "\n",
    "A = \"Doit toujours être condamné\"\n",
    "B = \"Doit être limité le plus possible\"\n",
    "C = \"Est nécessaire aux luttes politiques\"\n",
    "D = \"Est nécessaire au maintien de l'ordre dans la société\"\n",
    "\n",
    "def evaluate(a):\n",
    "    if (a == A):\n",
    "        x[10]=0\n",
    "    elif(a == B):\n",
    "        x[10]=-1\n",
    "    elif(a == C):\n",
    "        x[10]=1\n",
    "    elif(a == D):\n",
    "        x[10]=2\n",
    "\n",
    "alternativ = widgets.RadioButtons(options = [A, B, C, D], description = '', disabled = False, indent = False, align = 'center', layout={'width': 'max-content'}, value=None)\n",
    "    \n",
    "description_out = widgets.interactive_output(evaluate, {'a': alternativ})\n",
    "\n",
    "widgets.VBox([description_out, alternativ], layout=Layout(display='flex', flex_flow='column', align_items='stretch', width='auto'))\n"
   ]
  },
  {
   "cell_type": "code",
   "execution_count": 86,
   "metadata": {},
   "outputs": [
    {
     "name": "stdout",
     "output_type": "stream",
     "text": [
      "L'euthanasie :\n"
     ]
    },
    {
     "data": {
      "application/vnd.jupyter.widget-view+json": {
       "model_id": "88be4fef31c2475a9f45661f991e13ad",
       "version_major": 2,
       "version_minor": 0
      },
      "text/plain": [
       "A Jupyter Widget"
      ]
     },
     "metadata": {},
     "output_type": "display_data"
    }
   ],
   "source": [
    "print('L\\'euthanasie :')\n",
    "\n",
    "A = \"Doit être autorisée sans condition\"\n",
    "B = \"Doit être autorisée sous conditions\"\n",
    "C = \"Ne doit pas être autorisée\"\n",
    "\n",
    "def evaluate(a):\n",
    "    if (a == A):\n",
    "        x[11]=-1\n",
    "    elif(a == B):\n",
    "        x[11]=0\n",
    "    elif(a == C):\n",
    "        x[11]=1\n",
    "\n",
    "alternativ = widgets.RadioButtons(options = [A, B, C], description = '', disabled = False, indent = False, align = 'center', layout={'width': 'max-content'}, value=None)\n",
    "    \n",
    "description_out = widgets.interactive_output(evaluate, {'a': alternativ})\n",
    "\n",
    "widgets.VBox([description_out, alternativ], layout=Layout(display='flex', flex_flow='column', align_items='stretch', width='auto'))\n"
   ]
  },
  {
   "cell_type": "code",
   "execution_count": 87,
   "metadata": {},
   "outputs": [
    {
     "name": "stdout",
     "output_type": "stream",
     "text": [
      "La consommation de produits d'origine animale :\n"
     ]
    },
    {
     "data": {
      "application/vnd.jupyter.widget-view+json": {
       "model_id": "a3a97210ea2448f6a313e60db7e148f2",
       "version_major": 2,
       "version_minor": 0
      },
      "text/plain": [
       "A Jupyter Widget"
      ]
     },
     "metadata": {},
     "output_type": "display_data"
    }
   ],
   "source": [
    "print('La consommation de produits d\\'origine animale :')\n",
    "\n",
    "A = \"Est immorale\"\n",
    "B = \"Est immorale pour la viande et le poisson mais pas pour les autres produits\"\n",
    "C = \"Est acceptable si elle n'a pas un mauvais impact environnemental\"\n",
    "D = \"Est totalement acceptable\"\n",
    "\n",
    "def evaluate(a):\n",
    "    if (a == A):\n",
    "        y[10]=-2\n",
    "    elif(a == B):\n",
    "        y[10]=-1\n",
    "    elif(a == C):\n",
    "        y[10]=0\n",
    "    elif(a == D):\n",
    "        y[10]=2\n",
    "\n",
    "alternativ = widgets.RadioButtons(options = [A, B, C, D], description = '', disabled = False, indent = False, align = 'center', layout={'width': 'max-content'}, value=None)\n",
    "    \n",
    "description_out = widgets.interactive_output(evaluate, {'a': alternativ})\n",
    "\n",
    "widgets.VBox([description_out, alternativ], layout=Layout(display='flex', flex_flow='column', align_items='stretch', width='auto'))\n"
   ]
  },
  {
   "cell_type": "code",
   "execution_count": 88,
   "metadata": {},
   "outputs": [
    {
     "name": "stdout",
     "output_type": "stream",
     "text": [
      "La propriété privée :\n"
     ]
    },
    {
     "data": {
      "application/vnd.jupyter.widget-view+json": {
       "model_id": "b7696b4ae56a4c3285ac19b2a27f2845",
       "version_major": 2,
       "version_minor": 0
      },
      "text/plain": [
       "A Jupyter Widget"
      ]
     },
     "metadata": {},
     "output_type": "display_data"
    }
   ],
   "source": [
    "print('La propriété privée :')\n",
    "\n",
    "A = \"Est un droit fondamental\"\n",
    "B = \"N'est pas un problème, sauf si elle est illégitime (héritages...)\"\n",
    "C = \"Doit être abolie pour les moyens de production\"\n",
    "D = \"Doit être totalement supprimée\"\n",
    "\n",
    "def evaluate(a):\n",
    "    if (a == A):\n",
    "        y[11]=1\n",
    "    elif(a == B):\n",
    "        y[11]=0\n",
    "    elif(a == C):\n",
    "        y[11]=-1\n",
    "    elif(a == D):\n",
    "        y[11]=-2\n",
    "\n",
    "alternativ = widgets.RadioButtons(options = [A, B, C, D], description = '', disabled = False, indent = False, align = 'center', layout={'width': 'max-content'}, value=None)\n",
    "    \n",
    "description_out = widgets.interactive_output(evaluate, {'a': alternativ})\n",
    "\n",
    "widgets.VBox([description_out, alternativ], layout=Layout(display='flex', flex_flow='column', align_items='stretch', width='auto'))\n"
   ]
  },
  {
   "cell_type": "code",
   "execution_count": 89,
   "metadata": {},
   "outputs": [
    {
     "name": "stdout",
     "output_type": "stream",
     "text": [
      "Le travail du sexe :\n"
     ]
    },
    {
     "data": {
      "application/vnd.jupyter.widget-view+json": {
       "model_id": "bead40e89d3440d6b115289399bcbd16",
       "version_major": 2,
       "version_minor": 0
      },
      "text/plain": [
       "A Jupyter Widget"
      ]
     },
     "metadata": {},
     "output_type": "display_data"
    }
   ],
   "source": [
    "print('Le travail du sexe :')\n",
    "\n",
    "A = \"Doit être interdit\"\n",
    "B = \"Doit être fortement réglementé\"\n",
    "C = \"N'est pas forcément souhaitable en soi mais la liberté des travailleureuses doit être respectée\"\n",
    "D = \"Est un travail normal qui doit être légal et non-limité\"\n",
    "\n",
    "def evaluate(a):\n",
    "    if (a == A):\n",
    "        z[10]=1\n",
    "        x[19]=1\n",
    "    elif(a == B):\n",
    "        z[10]=0\n",
    "    elif(a == C):\n",
    "        z[10]=-1\n",
    "        x[19]=-1\n",
    "    elif(a == D):\n",
    "        z[10]=-1\n",
    "\n",
    "alternativ = widgets.RadioButtons(options = [A, B, C, D], description = '', disabled = False, indent = False, align = 'center', layout={'width': 'max-content'}, value=None)\n",
    "    \n",
    "description_out = widgets.interactive_output(evaluate, {'a': alternativ})\n",
    "\n",
    "widgets.VBox([description_out, alternativ], layout=Layout(display='flex', flex_flow='column', align_items='stretch', width='auto'))\n"
   ]
  },
  {
   "cell_type": "code",
   "execution_count": 90,
   "metadata": {},
   "outputs": [
    {
     "name": "stdout",
     "output_type": "stream",
     "text": [
      "Les problèmes de la société sont-ils causés par un petit groupe de personnes oeuvrant dans l'ombre ?\n"
     ]
    },
    {
     "data": {
      "application/vnd.jupyter.widget-view+json": {
       "model_id": "bdba9a652e354dfeb03d0ff095cea86f",
       "version_major": 2,
       "version_minor": 0
      },
      "text/plain": [
       "A Jupyter Widget"
      ]
     },
     "metadata": {},
     "output_type": "display_data"
    }
   ],
   "source": [
    "print('Les problèmes de la société sont-ils causés par un petit groupe de personnes oeuvrant dans l\\'ombre ?')\n",
    "\n",
    "A = \"Oui\"\n",
    "B = \"Non\"\n",
    "C = \"En partie\"\n",
    "\n",
    "def evaluate(a):\n",
    "    if (a == A):\n",
    "        z[11]=2\n",
    "    elif(a == B):\n",
    "        z[11]=-1\n",
    "    elif(a == C):\n",
    "        z[11]=1\n",
    "\n",
    "alternativ = widgets.RadioButtons(options = [A, B, C], description = '', disabled = False, indent = False, align = 'center', layout={'width': 'max-content'}, value=None)\n",
    "    \n",
    "description_out = widgets.interactive_output(evaluate, {'a': alternativ})\n",
    "\n",
    "widgets.VBox([description_out, alternativ], layout=Layout(display='flex', flex_flow='column', align_items='stretch', width='auto'))\n"
   ]
  },
  {
   "cell_type": "code",
   "execution_count": 91,
   "metadata": {},
   "outputs": [
    {
     "name": "stdout",
     "output_type": "stream",
     "text": [
      "La guerre :\n"
     ]
    },
    {
     "data": {
      "application/vnd.jupyter.widget-view+json": {
       "model_id": "c4fafbe5e41f40849a01c49fcd90b0d0",
       "version_major": 2,
       "version_minor": 0
      },
      "text/plain": [
       "A Jupyter Widget"
      ]
     },
     "metadata": {},
     "output_type": "display_data"
    }
   ],
   "source": [
    "print('La guerre :')\n",
    "\n",
    "A = \"Est toujours inacceptable\"\n",
    "B = \"Est horrible mais peut parfois être le dernier recours à la défense de la paix\"\n",
    "C = \"Est nécessaire de temps en temps\"\n",
    "D = \"Est une bonne chose pour maintenir la suprémacie de sa nation\"\n",
    "\n",
    "def evaluate(a):\n",
    "    if (a == A):\n",
    "        x[12]=0\n",
    "    elif(a == B):\n",
    "        x[12]=-1\n",
    "    elif(a == C):\n",
    "        x[12]=2\n",
    "    elif(a == D):\n",
    "        x[12]=3\n",
    "\n",
    "alternativ = widgets.RadioButtons(options = [A, B, C, D], description = '', disabled = False, indent = False, align = 'center', layout={'width': 'max-content'}, value=None)\n",
    "    \n",
    "description_out = widgets.interactive_output(evaluate, {'a': alternativ})\n",
    "\n",
    "widgets.VBox([description_out, alternativ], layout=Layout(display='flex', flex_flow='column', align_items='stretch', width='auto'))\n"
   ]
  },
  {
   "cell_type": "code",
   "execution_count": 92,
   "metadata": {},
   "outputs": [
    {
     "name": "stdout",
     "output_type": "stream",
     "text": [
      "Les élections :\n"
     ]
    },
    {
     "data": {
      "application/vnd.jupyter.widget-view+json": {
       "model_id": "098bff28c3fa4d4daaf41283ea2bdc54",
       "version_major": 2,
       "version_minor": 0
      },
      "text/plain": [
       "A Jupyter Widget"
      ]
     },
     "metadata": {},
     "output_type": "display_data"
    }
   ],
   "source": [
    "print('Les élections :')\n",
    "\n",
    "A = \"Sont une perte de temps, un système à parti unique ou une monarchie serait plus efficace\"\n",
    "B = \"N'ont que peu d'importance car elles n'élimineront pas les systèmes de domination\"\n",
    "C = \"N'ont pas beaucoup d'importance mais on peut toujours essayer de faire avancer des choses grâce à elles\"\n",
    "D = \"Sont un droit fondamental, il est nécessaire d'y participer\"\n",
    "\n",
    "def evaluate(a):\n",
    "    if (a == A):\n",
    "        x[13]=3\n",
    "    elif(a == B):\n",
    "        x[13]=-1\n",
    "    elif(a == C):\n",
    "        x[13]=0\n",
    "    elif(a == D):\n",
    "        x[13]=1\n",
    "\n",
    "alternativ = widgets.RadioButtons(options = [A, B, C, D], description = '', disabled = False, indent = False, align = 'center', layout={'width': 'max-content'}, value=None)\n",
    "    \n",
    "description_out = widgets.interactive_output(evaluate, {'a': alternativ})\n",
    "\n",
    "widgets.VBox([description_out, alternativ], layout=Layout(display='flex', flex_flow='column', align_items='stretch', width='auto'))\n"
   ]
  },
  {
   "cell_type": "code",
   "execution_count": 93,
   "metadata": {},
   "outputs": [
    {
     "name": "stdout",
     "output_type": "stream",
     "text": [
      "Choisir la meilleure mesure environnementale :\n"
     ]
    },
    {
     "data": {
      "application/vnd.jupyter.widget-view+json": {
       "model_id": "b58ba76eae2743c78181fbadc9aab22a",
       "version_major": 2,
       "version_minor": 0
      },
      "text/plain": [
       "A Jupyter Widget"
      ]
     },
     "metadata": {},
     "output_type": "display_data"
    }
   ],
   "source": [
    "print('Choisir la meilleure mesure environnementale :')\n",
    "\n",
    "A = \"Sortir du nucléaire\"\n",
    "B = \"Investir dans le nucléaire\"\n",
    "C = \"Investir dans les énergies renouvelables\"\n",
    "D = \"Améliorer le traitement et le tri des déchets\"\n",
    "E = \"Développer les transports en commun\"\n",
    "\n",
    "def evaluate(a):\n",
    "    if (a == A):\n",
    "        y[12]=0\n",
    "    elif(a == B):\n",
    "        y[12]=1\n",
    "    elif(a == C):\n",
    "        y[12]=2\n",
    "    elif(a == D):\n",
    "        y[12]=-1\n",
    "    elif(a == E):\n",
    "        y[12]=-2\n",
    "\n",
    "alternativ = widgets.RadioButtons(options = [A, B, C, D, E], description = '', disabled = False, indent = False, align = 'center', layout={'width': 'max-content'}, value=None)\n",
    "    \n",
    "description_out = widgets.interactive_output(evaluate, {'a': alternativ})\n",
    "\n",
    "widgets.VBox([description_out, alternativ], layout=Layout(display='flex', flex_flow='column', align_items='stretch', width='auto'))\n"
   ]
  },
  {
   "cell_type": "code",
   "execution_count": 94,
   "metadata": {},
   "outputs": [
    {
     "name": "stdout",
     "output_type": "stream",
     "text": [
      "L'éducation et la santé peuvent-elles être privées ?\n"
     ]
    },
    {
     "data": {
      "application/vnd.jupyter.widget-view+json": {
       "model_id": "0c09ee28000c43eeb120640dec4de449",
       "version_major": 2,
       "version_minor": 0
      },
      "text/plain": [
       "A Jupyter Widget"
      ]
     },
     "metadata": {},
     "output_type": "display_data"
    }
   ],
   "source": [
    "print('L\\'éducation et la santé peuvent-elles être privées ?')\n",
    "\n",
    "A = \"Oui sans restriction\"\n",
    "B = \"Oui si l'éducation et la santé publiques sont de même qualité\"\n",
    "C = \"Non sauf si c'est la seule solution localement\"\n",
    "D = \"Non\"\n",
    "\n",
    "def evaluate(a):\n",
    "    if (a == A):\n",
    "        y[13]=2\n",
    "    elif(a == B):\n",
    "        y[13]=1\n",
    "    elif(a == C):\n",
    "        y[13]=0\n",
    "    elif(a == D):\n",
    "        y[13]=-1\n",
    "\n",
    "alternativ = widgets.RadioButtons(options = [A, B, C, D], description = '', disabled = False, indent = False, align = 'center', layout={'width': 'max-content'}, value=None)\n",
    "    \n",
    "description_out = widgets.interactive_output(evaluate, {'a': alternativ})\n",
    "\n",
    "widgets.VBox([description_out, alternativ], layout=Layout(display='flex', flex_flow='column', align_items='stretch', width='auto'))\n"
   ]
  },
  {
   "cell_type": "code",
   "execution_count": 95,
   "metadata": {},
   "outputs": [
    {
     "name": "stdout",
     "output_type": "stream",
     "text": [
      "L'usage de drogues autres que l'alcool et le tabac :\n"
     ]
    },
    {
     "data": {
      "application/vnd.jupyter.widget-view+json": {
       "model_id": "84af8e5dc86e4736af414a27f078d526",
       "version_major": 2,
       "version_minor": 0
      },
      "text/plain": [
       "A Jupyter Widget"
      ]
     },
     "metadata": {},
     "output_type": "display_data"
    }
   ],
   "source": [
    "print('L\\'usage de drogues autres que l\\'alcool et le tabac :')\n",
    "\n",
    "A = \"Doit être autorisé\"\n",
    "B = \"Doit être autorisé seulement pour les drogues dites douces\"\n",
    "C = \"Doit être réglementé\"\n",
    "D = \"Doit être interdit\"\n",
    "\n",
    "def evaluate(a):\n",
    "    if (a == A):\n",
    "        z[12]=-1\n",
    "    elif(a == B):\n",
    "        z[12]=0\n",
    "    elif(a == C):\n",
    "        z[12]=1\n",
    "    elif(a == D):\n",
    "        z[12]=2\n",
    "\n",
    "alternativ = widgets.RadioButtons(options = [A, B, C, D], description = '', disabled = False, indent = False, align = 'center', layout={'width': 'max-content'}, value=None)\n",
    "    \n",
    "description_out = widgets.interactive_output(evaluate, {'a': alternativ})\n",
    "\n",
    "widgets.VBox([description_out, alternativ], layout=Layout(display='flex', flex_flow='column', align_items='stretch', width='auto'))\n"
   ]
  },
  {
   "cell_type": "code",
   "execution_count": 96,
   "metadata": {},
   "outputs": [
    {
     "name": "stdout",
     "output_type": "stream",
     "text": [
      "Le mariage :\n"
     ]
    },
    {
     "data": {
      "application/vnd.jupyter.widget-view+json": {
       "model_id": "d1dd14223f064bfc9974aeb0d3b5558d",
       "version_major": 2,
       "version_minor": 0
      },
      "text/plain": [
       "A Jupyter Widget"
      ]
     },
     "metadata": {},
     "output_type": "display_data"
    }
   ],
   "source": [
    "print('Le mariage :')\n",
    "\n",
    "A = \"Est une tradition garantissant le bonheur et la stabilité d'un couple qu'il faut respecter\"\n",
    "B = \"Est une belle institution, mais qui est surtout symbolique\"\n",
    "C = \"Ne sert à rien\"\n",
    "D = \"Sert à perpétuer le patriarcat\"\n",
    "\n",
    "def evaluate(a):\n",
    "    if (a == A):\n",
    "        z[13]=1\n",
    "    elif(a == B):\n",
    "        z[13]=0\n",
    "    elif(a == C):\n",
    "        z[13]=-1\n",
    "    elif(a == D):\n",
    "        z[13]=-2\n",
    "\n",
    "alternativ = widgets.RadioButtons(options = [A, B, C, D], description = '', disabled = False, indent = False, align = 'center', layout={'width': 'max-content'}, value=None)\n",
    "    \n",
    "description_out = widgets.interactive_output(evaluate, {'a': alternativ})\n",
    "\n",
    "widgets.VBox([description_out, alternativ], layout=Layout(display='flex', flex_flow='column', align_items='stretch', width='auto'))\n"
   ]
  },
  {
   "cell_type": "code",
   "execution_count": 97,
   "metadata": {},
   "outputs": [
    {
     "name": "stdout",
     "output_type": "stream",
     "text": [
      "Dans quel pays préférerais-tu habiter ?\n"
     ]
    },
    {
     "data": {
      "application/vnd.jupyter.widget-view+json": {
       "model_id": "deafe2908f4545edbba123f9c53e9596",
       "version_major": 2,
       "version_minor": 0
      },
      "text/plain": [
       "A Jupyter Widget"
      ]
     },
     "metadata": {},
     "output_type": "display_data"
    }
   ],
   "source": [
    "print('Dans quel pays préférerais-tu habiter ?')\n",
    "\n",
    "A = \"France\"\n",
    "B = \"Russie\"\n",
    "C = \"Japon\"\n",
    "D = \"Nouvelle-Zélande\"\n",
    "E = \"Mexique\"\n",
    "\n",
    "def evaluate(a):\n",
    "    if (a == A):\n",
    "        x[9]=0\n",
    "    elif(a == B):\n",
    "        x[9]=3\n",
    "    elif(a == C):\n",
    "        x[9]=1\n",
    "    elif(a == D):\n",
    "        x[9]=-1\n",
    "    elif(a == E):\n",
    "        x[9]=2\n",
    "\n",
    "alternativ = widgets.RadioButtons(options = [A, B, C, D, E], description = '', disabled = False, indent = False, align = 'center', layout={'width': 'max-content'}, value=None)\n",
    "    \n",
    "description_out = widgets.interactive_output(evaluate, {'a': alternativ})\n",
    "\n",
    "widgets.VBox([description_out, alternativ], layout=Layout(display='flex', flex_flow='column', align_items='stretch', width='auto'))\n"
   ]
  },
  {
   "cell_type": "code",
   "execution_count": 98,
   "metadata": {},
   "outputs": [
    {
     "name": "stdout",
     "output_type": "stream",
     "text": [
      "As-tu été choqué.e par certaines propositions de réponse lors de ce test ?\n"
     ]
    },
    {
     "data": {
      "application/vnd.jupyter.widget-view+json": {
       "model_id": "d64474f5d05c4e94a2477aea3677bd2e",
       "version_major": 2,
       "version_minor": 0
      },
      "text/plain": [
       "A Jupyter Widget"
      ]
     },
     "metadata": {},
     "output_type": "display_data"
    }
   ],
   "source": [
    "print('As-tu été choqué.e par certaines propositions de réponses lors de ce test ?')\n",
    "\n",
    "A = \"Oui\"\n",
    "B = \"Non\"\n",
    "\n",
    "def evaluate(a):\n",
    "    if (a == A):\n",
    "        z[17]=0\n",
    "    elif(a == B):\n",
    "        z[17]=1\n",
    "\n",
    "alternativ = widgets.RadioButtons(options = [A, B], description = '', disabled = False, indent = False, align = 'center', layout={'width': 'max-content'}, value=None)\n",
    "    \n",
    "description_out = widgets.interactive_output(evaluate, {'a': alternativ})\n",
    "\n",
    "widgets.VBox([description_out, alternativ], layout=Layout(display='flex', flex_flow='column', align_items='stretch', width='auto'))\n"
   ]
  },
  {
   "cell_type": "code",
   "execution_count": 2,
   "metadata": {
    "collapsed": true
   },
   "outputs": [],
   "source": [
    "X = x.sum()\n",
    "Y = y.sum()\n",
    "Z = z.sum()\n",
    "m=''\n",
    "\n",
    "if(X<-12):\n",
    "    if(Y<-12):\n",
    "        if(Z<-12):\n",
    "            m='de l\\'anarchisme !'\n",
    "        elif(Z<0):\n",
    "            m='du situationnisme !'\n",
    "        else:\n",
    "            m='du conservatisme social. Vous êtes peu nombreux et c\\'est très bien comme ça.'\n",
    "    elif(Y<4):\n",
    "        if(Z<0):\n",
    "            m='de l\\'individualisme anarchiste !'\n",
    "        else:\n",
    "            m='du conservatisme social. Vous êtes peu nombreux et c\\'est très bien comme ça.'\n",
    "    else:\n",
    "        if(Z<0):\n",
    "            m='du communisme de conseils !'\n",
    "        else:\n",
    "            m='du libertariannisme. Tu es louche.'\n",
    "elif(X<8):\n",
    "    if(Y<-12):\n",
    "        if(Z<-5):\n",
    "            m='du trotskisme.'\n",
    "        else:\n",
    "            m='de la démocratie chrétienne. Tu es étrange.'\n",
    "    else:\n",
    "        if(Z<2):\n",
    "            m='de la sociale-démocratie.'\n",
    "        else:\n",
    "            m='du traditionalisme, c\\'est pas bien hein.'\n",
    "elif(X<20):\n",
    "    if(Y<0):\n",
    "        m='du stalinisme, connard/connasse.'\n",
    "    else:\n",
    "        if(Z<0):\n",
    "            m='de la droite libérale, c\\'est pas bien hein.'\n",
    "        else:\n",
    "            m='de la droite réactionnaire, connard/connasse.'\n",
    "else:\n",
    "    if(Y<0):\n",
    "        m='du maoïsme, connard/connasse.'\n",
    "    else:\n",
    "        if(Z<-5):\n",
    "            m='de la droite libérale, c\\'est pas bien hein.'\n",
    "        elif(Z<10):\n",
    "            m='de la droite réactionnaire, connard/connasse.'\n",
    "        else:\n",
    "            m='du fascime. Va mourir.'\n",
    "            \n",
    "m='Résultat : tu es proche '+m"
   ]
  },
  {
   "cell_type": "code",
   "execution_count": 3,
   "metadata": {},
   "outputs": [
    {
     "data": {
      "image/png": "[encoded data removed]",
      "text/plain": [
       "<matplotlib.figure.Figure at 0x1ab58ddf518>"
      ]
     },
     "metadata": {},
     "output_type": "display_data"
    }
   ],
   "source": [
    "fig=plt.figure(figsize=(16,16))\n",
    "\n",
    "axes = plt.axes(projection='3d')\n",
    "axes.set_title(m, fontsize=20, fontweight='bold')\n",
    "axes.set_xlabel('Liberté           Autorité', fontsize=24)\n",
    "axes.set_ylabel('Antiproductivisme   Productivisme', fontsize=24)\n",
    "axes.set_zlabel('Progressisme      Conservatisme', fontsize=24)\n",
    "axes.set_xlim(-25, 32)\n",
    "axes.xaxis.set_tick_params(labelsize = 0)\n",
    "axes.set_ylim(-25, 32)\n",
    "axes.yaxis.set_tick_params(labelsize = 0)\n",
    "axes.set_zlim(-25, 32)\n",
    "axes.zaxis.set_tick_params(labelsize = 0)\n",
    "\n",
    "axes.plot3D([X], [Y], [Z], 'ro', markersize = 16)\n",
    "axes.plot3D([X], [-26], [-26], 'rx')\n",
    "axes.plot3D([33], [Y], [-26], 'rx')\n",
    "axes.plot3D([33], [33], [Z], 'rx')\n",
    "\n",
    "plt.show()"
   ]
  },
  {
   "cell_type": "code",
   "execution_count": null,
   "metadata": {
    "collapsed": true
   },
   "outputs": [],
   "source": []
  }
 ],
 "metadata": {
  "kernelspec": {
   "display_name": "Python 3",
   "language": "python",
   "name": "python3"
  },
  "language_info": {
   "codemirror_mode": {
    "name": "ipython",
    "version": 3
   },
   "file_extension": ".py",
   "mimetype": "text/x-python",
   "name": "python",
   "nbconvert_exporter": "python",
   "pygments_lexer": "ipython3",
   "version": "3.6.3"
  }
 },
 "nbformat": 4,
 "nbformat_minor": 2
}
