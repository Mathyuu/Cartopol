{
 "cells": [
  {
   "cell_type": "code",
   "execution_count": 1,
   "metadata": {},
   "outputs": [
    {
     "name": "stdout",
     "output_type": "stream",
     "text": [
      "Cette cartographie politique inspirée du Political Compass et de ses dérivés va te placer dans un espace politique 3D dirigé\n",
      "par trois axes :\n",
      "- Un axe de la « liberté » qui traduira ton rapport à l'autorité et notamment à l'état.\n",
      "- Un axe de l'« économie » qui traduira ton rapport au capitalisme, au productivisme et donc également à l'environnement.\n",
      "- Un axe du « conservatisme » qui traduira ton rapport aux questions dites de société, c'est le plus proche du traditionnel\n",
      "axe « droite - gauche ».\n",
      "Ainsi ce test te fournira une position politique assez riche et te proposera les courants les plus proches de cette dernière.\n",
      "C'est parti !\n"
     ]
    },
    {
     "data": {
      "text/html": [
       "<style id=hide>div.input{display:none;}</style><button type=\"button\"onclick=\"var myStyle = document.getElementById('hide').sheet;myStyle.insertRule('div.input{display:inherit !important;}', 0);\">Show inputs</button>"
      ],
      "text/plain": [
       "<IPython.core.display.HTML object>"
      ]
     },
     "metadata": {},
     "output_type": "display_data"
    },
    {
     "data": {
      "application/javascript": [
       "IPython.notebook.execute_cell_range(IPython.notebook.get_selected_index()+1, IPython.notebook.get_selected_index()+2)"
      ],
      "text/plain": [
       "<IPython.core.display.Javascript object>"
      ]
     },
     "metadata": {},
     "output_type": "display_data"
    }
   ],
   "source": [
    "# -*- coding: utf-8 -*-\n",
    "\n",
    "import numpy as np\n",
    "import matplotlib.pyplot as plt\n",
    "from mpl_toolkits import mplot3d\n",
    "from ipywidgets import widgets, Layout, Box\n",
    "from IPython.display import Javascript, HTML, display\n",
    "\n",
    "print('Cette cartographie politique inspirée du Political Compass et de ses dérivés va te placer dans un espace politique 3D dirigé')\n",
    "print('par trois axes :')\n",
    "print('- Un axe de la « liberté » qui traduira ton rapport à l\\'autorité et notamment à l\\'état.')\n",
    "print('- Un axe de l\\'« économie » qui traduira ton rapport au capitalisme, au productivisme et donc également à l\\'environnement.')\n",
    "print('- Un axe du « conservatisme » qui traduira ton rapport aux questions dites de société, c\\'est le plus proche du traditionnel')\n",
    "print('axe « droite - gauche ».')\n",
    "print('Ainsi ce test te fournira une position politique assez riche et te proposera les courants les plus proches de cette dernière.')\n",
    "print('C\\'est parti !')\n",
    "\n",
    "x = np.zeros(32) #Liberté -> autorité\n",
    "y = np.zeros(32) #Antiproductivisme -> productivisme\n",
    "z = np.zeros(32) #Progressisme -> conservatisme\n",
    "\n",
    "display(HTML(r\"\"\"<style id=hide>div.input{display:none;}</style><button type=\"button\"onclick=\"var myStyle = document.getElementById('hide').sheet;myStyle.insertRule('div.input{display:inherit !important;}', 0);\">Show inputs</button>\"\"\"))\n",
    "display(Javascript('IPython.notebook.execute_cell_range(IPython.notebook.get_selected_index()+1, IPython.notebook.get_selected_index()+2)'))"
   ]
  },
  {
   "cell_type": "code",
   "execution_count": null,
   "metadata": {
    "collapsed": true
   },
   "outputs": [],
   "source": []
  },
  {
   "cell_type": "code",
   "execution_count": 2,
   "metadata": {
    "scrolled": true
   },
   "outputs": [
    {
     "name": "stdout",
     "output_type": "stream",
     "text": [
      "Les frontières entre pays sont :\n"
     ]
    },
    {
     "data": {
      "application/vnd.jupyter.widget-view+json": {
       "model_id": "ec369d8a291745789e336a9dbfc0e766",
       "version_major": 2,
       "version_minor": 0
      },
      "text/plain": [
       "A Jupyter Widget"
      ]
     },
     "metadata": {},
     "output_type": "display_data"
    }
   ],
   "source": [
    "print('Les frontières entre pays sont :')\n",
    "\n",
    "def evaluate(a):\n",
    "    if (a == 'Un outil crucial pour protéger les civilisations'):\n",
    "        x[0]=2\n",
    "        display(Javascript('IPython.notebook.execute_cell_range(IPython.notebook.get_selected_index()+1, IPython.notebook.get_selected_index()+2)'))\n",
    "    elif(a == 'Les produits d\\'une histoire et d\\'une géographie, qu\\'il faut défendre'):\n",
    "        x[0]=1\n",
    "        display(Javascript('IPython.notebook.execute_cell_range(IPython.notebook.get_selected_index()+1, IPython.notebook.get_selected_index()+2)'))\n",
    "    elif(a == 'Un mal nécessaire'):\n",
    "        x[0]=0\n",
    "        display(Javascript('IPython.notebook.execute_cell_range(IPython.notebook.get_selected_index()+1, IPython.notebook.get_selected_index()+2)'))\n",
    "    elif(a == 'Une aberration qu\\'il faut abolir'):\n",
    "        x[0]=-2\n",
    "        display(Javascript('IPython.notebook.execute_cell_range(IPython.notebook.get_selected_index()+1, IPython.notebook.get_selected_index()+2)'))\n",
    "    \n",
    "alternativ = widgets.RadioButtons(\n",
    "    options = ['Un outil crucial pour protéger les civilisations', 'Les produits d\\'une histoire et d\\'une géographie, qu\\'il faut défendre', 'Un mal nécessaire', 'Une aberration qu\\'il faut abolir'],\n",
    "    description = '', disabled = False, indent = False, align = 'center', layout={'width': 'max-content'}, value=None)\n",
    "    \n",
    "description_out = widgets.interactive_output(evaluate, {'a': alternativ})\n",
    "\n",
    "widgets.VBox([description_out, alternativ], layout=Layout(display='flex', flex_flow='column', align_items='stretch', width='auto'))\n"
   ]
  },
  {
   "cell_type": "code",
   "execution_count": null,
   "metadata": {
    "collapsed": true
   },
   "outputs": [],
   "source": []
  },
  {
   "cell_type": "code",
   "execution_count": 52,
   "metadata": {},
   "outputs": [
    {
     "name": "stdout",
     "output_type": "stream",
     "text": [
      "Les pays sont :\n"
     ]
    },
    {
     "data": {
      "application/vnd.jupyter.widget-view+json": {
       "model_id": "48af00759b344c359cd0fba4c8cefd6d",
       "version_major": 2,
       "version_minor": 0
      },
      "text/plain": [
       "A Jupyter Widget"
      ]
     },
     "metadata": {},
     "output_type": "display_data"
    }
   ],
   "source": [
    "print('Les pays sont :')\n",
    "\n",
    "A = \"Toute notre identité, je suis prêt.e à mourir pour le mien\"\n",
    "B = \"Un élément important de notre identité, il faut respecter le sien\"\n",
    "C = \"Des éléments importants des identités, mais aucun pays ne vaut plus qu'un autre\"\n",
    "D = \"Une construction ayant pour but l'oppression des peuples, nous ne devons rien à notre pays\"\n",
    "\n",
    "def evaluate(a):\n",
    "    if (a == A):\n",
    "        x[1]=2\n",
    "        display(Javascript('IPython.notebook.execute_cell_range(IPython.notebook.get_selected_index()+1, IPython.notebook.get_selected_index()+2)'))\n",
    "    elif(a == B):\n",
    "        x[1]=1\n",
    "        display(Javascript('IPython.notebook.execute_cell_range(IPython.notebook.get_selected_index()+1, IPython.notebook.get_selected_index()+2)'))\n",
    "    elif(a == C):\n",
    "        x[1]=0\n",
    "        display(Javascript('IPython.notebook.execute_cell_range(IPython.notebook.get_selected_index()+1, IPython.notebook.get_selected_index()+2)'))\n",
    "    elif(a == D):\n",
    "        x[1]=-1\n",
    "        display(Javascript('IPython.notebook.execute_cell_range(IPython.notebook.get_selected_index()+1, IPython.notebook.get_selected_index()+2)'))\n",
    "\n",
    "alternativ = widgets.RadioButtons(options = [A, B, C, D], description = '', disabled = False, indent = False, align = 'center', layout={'width': 'max-content'}, value=None)\n",
    "\n",
    "description_out = widgets.interactive_output(evaluate, {'a': alternativ})\n",
    "\n",
    "widgets.VBox([description_out, alternativ], layout=Layout(display='flex', flex_flow='column', align_items='stretch', width='auto'))\n"
   ]
  },
  {
   "cell_type": "code",
   "execution_count": null,
   "metadata": {
    "collapsed": true
   },
   "outputs": [],
   "source": []
  },
  {
   "cell_type": "code",
   "execution_count": 6,
   "metadata": {},
   "outputs": [
    {
     "name": "stdout",
     "output_type": "stream",
     "text": [
      "Que penses-tu de la devise « de chacun.e selon ses moyens à chacun.e selon ses besoins » ?\n"
     ]
    },
    {
     "data": {
      "application/vnd.jupyter.widget-view+json": {
       "model_id": "95295a03b748471a82614dbff473450a",
       "version_major": 2,
       "version_minor": 0
      },
      "text/plain": [
       "A Jupyter Widget"
      ]
     },
     "metadata": {},
     "output_type": "display_data"
    }
   ],
   "source": [
    "print('Que penses-tu de la devise « de chacun.e selon ses moyens à chacun.e selon ses besoins » ?')\n",
    "\n",
    "A = \"Je suis totalement d'accord\"\n",
    "B = \"Je suis assez d'accord, ça dépend\"\n",
    "C = \"Je ne suis pas vraiment d'accord, ça dépend\"\n",
    "D = \"Je suis totalement en désaccord\"\n",
    "\n",
    "def evaluate(a):\n",
    "    if (a == A):\n",
    "        y[0]=-2\n",
    "        display(Javascript('IPython.notebook.execute_cell_range(IPython.notebook.get_selected_index()+1, IPython.notebook.get_selected_index()+2)'))\n",
    "    elif(a == B):\n",
    "        y[0]=-1\n",
    "        display(Javascript('IPython.notebook.execute_cell_range(IPython.notebook.get_selected_index()+1, IPython.notebook.get_selected_index()+2)'))\n",
    "    elif(a == C):\n",
    "        y[0]=1\n",
    "        display(Javascript('IPython.notebook.execute_cell_range(IPython.notebook.get_selected_index()+1, IPython.notebook.get_selected_index()+2)'))\n",
    "    elif(a == D):\n",
    "        y[0]=2\n",
    "        display(Javascript('IPython.notebook.execute_cell_range(IPython.notebook.get_selected_index()+1, IPython.notebook.get_selected_index()+2)'))\n",
    "\n",
    "alternativ = widgets.RadioButtons(options = [A, B, C, D], description = '', disabled = False, indent = False, align = 'center', layout={'width': 'max-content'}, value=None)\n",
    "    \n",
    "description_out = widgets.interactive_output(evaluate, {'a': alternativ})\n",
    "\n",
    "widgets.VBox([description_out, alternativ], layout=Layout(display='flex', flex_flow='column', align_items='stretch', width='auto'))\n"
   ]
  },
  {
   "cell_type": "code",
   "execution_count": null,
   "metadata": {
    "collapsed": true
   },
   "outputs": [],
   "source": []
  },
  {
   "cell_type": "code",
   "execution_count": 7,
   "metadata": {},
   "outputs": [
    {
     "name": "stdout",
     "output_type": "stream",
     "text": [
      "Faut-il réduire le temps de travail (en maintenant les salaires) ?\n"
     ]
    },
    {
     "data": {
      "application/vnd.jupyter.widget-view+json": {
       "model_id": "51648e4a0b3f456fa35ee0ff90531ecf",
       "version_major": 2,
       "version_minor": 0
      },
      "text/plain": [
       "A Jupyter Widget"
      ]
     },
     "metadata": {},
     "output_type": "display_data"
    }
   ],
   "source": [
    "print('Faut-il réduire le temps de travail (en maintenant les salaires) ?')\n",
    "\n",
    "A = \"Oui, mais l'urgence est d'abolir le salariat\"\n",
    "B = \"Oui, ce serait bien pour l'environnement et le chômage\"\n",
    "C = \"Non, ça coûterait trop cher\"\n",
    "D = \"Non, il faudrait l'augmenter\"\n",
    "\n",
    "def evaluate(a):\n",
    "    if (a == A):\n",
    "        y[1]=-3\n",
    "        display(Javascript('IPython.notebook.execute_cell_range(IPython.notebook.get_selected_index()+1, IPython.notebook.get_selected_index()+2)'))\n",
    "    elif(a == B):\n",
    "        y[1]=-1\n",
    "        display(Javascript('IPython.notebook.execute_cell_range(IPython.notebook.get_selected_index()+1, IPython.notebook.get_selected_index()+2)'))\n",
    "    elif(a == C):\n",
    "        y[1]=0\n",
    "        display(Javascript('IPython.notebook.execute_cell_range(IPython.notebook.get_selected_index()+1, IPython.notebook.get_selected_index()+2)'))\n",
    "    elif(a == D):\n",
    "        y[1]=2\n",
    "        display(Javascript('IPython.notebook.execute_cell_range(IPython.notebook.get_selected_index()+1, IPython.notebook.get_selected_index()+2)'))\n",
    "\n",
    "alternativ = widgets.RadioButtons(options = [A, B, C, D], description = '', disabled = False, indent = False, align = 'center', layout={'width': 'max-content'}, value=None)\n",
    "    \n",
    "description_out = widgets.interactive_output(evaluate, {'a': alternativ})\n",
    "\n",
    "widgets.VBox([description_out, alternativ], layout=Layout(display='flex', flex_flow='column', align_items='stretch', width='auto'))\n"
   ]
  },
  {
   "cell_type": "code",
   "execution_count": null,
   "metadata": {
    "collapsed": true
   },
   "outputs": [],
   "source": []
  },
  {
   "cell_type": "code",
   "execution_count": 8,
   "metadata": {},
   "outputs": [
    {
     "name": "stdout",
     "output_type": "stream",
     "text": [
      "La peine de mort...\n"
     ]
    },
    {
     "data": {
      "application/vnd.jupyter.widget-view+json": {
       "model_id": "fb3d55d7268b4f10bc9e2cfa463c9560",
       "version_major": 2,
       "version_minor": 0
      },
      "text/plain": [
       "A Jupyter Widget"
      ]
     },
     "metadata": {},
     "output_type": "display_data"
    }
   ],
   "source": [
    "print('La peine de mort...')\n",
    "\n",
    "A = \"... Ne devrait exister nulle part\"\n",
    "B = \"... Ne devrait pas exister mais est compréhensible dans certains contextes historiques (révolutions, grandes condamnations pour crimes contre l'humanité...)\"\n",
    "C = \"... Devrait exister seulement pour les crimes les plus graves ou à la demande du condamné\"\n",
    "D = \"... Devrait exister pour tous les crimes et être appliquée fermement\"\n",
    "\n",
    "def evaluate(a):\n",
    "    if (a == A):\n",
    "        z[0]=-1\n",
    "        display(Javascript('IPython.notebook.execute_cell_range(IPython.notebook.get_selected_index()+1, IPython.notebook.get_selected_index()+2)'))\n",
    "    elif(a == B):\n",
    "        z[0]=0\n",
    "        x[14]=1\n",
    "        display(Javascript('IPython.notebook.execute_cell_range(IPython.notebook.get_selected_index()+1, IPython.notebook.get_selected_index()+2)'))\n",
    "    elif(a == C):\n",
    "        z[0]=2\n",
    "        display(Javascript('IPython.notebook.execute_cell_range(IPython.notebook.get_selected_index()+1, IPython.notebook.get_selected_index()+2)'))\n",
    "    elif(a == D):\n",
    "        z[0]=3\n",
    "        display(Javascript('IPython.notebook.execute_cell_range(IPython.notebook.get_selected_index()+1, IPython.notebook.get_selected_index()+2)'))\n",
    "\n",
    "alternativ = widgets.RadioButtons(options = [A, B, C, D], description = '', disabled = False, indent = False, align = 'center', layout={'width': 'max-content'}, value=None)\n",
    "    \n",
    "description_out = widgets.interactive_output(evaluate, {'a': alternativ})\n",
    "\n",
    "widgets.VBox([description_out, alternativ], layout=Layout(display='flex', flex_flow='column', align_items='stretch', width='auto'))\n"
   ]
  },
  {
   "cell_type": "code",
   "execution_count": null,
   "metadata": {
    "collapsed": true
   },
   "outputs": [],
   "source": []
  },
  {
   "cell_type": "code",
   "execution_count": 9,
   "metadata": {},
   "outputs": [
    {
     "name": "stdout",
     "output_type": "stream",
     "text": [
      "L'avortement est :\n"
     ]
    },
    {
     "data": {
      "application/vnd.jupyter.widget-view+json": {
       "model_id": "0960f052dda54bd7bba063fa9f42d6bf",
       "version_major": 2,
       "version_minor": 0
      },
      "text/plain": [
       "A Jupyter Widget"
      ]
     },
     "metadata": {},
     "output_type": "display_data"
    }
   ],
   "source": [
    "print(\"L'avortement est :\")\n",
    "\n",
    "A = \"Un crime qu'il faut sévèrement condamner\"\n",
    "B = \"Un délit qu'il faut interdire, mais qui est tolérable dans les cas de viols\"\n",
    "C = \"La perte d'une vie, il ne faut pas l'interdire, mais ne pas l'encourager non plus\"\n",
    "D = \"Un droit fondamental qui doit être libre, accompagné et gratuit\"\n",
    "\n",
    "def evaluate(a):\n",
    "    if (a == A):\n",
    "        z[1]=2\n",
    "        display(Javascript('IPython.notebook.execute_cell_range(IPython.notebook.get_selected_index()+1, IPython.notebook.get_selected_index()+2)'))\n",
    "    elif(a == B):\n",
    "        z[1]=1\n",
    "        display(Javascript('IPython.notebook.execute_cell_range(IPython.notebook.get_selected_index()+1, IPython.notebook.get_selected_index()+2)'))\n",
    "    elif(a == C):\n",
    "        z[1]=0\n",
    "        display(Javascript('IPython.notebook.execute_cell_range(IPython.notebook.get_selected_index()+1, IPython.notebook.get_selected_index()+2)'))\n",
    "    elif(a == D):\n",
    "        z[1]=-1\n",
    "        display(Javascript('IPython.notebook.execute_cell_range(IPython.notebook.get_selected_index()+1, IPython.notebook.get_selected_index()+2)'))\n",
    "\n",
    "alternativ = widgets.RadioButtons(options = [A, B, C, D], description = '', disabled = False, indent = False, align = 'center', layout={'width': 'max-content'}, value=None)\n",
    "    \n",
    "description_out = widgets.interactive_output(evaluate, {'a': alternativ})\n",
    "\n",
    "widgets.VBox([description_out, alternativ], layout=Layout(display='flex', flex_flow='column', align_items='stretch', width='auto'))\n"
   ]
  },
  {
   "cell_type": "code",
   "execution_count": null,
   "metadata": {
    "collapsed": true
   },
   "outputs": [],
   "source": []
  },
  {
   "cell_type": "code",
   "execution_count": 10,
   "metadata": {},
   "outputs": [
    {
     "name": "stdout",
     "output_type": "stream",
     "text": [
      "Les prisons sont :\n"
     ]
    },
    {
     "data": {
      "application/vnd.jupyter.widget-view+json": {
       "model_id": "7e0ddc5f908345a2b0609fc2f3dd566e",
       "version_major": 2,
       "version_minor": 0
      },
      "text/plain": [
       "A Jupyter Widget"
      ]
     },
     "metadata": {},
     "output_type": "display_data"
    }
   ],
   "source": [
    "print('Les prisons sont :')\n",
    "\n",
    "A = \"Les meilleurs outils pour assurer la sécurité et le calme dans la société\"\n",
    "B = \"Des outils pour protéger la société des criminels les plus dangereux ou instables, mais les conditions de vie doivent y être correctes\"\n",
    "C = \"Des outils de punition et de vengeance : il faut privilégier au maximum la réparation et la réhabilitation des condamné.e.s\"\n",
    "D = \"Des structures qu'il faut abolir, mais il faut pouvoir contrôler les criminels violents pouvant récidiver\"\n",
    "E = \"Des structures qu'il faut abolir sans condition, la justice ne doit pas priver les gens de liberté\"\n",
    "\n",
    "def evaluate(a):\n",
    "    if (a == A):\n",
    "        x[2]=2\n",
    "        display(Javascript('IPython.notebook.execute_cell_range(IPython.notebook.get_selected_index()+1, IPython.notebook.get_selected_index()+2)'))\n",
    "    elif(a == B):\n",
    "        x[2]=1\n",
    "        display(Javascript('IPython.notebook.execute_cell_range(IPython.notebook.get_selected_index()+1, IPython.notebook.get_selected_index()+2)'))\n",
    "    elif(a == C):\n",
    "        x[2]=0\n",
    "        z[14]=-1\n",
    "        display(Javascript('IPython.notebook.execute_cell_range(IPython.notebook.get_selected_index()+1, IPython.notebook.get_selected_index()+2)'))\n",
    "    elif(a == D):\n",
    "        x[2]=-1\n",
    "        z[14]=-1\n",
    "        display(Javascript('IPython.notebook.execute_cell_range(IPython.notebook.get_selected_index()+1, IPython.notebook.get_selected_index()+2)'))\n",
    "    elif(a == E):\n",
    "        x[2]=-2\n",
    "        display(Javascript('IPython.notebook.execute_cell_range(IPython.notebook.get_selected_index()+1, IPython.notebook.get_selected_index()+2)'))\n",
    "\n",
    "alternativ = widgets.RadioButtons(options = [A, B, C, D, E], description = '', disabled = False, indent = False, align = 'center', layout={'width': 'max-content'}, value=None)\n",
    "    \n",
    "description_out = widgets.interactive_output(evaluate, {'a': alternativ})\n",
    "\n",
    "widgets.VBox([description_out, alternativ], layout=Layout(display='flex', flex_flow='column', align_items='stretch', width='auto'))\n"
   ]
  },
  {
   "cell_type": "code",
   "execution_count": null,
   "metadata": {
    "collapsed": true
   },
   "outputs": [],
   "source": []
  },
  {
   "cell_type": "code",
   "execution_count": 11,
   "metadata": {},
   "outputs": [
    {
     "name": "stdout",
     "output_type": "stream",
     "text": [
      "Le maintien de la sécurité...\n"
     ]
    },
    {
     "data": {
      "application/vnd.jupyter.widget-view+json": {
       "model_id": "a0691124e0554de0b3272a7e9538887c",
       "version_major": 2,
       "version_minor": 0
      },
      "text/plain": [
       "A Jupyter Widget"
      ]
     },
     "metadata": {},
     "output_type": "display_data"
    }
   ],
   "source": [
    "print('Le maintien de la sécurité...')\n",
    "\n",
    "A = \"... Doit être effectué par une police de métier ayant le droit d'employer la force autant qu'elle le juge nécessaire\"\n",
    "B = \"... Doit être effectué par une police de métier ne possédant pas d'armes létales et pouvant être contrôlée\"\n",
    "C = \"... Doit être effectué par un corps de personnes mandatées et contrôlées par la population, ayant reçu une formation pour être dans le respect et la non-violence\"\n",
    "D = \"... Ne doit pas être effectué\"\n",
    "\n",
    "def evaluate(a):\n",
    "    if (a == A):\n",
    "        x[3]=3\n",
    "        display(Javascript('IPython.notebook.execute_cell_range(IPython.notebook.get_selected_index()+1, IPython.notebook.get_selected_index()+2)'))\n",
    "    elif(a == B):\n",
    "        x[3]=1\n",
    "        display(Javascript('IPython.notebook.execute_cell_range(IPython.notebook.get_selected_index()+1, IPython.notebook.get_selected_index()+2)'))\n",
    "    elif(a == C):\n",
    "        x[3]=-1\n",
    "        display(Javascript('IPython.notebook.execute_cell_range(IPython.notebook.get_selected_index()+1, IPython.notebook.get_selected_index()+2)'))\n",
    "    elif(a == D):\n",
    "        x[3]=-2\n",
    "        display(Javascript('IPython.notebook.execute_cell_range(IPython.notebook.get_selected_index()+1, IPython.notebook.get_selected_index()+2)'))\n",
    "\n",
    "alternativ = widgets.RadioButtons(options = [A, B, C, D], description = '', disabled = False, indent = False, align = 'center', layout={'width': 'max-content'}, value=None)\n",
    "    \n",
    "description_out = widgets.interactive_output(evaluate, {'a': alternativ})\n",
    "\n",
    "widgets.VBox([description_out, alternativ], layout=Layout(display='flex', flex_flow='column', align_items='stretch', width='auto'))\n"
   ]
  },
  {
   "cell_type": "code",
   "execution_count": null,
   "metadata": {
    "collapsed": true
   },
   "outputs": [],
   "source": []
  },
  {
   "cell_type": "code",
   "execution_count": 12,
   "metadata": {},
   "outputs": [
    {
     "name": "stdout",
     "output_type": "stream",
     "text": [
      "Que penses-tu des impôts ?\n"
     ]
    },
    {
     "data": {
      "application/vnd.jupyter.widget-view+json": {
       "model_id": "c72706b2d2d84cdba8e8b448e0ee254a",
       "version_major": 2,
       "version_minor": 0
      },
      "text/plain": [
       "A Jupyter Widget"
      ]
     },
     "metadata": {},
     "output_type": "display_data"
    }
   ],
   "source": [
    "print('Que penses-tu des impôts ?')\n",
    "\n",
    "A = \"Ils doivent être les mêmes ou presque pour toustes : chacun.e doit contribuer aux services publics\"\n",
    "B = \"Ils doivent être égalitaires et progressifs : les riches doivent être fortement taxés et les pauvres, peu\"\n",
    "C = \"Ils ne devraient pas exister : chacun.e doit payer pour les services sont iel a besoin\"\n",
    "D = \"Ils ne devraient pas exister : nous n'avons besoin ni d'argent, ni d'état pour offrir des services publics de qualité et faire preuve de solidarité\"\n",
    "\n",
    "def evaluate(a):\n",
    "    if (a == A):\n",
    "        y[2]=1\n",
    "        display(Javascript('IPython.notebook.execute_cell_range(IPython.notebook.get_selected_index()+1, IPython.notebook.get_selected_index()+2)'))\n",
    "    elif(a == B):\n",
    "        y[2]=-1\n",
    "        display(Javascript('IPython.notebook.execute_cell_range(IPython.notebook.get_selected_index()+1, IPython.notebook.get_selected_index()+2)'))\n",
    "    elif(a == C):\n",
    "        y[2]=2\n",
    "        display(Javascript('IPython.notebook.execute_cell_range(IPython.notebook.get_selected_index()+1, IPython.notebook.get_selected_index()+2)'))\n",
    "    elif(a == D):\n",
    "        y[2]=-1\n",
    "        x[15]=-1\n",
    "        display(Javascript('IPython.notebook.execute_cell_range(IPython.notebook.get_selected_index()+1, IPython.notebook.get_selected_index()+2)'))\n",
    "\n",
    "alternativ = widgets.RadioButtons(options = [A, B, C, D], description = '', disabled = False, indent = False, align = 'center', layout={'width': 'max-content'}, value=None)\n",
    "    \n",
    "description_out = widgets.interactive_output(evaluate, {'a': alternativ})\n",
    "\n",
    "widgets.VBox([description_out, alternativ], layout=Layout(display='flex', flex_flow='column', align_items='stretch', width='auto'))\n"
   ]
  },
  {
   "cell_type": "code",
   "execution_count": null,
   "metadata": {
    "collapsed": true
   },
   "outputs": [],
   "source": []
  },
  {
   "cell_type": "code",
   "execution_count": 13,
   "metadata": {},
   "outputs": [
    {
     "name": "stdout",
     "output_type": "stream",
     "text": [
      "Le coût du travail :\n"
     ]
    },
    {
     "data": {
      "application/vnd.jupyter.widget-view+json": {
       "model_id": "3a25b42abc0f4b1692c4966b4ff42eaa",
       "version_major": 2,
       "version_minor": 0
      },
      "text/plain": [
       "A Jupyter Widget"
      ]
     },
     "metadata": {},
     "output_type": "display_data"
    }
   ],
   "source": [
    "print('Le coût du travail :')\n",
    "\n",
    "A = \"Est trop élevé, il faut réduire les dépenses des créateurs d'emplois\"\n",
    "B = \"Est trop faible, il faut mieux rémunérer les travailleureuses\"\n",
    "C = \"Est une absurdité, le travail ne coûte rien puisqu'il produit tout\"\n",
    "\n",
    "def evaluate(a):\n",
    "    if (a == A):\n",
    "        y[3]=1\n",
    "        display(Javascript('IPython.notebook.execute_cell_range(IPython.notebook.get_selected_index()+1, IPython.notebook.get_selected_index()+2)'))\n",
    "    elif(a == B):\n",
    "        y[3]=-1\n",
    "        display(Javascript('IPython.notebook.execute_cell_range(IPython.notebook.get_selected_index()+1, IPython.notebook.get_selected_index()+2)'))\n",
    "    elif(a == C):\n",
    "        y[3]=-3\n",
    "        display(Javascript('IPython.notebook.execute_cell_range(IPython.notebook.get_selected_index()+1, IPython.notebook.get_selected_index()+2)'))\n",
    "\n",
    "alternativ = widgets.RadioButtons(options = [A, B, C], description = '', disabled = False, indent = False, align = 'center', layout={'width': 'max-content'}, value=None)\n",
    "    \n",
    "description_out = widgets.interactive_output(evaluate, {'a': alternativ})\n",
    "\n",
    "widgets.VBox([description_out, alternativ], layout=Layout(display='flex', flex_flow='column', align_items='stretch', width='auto'))\n"
   ]
  },
  {
   "cell_type": "code",
   "execution_count": null,
   "metadata": {
    "collapsed": true
   },
   "outputs": [],
   "source": []
  },
  {
   "cell_type": "code",
   "execution_count": 14,
   "metadata": {},
   "outputs": [
    {
     "name": "stdout",
     "output_type": "stream",
     "text": [
      "Une relation entre deux personnes du même sexe est :\n"
     ]
    },
    {
     "data": {
      "application/vnd.jupyter.widget-view+json": {
       "model_id": "1c1aacf1b5824eda93b736d93fd79201",
       "version_major": 2,
       "version_minor": 0
      },
      "text/plain": [
       "A Jupyter Widget"
      ]
     },
     "metadata": {},
     "output_type": "display_data"
    }
   ],
   "source": [
    "print('Une relation entre deux personnes du même sexe est :')\n",
    "\n",
    "A = \"Normale : il faut les mêmes droits pour toutes et tous\"\n",
    "B = \"Normale mais certains droits, comme ceux d'avoir des enfants, ne devraient pas être attribués systématiquement\"\n",
    "C = \"Contre nature, mais les gens sont libres\"\n",
    "D = \"Honteuse : il faut interdire ce genre de relations\"\n",
    "\n",
    "def evaluate(a):\n",
    "    if (a == A):\n",
    "        z[2]=-1\n",
    "        display(Javascript('IPython.notebook.execute_cell_range(IPython.notebook.get_selected_index()+1, IPython.notebook.get_selected_index()+2)'))\n",
    "    elif(a == B):\n",
    "        z[2]=0\n",
    "        display(Javascript('IPython.notebook.execute_cell_range(IPython.notebook.get_selected_index()+1, IPython.notebook.get_selected_index()+2)'))\n",
    "    elif(a == C):\n",
    "        z[2]=2\n",
    "        display(Javascript('IPython.notebook.execute_cell_range(IPython.notebook.get_selected_index()+1, IPython.notebook.get_selected_index()+2)'))\n",
    "    elif(a == D):\n",
    "        z[2]=3\n",
    "        display(Javascript('IPython.notebook.execute_cell_range(IPython.notebook.get_selected_index()+1, IPython.notebook.get_selected_index()+2)'))\n",
    "\n",
    "alternativ = widgets.RadioButtons(options = [A, B, C, D], description = '', disabled = False, indent = False, align = 'center', layout={'width': 'max-content'}, value=None)\n",
    "    \n",
    "description_out = widgets.interactive_output(evaluate, {'a': alternativ})\n",
    "\n",
    "widgets.VBox([description_out, alternativ], layout=Layout(display='flex', flex_flow='column', align_items='stretch', width='auto'))\n"
   ]
  },
  {
   "cell_type": "code",
   "execution_count": null,
   "metadata": {
    "collapsed": true
   },
   "outputs": [],
   "source": []
  },
  {
   "cell_type": "code",
   "execution_count": 15,
   "metadata": {},
   "outputs": [
    {
     "name": "stdout",
     "output_type": "stream",
     "text": [
      "Les religions :\n"
     ]
    },
    {
     "data": {
      "application/vnd.jupyter.widget-view+json": {
       "model_id": "cec8b27a123e41c7829f67f2c773c515",
       "version_major": 2,
       "version_minor": 0
      },
      "text/plain": [
       "A Jupyter Widget"
      ]
     },
     "metadata": {},
     "output_type": "display_data"
    }
   ],
   "source": [
    "print('Les religions :')\n",
    "\n",
    "A = \"Doivent gouverner la société\"\n",
    "B = \"Doivent être respectées, surtout la mienne\"\n",
    "C = \"Ne doivent pas interférer avec les choix de société\"\n",
    "D = \"Sont des instruments d'aliénation et des vecteurs d'oppressions, il faut les combattre\"\n",
    "\n",
    "def evaluate(a):\n",
    "    if (a == A):\n",
    "        z[3]=2\n",
    "        display(Javascript('IPython.notebook.execute_cell_range(IPython.notebook.get_selected_index()+1, IPython.notebook.get_selected_index()+2)'))\n",
    "    elif(a == B):\n",
    "        z[3]=1\n",
    "        display(Javascript('IPython.notebook.execute_cell_range(IPython.notebook.get_selected_index()+1, IPython.notebook.get_selected_index()+2)'))\n",
    "    elif(a == C):\n",
    "        z[3]=0\n",
    "        display(Javascript('IPython.notebook.execute_cell_range(IPython.notebook.get_selected_index()+1, IPython.notebook.get_selected_index()+2)'))\n",
    "    elif(a == D):\n",
    "        z[3]=-2\n",
    "        display(Javascript('IPython.notebook.execute_cell_range(IPython.notebook.get_selected_index()+1, IPython.notebook.get_selected_index()+2)'))\n",
    "\n",
    "alternativ = widgets.RadioButtons(options = [A, B, C, D], description = '', disabled = False, indent = False, align = 'center', layout={'width': 'max-content'}, value=None)\n",
    "    \n",
    "description_out = widgets.interactive_output(evaluate, {'a': alternativ})\n",
    "\n",
    "widgets.VBox([description_out, alternativ], layout=Layout(display='flex', flex_flow='column', align_items='stretch', width='auto'))\n"
   ]
  },
  {
   "cell_type": "code",
   "execution_count": null,
   "metadata": {
    "collapsed": true
   },
   "outputs": [],
   "source": []
  },
  {
   "cell_type": "code",
   "execution_count": 16,
   "metadata": {},
   "outputs": [
    {
     "name": "stdout",
     "output_type": "stream",
     "text": [
      "La prise de pouvoir au niveau de l'état est :\n"
     ]
    },
    {
     "data": {
      "application/vnd.jupyter.widget-view+json": {
       "model_id": "76fa56da7b3d4cc0a2f2479903b9f484",
       "version_major": 2,
       "version_minor": 0
      },
      "text/plain": [
       "A Jupyter Widget"
      ]
     },
     "metadata": {},
     "output_type": "display_data"
    }
   ],
   "source": [
    "print('La prise de pouvoir au niveau de l\\'état est :')\n",
    "\n",
    "A = \"Inacceptable\"\n",
    "B = \"Potentiellement acceptable si cette prise de pouvoir se fait par une insurrection du peuple\"\n",
    "C = \"Acceptable si cette prise de pouvoir se fait de façon démocratique\"\n",
    "D = \"Acceptable tant que cette prise de pouvoir profite au peuple\"\n",
    "\n",
    "def evaluate(a):\n",
    "    if (a == A):\n",
    "        x[4]=-1\n",
    "        display(Javascript('IPython.notebook.execute_cell_range(IPython.notebook.get_selected_index()+1, IPython.notebook.get_selected_index()+2)'))\n",
    "    elif(a == B):\n",
    "        x[4]=1\n",
    "        display(Javascript('IPython.notebook.execute_cell_range(IPython.notebook.get_selected_index()+1, IPython.notebook.get_selected_index()+2)'))\n",
    "    elif(a == C):\n",
    "        x[4]=0\n",
    "        display(Javascript('IPython.notebook.execute_cell_range(IPython.notebook.get_selected_index()+1, IPython.notebook.get_selected_index()+2)'))\n",
    "    elif(a == D):\n",
    "        x[4]=2\n",
    "        display(Javascript('IPython.notebook.execute_cell_range(IPython.notebook.get_selected_index()+1, IPython.notebook.get_selected_index()+2)'))\n",
    "\n",
    "alternativ = widgets.RadioButtons(options = [A, B, C, D], description = '', disabled = False, indent = False, align = 'center', layout={'width': 'max-content'}, value=None)\n",
    "    \n",
    "description_out = widgets.interactive_output(evaluate, {'a': alternativ})\n",
    "\n",
    "widgets.VBox([description_out, alternativ], layout=Layout(display='flex', flex_flow='column', align_items='stretch', width='auto'))\n"
   ]
  },
  {
   "cell_type": "code",
   "execution_count": null,
   "metadata": {
    "collapsed": true
   },
   "outputs": [],
   "source": []
  },
  {
   "cell_type": "code",
   "execution_count": 17,
   "metadata": {},
   "outputs": [
    {
     "name": "stdout",
     "output_type": "stream",
     "text": [
      "Les musées :\n"
     ]
    },
    {
     "data": {
      "application/vnd.jupyter.widget-view+json": {
       "model_id": "2561bc96879f4b4992bf11a9a55032e6",
       "version_major": 2,
       "version_minor": 0
      },
      "text/plain": [
       "A Jupyter Widget"
      ]
     },
     "metadata": {},
     "output_type": "display_data"
    }
   ],
   "source": [
    "print('Les musées :')\n",
    "\n",
    "A = \"Sont inutiles\"\n",
    "B = \"Sont importants mais leurs contenus et financements doivent être critiqués\"\n",
    "C = \"Sont des lieux nécessaires à la culture et à la représentation du monde\"\n",
    "D = \"Sont malheureusement les vitrines d'une culture dominante\"\n",
    "\n",
    "def evaluate(a):\n",
    "    if (a == A):\n",
    "        x[5]=2\n",
    "        display(Javascript('IPython.notebook.execute_cell_range(IPython.notebook.get_selected_index()+1, IPython.notebook.get_selected_index()+2)'))\n",
    "    elif(a == B):\n",
    "        x[5]=0\n",
    "        display(Javascript('IPython.notebook.execute_cell_range(IPython.notebook.get_selected_index()+1, IPython.notebook.get_selected_index()+2)'))\n",
    "    elif(a == C):\n",
    "        x[5]=1\n",
    "        display(Javascript('IPython.notebook.execute_cell_range(IPython.notebook.get_selected_index()+1, IPython.notebook.get_selected_index()+2)'))\n",
    "    elif(a == D):\n",
    "        x[5]=-2\n",
    "        display(Javascript('IPython.notebook.execute_cell_range(IPython.notebook.get_selected_index()+1, IPython.notebook.get_selected_index()+2)'))\n",
    "\n",
    "alternativ = widgets.RadioButtons(options = [A, B, C, D], description = '', disabled = False, indent = False, align = 'center', layout={'width': 'max-content'}, value=None)\n",
    "    \n",
    "description_out = widgets.interactive_output(evaluate, {'a': alternativ})\n",
    "\n",
    "widgets.VBox([description_out, alternativ], layout=Layout(display='flex', flex_flow='column', align_items='stretch', width='auto'))\n"
   ]
  },
  {
   "cell_type": "code",
   "execution_count": null,
   "metadata": {
    "collapsed": true
   },
   "outputs": [],
   "source": []
  },
  {
   "cell_type": "code",
   "execution_count": 18,
   "metadata": {},
   "outputs": [
    {
     "name": "stdout",
     "output_type": "stream",
     "text": [
      "Les syndicats :\n"
     ]
    },
    {
     "data": {
      "application/vnd.jupyter.widget-view+json": {
       "model_id": "8a731cc0ede7451d84acf072bdeb6623",
       "version_major": 2,
       "version_minor": 0
      },
      "text/plain": [
       "A Jupyter Widget"
      ]
     },
     "metadata": {},
     "output_type": "display_data"
    }
   ],
   "source": [
    "print('Les syndicats :')\n",
    "\n",
    "A = \"Sont un frein aux employeurs et aux salariés, il faut les interdire\"\n",
    "B = \"Sont utiles mais sont trop souvent dans la confrontation et pas assez dans le dialogue social\"\n",
    "C = \"Sont des structures cruciales garantissant le respect des droits de toustes les travailleureuses et permettant des avancées sociales\"\n",
    "D = \"Sont très importants, mais deviennent inutiles dans le cadre d'un pouvoir et d'une économie socialiste\"\n",
    "\n",
    "def evaluate(a):\n",
    "    if (a == A):\n",
    "        y[4]=2\n",
    "        x[16]=2\n",
    "        display(Javascript('IPython.notebook.execute_cell_range(IPython.notebook.get_selected_index()+1, IPython.notebook.get_selected_index()+2)'))\n",
    "    elif(a == B):\n",
    "        y[4]=1\n",
    "        display(Javascript('IPython.notebook.execute_cell_range(IPython.notebook.get_selected_index()+1, IPython.notebook.get_selected_index()+2)'))\n",
    "    elif(a == C):\n",
    "        y[4]=-2\n",
    "        display(Javascript('IPython.notebook.execute_cell_range(IPython.notebook.get_selected_index()+1, IPython.notebook.get_selected_index()+2)'))\n",
    "    elif(a == D):\n",
    "        y[4]=-2\n",
    "        x[16]=1\n",
    "        display(Javascript('IPython.notebook.execute_cell_range(IPython.notebook.get_selected_index()+1, IPython.notebook.get_selected_index()+2)'))\n",
    "\n",
    "alternativ = widgets.RadioButtons(options = [A, B, C, D], description = '', disabled = False, indent = False, align = 'center', layout={'width': 'max-content'}, value=None)\n",
    "    \n",
    "description_out = widgets.interactive_output(evaluate, {'a': alternativ})\n",
    "\n",
    "widgets.VBox([description_out, alternativ], layout=Layout(display='flex', flex_flow='column', align_items='stretch', width='auto'))\n"
   ]
  },
  {
   "cell_type": "code",
   "execution_count": null,
   "metadata": {
    "collapsed": true
   },
   "outputs": [],
   "source": []
  },
  {
   "cell_type": "code",
   "execution_count": 19,
   "metadata": {},
   "outputs": [
    {
     "name": "stdout",
     "output_type": "stream",
     "text": [
      "Faut-il attacher une importance à la croissance économique ?\n"
     ]
    },
    {
     "data": {
      "application/vnd.jupyter.widget-view+json": {
       "model_id": "b0815cc0be1f49179be7b269e16ee1d6",
       "version_major": 2,
       "version_minor": 0
      },
      "text/plain": [
       "A Jupyter Widget"
      ]
     },
     "metadata": {},
     "output_type": "display_data"
    }
   ],
   "source": [
    "print('Faut-il attacher une importance à la croissance économique ?')\n",
    "\n",
    "A = \"Non, elle ne fait que détruire l'environnement\"\n",
    "B = \"Oui, elle permet de réduire les inégalités économiques, mais il faut la limiter\"\n",
    "C = \"Oui, elle permet à la société de s'enrichir et d'augmenter son confort\"\n",
    "D = \"Peu importe, il faut quitter les modes de production capitalistes\"\n",
    "\n",
    "def evaluate(a):\n",
    "    if (a == A):\n",
    "        y[5]=-1\n",
    "        display(Javascript('IPython.notebook.execute_cell_range(IPython.notebook.get_selected_index()+1, IPython.notebook.get_selected_index()+2)'))\n",
    "    elif(a == B):\n",
    "        y[5]=0\n",
    "        display(Javascript('IPython.notebook.execute_cell_range(IPython.notebook.get_selected_index()+1, IPython.notebook.get_selected_index()+2)'))\n",
    "    elif(a == C):\n",
    "        y[5]=1\n",
    "        display(Javascript('IPython.notebook.execute_cell_range(IPython.notebook.get_selected_index()+1, IPython.notebook.get_selected_index()+2)'))\n",
    "    elif(a == D):\n",
    "        y[5]=-2\n",
    "        display(Javascript('IPython.notebook.execute_cell_range(IPython.notebook.get_selected_index()+1, IPython.notebook.get_selected_index()+2)'))\n",
    "\n",
    "alternativ = widgets.RadioButtons(options = [A, B, C, D], description = '', disabled = False, indent = False, align = 'center', layout={'width': 'max-content'}, value=None)\n",
    "    \n",
    "description_out = widgets.interactive_output(evaluate, {'a': alternativ})\n",
    "\n",
    "widgets.VBox([description_out, alternativ], layout=Layout(display='flex', flex_flow='column', align_items='stretch', width='auto'))\n"
   ]
  },
  {
   "cell_type": "code",
   "execution_count": null,
   "metadata": {
    "collapsed": true
   },
   "outputs": [],
   "source": []
  },
  {
   "cell_type": "code",
   "execution_count": 20,
   "metadata": {},
   "outputs": [
    {
     "name": "stdout",
     "output_type": "stream",
     "text": [
      "Faut-il lutter contre les violences sexistes et sexuelles ?\n"
     ]
    },
    {
     "data": {
      "application/vnd.jupyter.widget-view+json": {
       "model_id": "8799c445908e4cb7936c25feb6ec19bf",
       "version_major": 2,
       "version_minor": 0
      },
      "text/plain": [
       "A Jupyter Widget"
      ]
     },
     "metadata": {},
     "output_type": "display_data"
    }
   ],
   "source": [
    "print('Faut-il lutter contre les violences sexistes et sexuelles ?')\n",
    "\n",
    "A = \"Oui, il y a encore beaucoup de chemin à faire\"\n",
    "B = \"Oui mais ce n'est pas une priorité, ces violences sont très faibles\"\n",
    "C = \"Ce n'est plus une nécessité, ces violences ont quasiment disparu\"\n",
    "D = \"Oui, car ce sont les hommes qui en sont victimes depuis que le féminisme les prive de leur liberté\"\n",
    "\n",
    "def evaluate(a):\n",
    "    if (a == A):\n",
    "        z[4]=-2\n",
    "        display(Javascript('IPython.notebook.execute_cell_range(IPython.notebook.get_selected_index()+1, IPython.notebook.get_selected_index()+2)'))\n",
    "    elif(a == B):\n",
    "        z[4]=-1\n",
    "        display(Javascript('IPython.notebook.execute_cell_range(IPython.notebook.get_selected_index()+1, IPython.notebook.get_selected_index()+2)'))\n",
    "    elif(a == C):\n",
    "        z[4]=1\n",
    "        display(Javascript('IPython.notebook.execute_cell_range(IPython.notebook.get_selected_index()+1, IPython.notebook.get_selected_index()+2)'))\n",
    "    elif(a == D):\n",
    "        z[4]=2\n",
    "        display(Javascript('IPython.notebook.execute_cell_range(IPython.notebook.get_selected_index()+1, IPython.notebook.get_selected_index()+2)'))\n",
    "\n",
    "alternativ = widgets.RadioButtons(options = [A, B, C, D], description = '', disabled = False, indent = False, align = 'center', layout={'width': 'max-content'}, value=None)\n",
    "    \n",
    "description_out = widgets.interactive_output(evaluate, {'a': alternativ})\n",
    "\n",
    "widgets.VBox([description_out, alternativ], layout=Layout(display='flex', flex_flow='column', align_items='stretch', width='auto'))\n"
   ]
  },
  {
   "cell_type": "code",
   "execution_count": null,
   "metadata": {
    "collapsed": true
   },
   "outputs": [],
   "source": []
  },
  {
   "cell_type": "code",
   "execution_count": 21,
   "metadata": {},
   "outputs": [
    {
     "name": "stdout",
     "output_type": "stream",
     "text": [
      "Les transidentités... \n"
     ]
    },
    {
     "data": {
      "application/vnd.jupyter.widget-view+json": {
       "model_id": "5eb6fee3979047efaaffc593151db257",
       "version_major": 2,
       "version_minor": 0
      },
      "text/plain": [
       "A Jupyter Widget"
      ]
     },
     "metadata": {},
     "output_type": "display_data"
    }
   ],
   "source": [
    "print('Les transidentités... ')\n",
    "\n",
    "A = \"... Doivent être respectées\"\n",
    "B = \"... Sont un caprice et un effet de mode\"\n",
    "C = \"... Sont un outil des hommes pour s'infiltrer parmi des femmes\"\n",
    "D = \"... Sont une abomination\"\n",
    "\n",
    "def evaluate(a):\n",
    "    if (a == A):\n",
    "        z[5]=-1\n",
    "        display(Javascript('IPython.notebook.execute_cell_range(IPython.notebook.get_selected_index()+1, IPython.notebook.get_selected_index()+2)'))\n",
    "    elif(a == B):\n",
    "        z[5]=2\n",
    "        display(Javascript('IPython.notebook.execute_cell_range(IPython.notebook.get_selected_index()+1, IPython.notebook.get_selected_index()+2)'))\n",
    "    elif(a == C):\n",
    "        z[5]=1\n",
    "        display(Javascript('IPython.notebook.execute_cell_range(IPython.notebook.get_selected_index()+1, IPython.notebook.get_selected_index()+2)'))\n",
    "    elif(a == D):\n",
    "        z[5]=3\n",
    "        display(Javascript('IPython.notebook.execute_cell_range(IPython.notebook.get_selected_index()+1, IPython.notebook.get_selected_index()+2)'))\n",
    "\n",
    "alternativ = widgets.RadioButtons(options = [A, B, C, D], description = '', disabled = False, indent = False, align = 'center', layout={'width': 'max-content'}, value=None)\n",
    "    \n",
    "description_out = widgets.interactive_output(evaluate, {'a': alternativ})\n",
    "\n",
    "widgets.VBox([description_out, alternativ], layout=Layout(display='flex', flex_flow='column', align_items='stretch', width='auto'))\n"
   ]
  },
  {
   "cell_type": "code",
   "execution_count": null,
   "metadata": {
    "collapsed": true
   },
   "outputs": [],
   "source": []
  },
  {
   "cell_type": "code",
   "execution_count": 22,
   "metadata": {},
   "outputs": [
    {
     "name": "stdout",
     "output_type": "stream",
     "text": [
      "L'autorité doit :\n"
     ]
    },
    {
     "data": {
      "application/vnd.jupyter.widget-view+json": {
       "model_id": "33ebd777d061459e852f49a598cd7573",
       "version_major": 2,
       "version_minor": 0
      },
      "text/plain": [
       "A Jupyter Widget"
      ]
     },
     "metadata": {},
     "output_type": "display_data"
    }
   ],
   "source": [
    "print('L\\'autorité doit :')\n",
    "\n",
    "A = \"Toujours être suivie\"\n",
    "B = \"Parfois être interrogée\"\n",
    "C = \"Toujours être interrogée\"\n",
    "D = \"Toujours être combattue\"\n",
    "\n",
    "def evaluate(a):\n",
    "    if (a == A):\n",
    "        x[6]=1\n",
    "        display(Javascript('IPython.notebook.execute_cell_range(IPython.notebook.get_selected_index()+1, IPython.notebook.get_selected_index()+2)'))\n",
    "    elif(a == B):\n",
    "        x[6]=0\n",
    "        display(Javascript('IPython.notebook.execute_cell_range(IPython.notebook.get_selected_index()+1, IPython.notebook.get_selected_index()+2)'))\n",
    "    elif(a == C):\n",
    "        x[6]=-1\n",
    "        display(Javascript('IPython.notebook.execute_cell_range(IPython.notebook.get_selected_index()+1, IPython.notebook.get_selected_index()+2)'))\n",
    "    elif(a == D):\n",
    "        x[6]=-2\n",
    "        z[15]=1\n",
    "        display(Javascript('IPython.notebook.execute_cell_range(IPython.notebook.get_selected_index()+1, IPython.notebook.get_selected_index()+2)'))\n",
    "\n",
    "alternativ = widgets.RadioButtons(options = [A, B, C, D], description = '', disabled = False, indent = False, align = 'center', layout={'width': 'max-content'}, value=None)\n",
    "    \n",
    "description_out = widgets.interactive_output(evaluate, {'a': alternativ})\n",
    "\n",
    "widgets.VBox([description_out, alternativ], layout=Layout(display='flex', flex_flow='column', align_items='stretch', width='auto'))\n"
   ]
  },
  {
   "cell_type": "code",
   "execution_count": null,
   "metadata": {
    "collapsed": true
   },
   "outputs": [],
   "source": []
  },
  {
   "cell_type": "code",
   "execution_count": 23,
   "metadata": {},
   "outputs": [
    {
     "name": "stdout",
     "output_type": "stream",
     "text": [
      "La presse doit être financée par :\n"
     ]
    },
    {
     "data": {
      "application/vnd.jupyter.widget-view+json": {
       "model_id": "0fe36b32c32e403c9fd5227f19f23218",
       "version_major": 2,
       "version_minor": 0
      },
      "text/plain": [
       "A Jupyter Widget"
      ]
     },
     "metadata": {},
     "output_type": "display_data"
    }
   ],
   "source": [
    "print('Qui doit financer la presse ?')\n",
    "\n",
    "A = \"L'état\"\n",
    "B = \"Des groupes privés\"\n",
    "C = \"L'état et des groupes privés\"\n",
    "D = \"Ses utilsateurices\"\n",
    "E = \"Personne\"\n",
    "\n",
    "def evaluate(a):\n",
    "    if (a == A):\n",
    "        x[7]=1\n",
    "        display(Javascript('IPython.notebook.execute_cell_range(IPython.notebook.get_selected_index()+1, IPython.notebook.get_selected_index()+2)'))\n",
    "    elif(a == B):\n",
    "        x[7]=0\n",
    "        y[14]=1\n",
    "        display(Javascript('IPython.notebook.execute_cell_range(IPython.notebook.get_selected_index()+1, IPython.notebook.get_selected_index()+2)'))\n",
    "    elif(a == C):\n",
    "        x[7]=1\n",
    "        y[14]=1\n",
    "        display(Javascript('IPython.notebook.execute_cell_range(IPython.notebook.get_selected_index()+1, IPython.notebook.get_selected_index()+2)'))\n",
    "    elif(a == D):\n",
    "        x[7]=0\n",
    "        display(Javascript('IPython.notebook.execute_cell_range(IPython.notebook.get_selected_index()+1, IPython.notebook.get_selected_index()+2)'))\n",
    "    elif(a == E):\n",
    "        x[7]=-1\n",
    "        display(Javascript('IPython.notebook.execute_cell_range(IPython.notebook.get_selected_index()+1, IPython.notebook.get_selected_index()+2)'))\n",
    "\n",
    "alternativ = widgets.RadioButtons(options = [A, B, C, D, E], description = '', disabled = False, indent = False, align = 'center', layout={'width': 'max-content'}, value=None)\n",
    "    \n",
    "description_out = widgets.interactive_output(evaluate, {'a': alternativ})\n",
    "\n",
    "widgets.VBox([description_out, alternativ], layout=Layout(display='flex', flex_flow='column', align_items='stretch', width='auto'))\n"
   ]
  },
  {
   "cell_type": "code",
   "execution_count": null,
   "metadata": {
    "collapsed": true
   },
   "outputs": [],
   "source": []
  },
  {
   "cell_type": "code",
   "execution_count": 24,
   "metadata": {},
   "outputs": [
    {
     "name": "stdout",
     "output_type": "stream",
     "text": [
      "Le protectionnisme :\n"
     ]
    },
    {
     "data": {
      "application/vnd.jupyter.widget-view+json": {
       "model_id": "b31f53b4bbf742e88653d5a9f76f8bdc",
       "version_major": 2,
       "version_minor": 0
      },
      "text/plain": [
       "A Jupyter Widget"
      ]
     },
     "metadata": {},
     "output_type": "display_data"
    }
   ],
   "source": [
    "print('Le protectionnisme :')\n",
    "\n",
    "A = \"Est une bonne chose car il permet de favoriser une production locale et de mieux rémunérer les travailleureuses\"\n",
    "B = \"Est une bonne chose car il permet de favoriser l'économie de notre pays\"\n",
    "C = \"Est une mauvaise chose car il ne permet pas à l'économie de notre pays de s'adapter à la concurrence\"\n",
    "D = \"Est une mauvaise chose car le repli sur soi ne permet pas d'apporter des solutions aux problèmes économiques\"\n",
    "\n",
    "def evaluate(a):\n",
    "    if (a == A):\n",
    "        y[6]=-1\n",
    "        display(Javascript('IPython.notebook.execute_cell_range(IPython.notebook.get_selected_index()+1, IPython.notebook.get_selected_index()+2)'))\n",
    "    elif(a == B):\n",
    "        y[6]=0\n",
    "        x[17]=1\n",
    "        display(Javascript('IPython.notebook.execute_cell_range(IPython.notebook.get_selected_index()+1, IPython.notebook.get_selected_index()+2)'))\n",
    "    elif(a == C):\n",
    "        y[6]=1\n",
    "        display(Javascript('IPython.notebook.execute_cell_range(IPython.notebook.get_selected_index()+1, IPython.notebook.get_selected_index()+2)'))\n",
    "    elif(a == D):\n",
    "        y[6]=0\n",
    "        x[17]=-1\n",
    "        display(Javascript('IPython.notebook.execute_cell_range(IPython.notebook.get_selected_index()+1, IPython.notebook.get_selected_index()+2)'))\n",
    "\n",
    "alternativ = widgets.RadioButtons(options = [A, B, C, D], description = '', disabled = False, indent = False, align = 'center', layout={'width': 'max-content'}, value=None)\n",
    "    \n",
    "description_out = widgets.interactive_output(evaluate, {'a': alternativ})\n",
    "\n",
    "widgets.VBox([description_out, alternativ], layout=Layout(display='flex', flex_flow='column', align_items='stretch', width='auto'))\n"
   ]
  },
  {
   "cell_type": "code",
   "execution_count": null,
   "metadata": {
    "collapsed": true
   },
   "outputs": [],
   "source": []
  },
  {
   "cell_type": "code",
   "execution_count": 25,
   "metadata": {},
   "outputs": [
    {
     "name": "stdout",
     "output_type": "stream",
     "text": [
      "Les Organismes Génétiquement Modifiés :\n"
     ]
    },
    {
     "data": {
      "application/vnd.jupyter.widget-view+json": {
       "model_id": "09261c96ad6243728199164ebe39bade",
       "version_major": 2,
       "version_minor": 0
      },
      "text/plain": [
       "A Jupyter Widget"
      ]
     },
     "metadata": {},
     "output_type": "display_data"
    }
   ],
   "source": [
    "print('Que penses-tu des Organismes Génétiquement Modifiés ?')\n",
    "\n",
    "A = \"Ils sont dangereux pour la santé et l'environnement\"\n",
    "B = \"Ils ne sont pas intrinsèquement dangereux et sont utiles, mais ils doivent être publics pour ne pas breveter le vivant\"\n",
    "C = \"Ils ne sont pas dangereux et sont utiles car ils permettent une meilleures production agricole\"\n",
    "D = \"Je ne sais pas\"\n",
    "\n",
    "def evaluate(a):\n",
    "    if (a == A):\n",
    "        y[7]=0\n",
    "        z[16]=1\n",
    "        display(Javascript('IPython.notebook.execute_cell_range(IPython.notebook.get_selected_index()+1, IPython.notebook.get_selected_index()+2)'))\n",
    "    elif(a == B):\n",
    "        y[7]=-1\n",
    "        display(Javascript('IPython.notebook.execute_cell_range(IPython.notebook.get_selected_index()+1, IPython.notebook.get_selected_index()+2)'))\n",
    "    elif(a == C):\n",
    "        y[7]=1\n",
    "        display(Javascript('IPython.notebook.execute_cell_range(IPython.notebook.get_selected_index()+1, IPython.notebook.get_selected_index()+2)'))\n",
    "    elif(a == D):\n",
    "        y[7]=0\n",
    "        z[16]=-1\n",
    "        display(Javascript('IPython.notebook.execute_cell_range(IPython.notebook.get_selected_index()+1, IPython.notebook.get_selected_index()+2)'))\n",
    "\n",
    "alternativ = widgets.RadioButtons(options = [A, B, C, D], description = '', disabled = False, indent = False, align = 'center', layout={'width': 'max-content'}, value=None)\n",
    "    \n",
    "description_out = widgets.interactive_output(evaluate, {'a': alternativ})\n",
    "\n",
    "widgets.VBox([description_out, alternativ], layout=Layout(display='flex', flex_flow='column', align_items='stretch', width='auto'))\n"
   ]
  },
  {
   "cell_type": "code",
   "execution_count": null,
   "metadata": {
    "collapsed": true
   },
   "outputs": [],
   "source": []
  },
  {
   "cell_type": "code",
   "execution_count": 26,
   "metadata": {
    "scrolled": true
   },
   "outputs": [
    {
     "name": "stdout",
     "output_type": "stream",
     "text": [
      "L'immigration est-elle une chance pour les pays d'accueil ?\n"
     ]
    },
    {
     "data": {
      "application/vnd.jupyter.widget-view+json": {
       "model_id": "b99b75d050a44aad990dfa6b67e9f262",
       "version_major": 2,
       "version_minor": 0
      },
      "text/plain": [
       "A Jupyter Widget"
      ]
     },
     "metadata": {},
     "output_type": "display_data"
    }
   ],
   "source": [
    "print('L\\'immigration est-elle une chance pour les pays d\\'accueil ?')\n",
    "\n",
    "A = \"Oui en général\"\n",
    "B = \"Non en général\"\n",
    "C = \"Peu importe : la libre circulation est un droit\"\n",
    "D = \"Peu importe : il faut stopper l'immigration\"\n",
    "\n",
    "def evaluate(a):\n",
    "    if (a == A):\n",
    "        z[6]=-1\n",
    "        display(Javascript('IPython.notebook.execute_cell_range(IPython.notebook.get_selected_index()+1, IPython.notebook.get_selected_index()+2)'))\n",
    "    elif(a == B):\n",
    "        z[6]=1\n",
    "        display(Javascript('IPython.notebook.execute_cell_range(IPython.notebook.get_selected_index()+1, IPython.notebook.get_selected_index()+2)'))\n",
    "    elif(a == C):\n",
    "        z[6]=-2\n",
    "        display(Javascript('IPython.notebook.execute_cell_range(IPython.notebook.get_selected_index()+1, IPython.notebook.get_selected_index()+2)'))\n",
    "    elif(a == D):\n",
    "        z[6]=2\n",
    "        display(Javascript('IPython.notebook.execute_cell_range(IPython.notebook.get_selected_index()+1, IPython.notebook.get_selected_index()+2)'))\n",
    "\n",
    "alternativ = widgets.RadioButtons(options = [A, B, C, D], description = '', disabled = False, indent = False, align = 'center', layout={'width': 'max-content'}, value=None)\n",
    "    \n",
    "description_out = widgets.interactive_output(evaluate, {'a': alternativ})\n",
    "\n",
    "widgets.VBox([description_out, alternativ], layout=Layout(display='flex', flex_flow='column', align_items='stretch', width='auto'))\n"
   ]
  },
  {
   "cell_type": "code",
   "execution_count": null,
   "metadata": {
    "collapsed": true
   },
   "outputs": [],
   "source": []
  },
  {
   "cell_type": "code",
   "execution_count": 27,
   "metadata": {},
   "outputs": [
    {
     "name": "stdout",
     "output_type": "stream",
     "text": [
      "La psychanalyse est :\n"
     ]
    },
    {
     "data": {
      "application/vnd.jupyter.widget-view+json": {
       "model_id": "bc8b2066e2af45ff88e817a7b455954e",
       "version_major": 2,
       "version_minor": 0
      },
      "text/plain": [
       "A Jupyter Widget"
      ]
     },
     "metadata": {},
     "output_type": "display_data"
    }
   ],
   "source": [
    "print('La psychanalyse est :')\n",
    "\n",
    "A = \"Une thérapie efficace\"\n",
    "B = \"Une thérapie d'efficacité limitée mais plus facilement supportable que les autres psychothérapies\"\n",
    "C = \"Une pseudo-science car elle n'a jamais fait preuve de son efficacité dans des conditions expérimentales\"\n",
    "D = \"Une pseudo-science ayant une grande responsabilité dans la culture du viol et la psychophobie\"\n",
    "\n",
    "def evaluate(a):\n",
    "    if (a == A):\n",
    "        z[7]=1\n",
    "        display(Javascript('IPython.notebook.execute_cell_range(IPython.notebook.get_selected_index()+1, IPython.notebook.get_selected_index()+2)'))\n",
    "    elif(a == B):\n",
    "        z[7]=0\n",
    "        display(Javascript('IPython.notebook.execute_cell_range(IPython.notebook.get_selected_index()+1, IPython.notebook.get_selected_index()+2)'))\n",
    "    elif(a == C):\n",
    "        z[7]=-1\n",
    "        display(Javascript('IPython.notebook.execute_cell_range(IPython.notebook.get_selected_index()+1, IPython.notebook.get_selected_index()+2)'))\n",
    "    elif(a == D):\n",
    "        z[7]=-2\n",
    "        display(Javascript('IPython.notebook.execute_cell_range(IPython.notebook.get_selected_index()+1, IPython.notebook.get_selected_index()+2)'))\n",
    "\n",
    "alternativ = widgets.RadioButtons(options = [A, B, C, D], description = '', disabled = False, indent = False, align = 'center', layout={'width': 'max-content'}, value=None)\n",
    "    \n",
    "description_out = widgets.interactive_output(evaluate, {'a': alternativ})\n",
    "\n",
    "widgets.VBox([description_out, alternativ], layout=Layout(display='flex', flex_flow='column', align_items='stretch', width='auto'))\n"
   ]
  },
  {
   "cell_type": "code",
   "execution_count": null,
   "metadata": {
    "collapsed": true
   },
   "outputs": [],
   "source": []
  },
  {
   "cell_type": "code",
   "execution_count": 28,
   "metadata": {},
   "outputs": [
    {
     "name": "stdout",
     "output_type": "stream",
     "text": [
      "Le fichage de la population :\n"
     ]
    },
    {
     "data": {
      "application/vnd.jupyter.widget-view+json": {
       "model_id": "a586ab16a6e445f59ba96c4b42a2a9c4",
       "version_major": 2,
       "version_minor": 0
      },
      "text/plain": [
       "A Jupyter Widget"
      ]
     },
     "metadata": {},
     "output_type": "display_data"
    }
   ],
   "source": [
    "print('Le fichage de la population :')\n",
    "\n",
    "A = \"Ne doit pas exister\"\n",
    "B = \"Peut être utile pour certaines informations, mais les autorités et groupes privés ne doivent pas y accéder\"\n",
    "C = \"Doit être utilisé seulement sur les personnes suspectes de terrorisme ou d'association de malfaiteurs\"\n",
    "D = \"Doit exister pour tout le monde\"\n",
    "\n",
    "def evaluate(a):\n",
    "    if (a == A):\n",
    "        x[8]=-1\n",
    "        display(Javascript('IPython.notebook.execute_cell_range(IPython.notebook.get_selected_index()+1, IPython.notebook.get_selected_index()+2)'))\n",
    "    elif(a == B):\n",
    "        x[8]=0\n",
    "        display(Javascript('IPython.notebook.execute_cell_range(IPython.notebook.get_selected_index()+1, IPython.notebook.get_selected_index()+2)'))\n",
    "    elif(a == C):\n",
    "        x[8]=1\n",
    "        display(Javascript('IPython.notebook.execute_cell_range(IPython.notebook.get_selected_index()+1, IPython.notebook.get_selected_index()+2)'))\n",
    "    elif(a == D):\n",
    "        x[8]=2\n",
    "        display(Javascript('IPython.notebook.execute_cell_range(IPython.notebook.get_selected_index()+1, IPython.notebook.get_selected_index()+2)'))\n",
    "\n",
    "alternativ = widgets.RadioButtons(options = [A, B, C, D], description = '', disabled = False, indent = False, align = 'center', layout={'width': 'max-content'}, value=None)\n",
    "    \n",
    "description_out = widgets.interactive_output(evaluate, {'a': alternativ})\n",
    "\n",
    "widgets.VBox([description_out, alternativ], layout=Layout(display='flex', flex_flow='column', align_items='stretch', width='auto'))\n"
   ]
  },
  {
   "cell_type": "code",
   "execution_count": null,
   "metadata": {
    "collapsed": true
   },
   "outputs": [],
   "source": []
  },
  {
   "cell_type": "code",
   "execution_count": 29,
   "metadata": {},
   "outputs": [
    {
     "name": "stdout",
     "output_type": "stream",
     "text": [
      "L'enseignement de l'Histoire\n"
     ]
    },
    {
     "data": {
      "application/vnd.jupyter.widget-view+json": {
       "model_id": "d9a86c5649164e44a68b9c0cedbeeb6b",
       "version_major": 2,
       "version_minor": 0
      },
      "text/plain": [
       "A Jupyter Widget"
      ]
     },
     "metadata": {},
     "output_type": "display_data"
    }
   ],
   "source": [
    "print('L\\'enseignement de l\\'Histoire :')\n",
    "\n",
    "A = \"Doit créer un sentiment de fierté nationale\"\n",
    "B = \"Doit être le plus neutre possible\"\n",
    "C = \"Doit se focaliser sur les évènements récents\"\n",
    "\n",
    "def evaluate(a):\n",
    "    if (a == A):\n",
    "        z[18]=2\n",
    "        display(Javascript('IPython.notebook.execute_cell_range(IPython.notebook.get_selected_index()+1, IPython.notebook.get_selected_index()+2)'))\n",
    "    elif(a == B):\n",
    "        z[18]=0\n",
    "        display(Javascript('IPython.notebook.execute_cell_range(IPython.notebook.get_selected_index()+1, IPython.notebook.get_selected_index()+2)'))\n",
    "    elif(a == C):\n",
    "        z[18]=1\n",
    "        display(Javascript('IPython.notebook.execute_cell_range(IPython.notebook.get_selected_index()+1, IPython.notebook.get_selected_index()+2)'))\n",
    "\n",
    "alternativ = widgets.RadioButtons(options = [A, B, C], description = '', disabled = False, indent = False, align = 'center', layout={'width': 'max-content'}, value=None)\n",
    "    \n",
    "description_out = widgets.interactive_output(evaluate, {'a': alternativ})\n",
    "\n",
    "widgets.VBox([description_out, alternativ], layout=Layout(display='flex', flex_flow='column', align_items='stretch', width='auto'))\n"
   ]
  },
  {
   "cell_type": "code",
   "execution_count": null,
   "metadata": {
    "collapsed": true
   },
   "outputs": [],
   "source": []
  },
  {
   "cell_type": "code",
   "execution_count": 30,
   "metadata": {},
   "outputs": [
    {
     "name": "stdout",
     "output_type": "stream",
     "text": [
      "Le changement climatique :\n"
     ]
    },
    {
     "data": {
      "application/vnd.jupyter.widget-view+json": {
       "model_id": "9037a49122b84452bcef42b8770f6bb6",
       "version_major": 2,
       "version_minor": 0
      },
      "text/plain": [
       "A Jupyter Widget"
      ]
     },
     "metadata": {},
     "output_type": "display_data"
    }
   ],
   "source": [
    "print('Le changement climatique :')\n",
    "\n",
    "A = \"Est principalement dû à l'activité humaine dans un contexte capitaliste\"\n",
    "B = \"Est principalement dû à toutes les activités humaines\"\n",
    "C = \"N'est pas principalement dû à l'activité humaine\"\n",
    "D = \"N'existe pas réellement\"\n",
    "\n",
    "def evaluate(a):\n",
    "    if (a == A):\n",
    "        y[8]=-2\n",
    "        display(Javascript('IPython.notebook.execute_cell_range(IPython.notebook.get_selected_index()+1, IPython.notebook.get_selected_index()+2)'))\n",
    "    elif(a == B):\n",
    "        y[8]=0\n",
    "        display(Javascript('IPython.notebook.execute_cell_range(IPython.notebook.get_selected_index()+1, IPython.notebook.get_selected_index()+2)'))\n",
    "    elif(a == C):\n",
    "        y[8]=1\n",
    "        display(Javascript('IPython.notebook.execute_cell_range(IPython.notebook.get_selected_index()+1, IPython.notebook.get_selected_index()+2)'))\n",
    "    elif(a == D):\n",
    "        y[8]=3\n",
    "        display(Javascript('IPython.notebook.execute_cell_range(IPython.notebook.get_selected_index()+1, IPython.notebook.get_selected_index()+2)'))\n",
    "\n",
    "alternativ = widgets.RadioButtons(options = [A, B, C, D], description = '', disabled = False, indent = False, align = 'center', layout={'width': 'max-content'}, value=None)\n",
    "    \n",
    "description_out = widgets.interactive_output(evaluate, {'a': alternativ})\n",
    "\n",
    "widgets.VBox([description_out, alternativ], layout=Layout(display='flex', flex_flow='column', align_items='stretch', width='auto'))\n"
   ]
  },
  {
   "cell_type": "code",
   "execution_count": null,
   "metadata": {
    "collapsed": true
   },
   "outputs": [],
   "source": []
  },
  {
   "cell_type": "code",
   "execution_count": 31,
   "metadata": {},
   "outputs": [
    {
     "name": "stdout",
     "output_type": "stream",
     "text": [
      "Est-il acceptable qu'il y ait des riches et des pauvres ?\n"
     ]
    },
    {
     "data": {
      "application/vnd.jupyter.widget-view+json": {
       "model_id": "53c2e7728e1b410198498ed19b3fd054",
       "version_major": 2,
       "version_minor": 0
      },
      "text/plain": [
       "A Jupyter Widget"
      ]
     },
     "metadata": {},
     "output_type": "display_data"
    }
   ],
   "source": [
    "print('Est-il acceptable qu\\'il y ait des riches et des pauvres ?')\n",
    "\n",
    "A = \"Oui\"\n",
    "B = \"Oui mais les inégalités entre ces catégories doivent être raisonnables\"\n",
    "C = \"Non\"\n",
    "\n",
    "def evaluate(a):\n",
    "    if (a == A):\n",
    "        y[9]=2\n",
    "        display(Javascript('IPython.notebook.execute_cell_range(IPython.notebook.get_selected_index()+1, IPython.notebook.get_selected_index()+2)'))\n",
    "    elif(a == B):\n",
    "        y[9]=1\n",
    "        display(Javascript('IPython.notebook.execute_cell_range(IPython.notebook.get_selected_index()+1, IPython.notebook.get_selected_index()+2)'))\n",
    "    elif(a == C):\n",
    "        y[9]=-1\n",
    "        display(Javascript('IPython.notebook.execute_cell_range(IPython.notebook.get_selected_index()+1, IPython.notebook.get_selected_index()+2)'))\n",
    "\n",
    "alternativ = widgets.RadioButtons(options = [A, B, C], description = '', disabled = False, indent = False, align = 'center', layout={'width': 'max-content'}, value=None)\n",
    "    \n",
    "description_out = widgets.interactive_output(evaluate, {'a': alternativ})\n",
    "\n",
    "widgets.VBox([description_out, alternativ], layout=Layout(display='flex', flex_flow='column', align_items='stretch', width='auto'))\n"
   ]
  },
  {
   "cell_type": "code",
   "execution_count": null,
   "metadata": {
    "collapsed": true
   },
   "outputs": [],
   "source": []
  },
  {
   "cell_type": "code",
   "execution_count": 32,
   "metadata": {},
   "outputs": [
    {
     "name": "stdout",
     "output_type": "stream",
     "text": [
      "Dans quels domaines est-il prioritaire d'investir ?\n"
     ]
    },
    {
     "data": {
      "application/vnd.jupyter.widget-view+json": {
       "model_id": "a08694225a40460eb4f749263c85bd26",
       "version_major": 2,
       "version_minor": 0
      },
      "text/plain": [
       "A Jupyter Widget"
      ]
     },
     "metadata": {},
     "output_type": "display_data"
    }
   ],
   "source": [
    "print('Dans quels domaines est-il prioritaire d\\'investir ?')\n",
    "\n",
    "A = \"La culture, la recherche et l'education\"\n",
    "B = \"L'éducation, la justice et la sécurité\"\n",
    "C = \"La recherche, l'environnement et la lutte contre les inégalités\"\n",
    "D = \"La sécurité, l'aide aux petites entreprises et la défense\"\n",
    "\n",
    "def evaluate(a):\n",
    "    if (a == A):\n",
    "        z[8]=-1\n",
    "        display(Javascript('IPython.notebook.execute_cell_range(IPython.notebook.get_selected_index()+1, IPython.notebook.get_selected_index()+2)'))\n",
    "    elif(a == B):\n",
    "        z[8]=0\n",
    "        display(Javascript('IPython.notebook.execute_cell_range(IPython.notebook.get_selected_index()+1, IPython.notebook.get_selected_index()+2)'))\n",
    "    elif(a == C):\n",
    "        z[8]=0\n",
    "        y[15]=-1\n",
    "        display(Javascript('IPython.notebook.execute_cell_range(IPython.notebook.get_selected_index()+1, IPython.notebook.get_selected_index()+2)'))\n",
    "    elif(a == D):\n",
    "        z[8]=1\n",
    "        x[18]=1\n",
    "        display(Javascript('IPython.notebook.execute_cell_range(IPython.notebook.get_selected_index()+1, IPython.notebook.get_selected_index()+2)'))\n",
    "        \n",
    "alternativ = widgets.RadioButtons(options = [A, B, C, D], description = '', disabled = False, indent = False, align = 'center', layout={'width': 'max-content'}, value=None)\n",
    "    \n",
    "description_out = widgets.interactive_output(evaluate, {'a': alternativ})\n",
    "\n",
    "widgets.VBox([description_out, alternativ], layout=Layout(display='flex', flex_flow='column', align_items='stretch', width='auto'))\n"
   ]
  },
  {
   "cell_type": "code",
   "execution_count": null,
   "metadata": {
    "collapsed": true
   },
   "outputs": [],
   "source": []
  },
  {
   "cell_type": "code",
   "execution_count": 33,
   "metadata": {},
   "outputs": [
    {
     "name": "stdout",
     "output_type": "stream",
     "text": [
      "Internet :\n"
     ]
    },
    {
     "data": {
      "application/vnd.jupyter.widget-view+json": {
       "model_id": "669e199e6f414cbeb34d164cc40e2bb2",
       "version_major": 2,
       "version_minor": 0
      },
      "text/plain": [
       "A Jupyter Widget"
      ]
     },
     "metadata": {},
     "output_type": "display_data"
    }
   ],
   "source": [
    "print('Internet :')\n",
    "\n",
    "A = \"Est une chance car cela permet de populariser les connaissances et de faciliter les communications et l'accès à l'information\"\n",
    "B = \"Est une chance mais n'est pas assez libre vis-à-vis du secteur privé\"\n",
    "C = \"A des côtés très positifs et des côtés très négatifs\"\n",
    "D = \"Est un mal technologique\"\n",
    "\n",
    "def evaluate(a):\n",
    "    if (a == A):\n",
    "        z[9]=-1\n",
    "        display(Javascript('IPython.notebook.execute_cell_range(IPython.notebook.get_selected_index()+1, IPython.notebook.get_selected_index()+2)'))\n",
    "    elif(a == B):\n",
    "        z[9]=-1\n",
    "        y[16]=-1\n",
    "        display(Javascript('IPython.notebook.execute_cell_range(IPython.notebook.get_selected_index()+1, IPython.notebook.get_selected_index()+2)'))\n",
    "    elif(a == C):\n",
    "        z[9]=0\n",
    "        display(Javascript('IPython.notebook.execute_cell_range(IPython.notebook.get_selected_index()+1, IPython.notebook.get_selected_index()+2)'))\n",
    "    elif(a == D):\n",
    "        z[9]=1\n",
    "        display(Javascript('IPython.notebook.execute_cell_range(IPython.notebook.get_selected_index()+1, IPython.notebook.get_selected_index()+2)'))\n",
    "\n",
    "alternativ = widgets.RadioButtons(options = [A, B, C, D], description = '', disabled = False, indent = False, align = 'center', layout={'width': 'max-content'}, value=None)\n",
    "    \n",
    "description_out = widgets.interactive_output(evaluate, {'a': alternativ})\n",
    "\n",
    "widgets.VBox([description_out, alternativ], layout=Layout(display='flex', flex_flow='column', align_items='stretch', width='auto'))\n"
   ]
  },
  {
   "cell_type": "code",
   "execution_count": null,
   "metadata": {
    "collapsed": true
   },
   "outputs": [],
   "source": []
  },
  {
   "cell_type": "code",
   "execution_count": 34,
   "metadata": {},
   "outputs": [
    {
     "name": "stdout",
     "output_type": "stream",
     "text": [
      "L'usage de la violence :\n"
     ]
    },
    {
     "data": {
      "application/vnd.jupyter.widget-view+json": {
       "model_id": "a29114417de440488259230030a41d46",
       "version_major": 2,
       "version_minor": 0
      },
      "text/plain": [
       "A Jupyter Widget"
      ]
     },
     "metadata": {},
     "output_type": "display_data"
    }
   ],
   "source": [
    "print('L\\'usage de la violence :')\n",
    "\n",
    "A = \"Doit toujours être condamné\"\n",
    "B = \"Doit être limité le plus possible\"\n",
    "C = \"Est nécessaire aux luttes politiques\"\n",
    "D = \"Est nécessaire au maintien de l'ordre dans la société\"\n",
    "\n",
    "def evaluate(a):\n",
    "    if (a == A):\n",
    "        x[10]=0\n",
    "        display(Javascript('IPython.notebook.execute_cell_range(IPython.notebook.get_selected_index()+1, IPython.notebook.get_selected_index()+2)'))\n",
    "    elif(a == B):\n",
    "        x[10]=-1\n",
    "        display(Javascript('IPython.notebook.execute_cell_range(IPython.notebook.get_selected_index()+1, IPython.notebook.get_selected_index()+2)'))\n",
    "    elif(a == C):\n",
    "        x[10]=1\n",
    "        display(Javascript('IPython.notebook.execute_cell_range(IPython.notebook.get_selected_index()+1, IPython.notebook.get_selected_index()+2)'))\n",
    "    elif(a == D):\n",
    "        x[10]=2\n",
    "        display(Javascript('IPython.notebook.execute_cell_range(IPython.notebook.get_selected_index()+1, IPython.notebook.get_selected_index()+2)'))\n",
    "\n",
    "alternativ = widgets.RadioButtons(options = [A, B, C, D], description = '', disabled = False, indent = False, align = 'center', layout={'width': 'max-content'}, value=None)\n",
    "    \n",
    "description_out = widgets.interactive_output(evaluate, {'a': alternativ})\n",
    "\n",
    "widgets.VBox([description_out, alternativ], layout=Layout(display='flex', flex_flow='column', align_items='stretch', width='auto'))\n"
   ]
  },
  {
   "cell_type": "code",
   "execution_count": null,
   "metadata": {
    "collapsed": true
   },
   "outputs": [],
   "source": []
  },
  {
   "cell_type": "code",
   "execution_count": 35,
   "metadata": {},
   "outputs": [
    {
     "name": "stdout",
     "output_type": "stream",
     "text": [
      "L'euthanasie :\n"
     ]
    },
    {
     "data": {
      "application/vnd.jupyter.widget-view+json": {
       "model_id": "373e58499d384f698cd1251b7a119760",
       "version_major": 2,
       "version_minor": 0
      },
      "text/plain": [
       "A Jupyter Widget"
      ]
     },
     "metadata": {},
     "output_type": "display_data"
    }
   ],
   "source": [
    "print('L\\'euthanasie :')\n",
    "\n",
    "A = \"Doit être autorisée sans condition\"\n",
    "B = \"Doit être autorisée sous conditions\"\n",
    "C = \"Ne doit pas être autorisée\"\n",
    "\n",
    "def evaluate(a):\n",
    "    if (a == A):\n",
    "        x[11]=-1\n",
    "        display(Javascript('IPython.notebook.execute_cell_range(IPython.notebook.get_selected_index()+1, IPython.notebook.get_selected_index()+2)'))\n",
    "    elif(a == B):\n",
    "        x[11]=0\n",
    "        display(Javascript('IPython.notebook.execute_cell_range(IPython.notebook.get_selected_index()+1, IPython.notebook.get_selected_index()+2)'))\n",
    "    elif(a == C):\n",
    "        x[11]=1\n",
    "        display(Javascript('IPython.notebook.execute_cell_range(IPython.notebook.get_selected_index()+1, IPython.notebook.get_selected_index()+2)'))\n",
    "\n",
    "alternativ = widgets.RadioButtons(options = [A, B, C], description = '', disabled = False, indent = False, align = 'center', layout={'width': 'max-content'}, value=None)\n",
    "    \n",
    "description_out = widgets.interactive_output(evaluate, {'a': alternativ})\n",
    "\n",
    "widgets.VBox([description_out, alternativ], layout=Layout(display='flex', flex_flow='column', align_items='stretch', width='auto'))\n"
   ]
  },
  {
   "cell_type": "code",
   "execution_count": null,
   "metadata": {
    "collapsed": true
   },
   "outputs": [],
   "source": []
  },
  {
   "cell_type": "code",
   "execution_count": 36,
   "metadata": {},
   "outputs": [
    {
     "name": "stdout",
     "output_type": "stream",
     "text": [
      "La consommation de produits d'origine animale :\n"
     ]
    },
    {
     "data": {
      "application/vnd.jupyter.widget-view+json": {
       "model_id": "69493f3ecfff472fa1f22f8489536226",
       "version_major": 2,
       "version_minor": 0
      },
      "text/plain": [
       "A Jupyter Widget"
      ]
     },
     "metadata": {},
     "output_type": "display_data"
    }
   ],
   "source": [
    "print('La consommation de produits d\\'origine animale :')\n",
    "\n",
    "A = \"Est immorale\"\n",
    "B = \"Est immorale pour la viande et le poisson mais pas pour les autres produits\"\n",
    "C = \"Est acceptable si elle n'a pas un mauvais impact environnemental\"\n",
    "D = \"Est totalement acceptable\"\n",
    "\n",
    "def evaluate(a):\n",
    "    if (a == A):\n",
    "        y[10]=-2\n",
    "        display(Javascript('IPython.notebook.execute_cell_range(IPython.notebook.get_selected_index()+1, IPython.notebook.get_selected_index()+2)'))\n",
    "    elif(a == B):\n",
    "        y[10]=-1\n",
    "        display(Javascript('IPython.notebook.execute_cell_range(IPython.notebook.get_selected_index()+1, IPython.notebook.get_selected_index()+2)'))\n",
    "    elif(a == C):\n",
    "        y[10]=0\n",
    "        display(Javascript('IPython.notebook.execute_cell_range(IPython.notebook.get_selected_index()+1, IPython.notebook.get_selected_index()+2)'))\n",
    "    elif(a == D):\n",
    "        y[10]=2\n",
    "        display(Javascript('IPython.notebook.execute_cell_range(IPython.notebook.get_selected_index()+1, IPython.notebook.get_selected_index()+2)'))\n",
    "\n",
    "alternativ = widgets.RadioButtons(options = [A, B, C, D], description = '', disabled = False, indent = False, align = 'center', layout={'width': 'max-content'}, value=None)\n",
    "    \n",
    "description_out = widgets.interactive_output(evaluate, {'a': alternativ})\n",
    "\n",
    "widgets.VBox([description_out, alternativ], layout=Layout(display='flex', flex_flow='column', align_items='stretch', width='auto'))\n"
   ]
  },
  {
   "cell_type": "code",
   "execution_count": null,
   "metadata": {
    "collapsed": true
   },
   "outputs": [],
   "source": []
  },
  {
   "cell_type": "code",
   "execution_count": 37,
   "metadata": {},
   "outputs": [
    {
     "name": "stdout",
     "output_type": "stream",
     "text": [
      "La propriété privée :\n"
     ]
    },
    {
     "data": {
      "application/vnd.jupyter.widget-view+json": {
       "model_id": "87ed8b0bfeea4864a50d0c16c65fb936",
       "version_major": 2,
       "version_minor": 0
      },
      "text/plain": [
       "A Jupyter Widget"
      ]
     },
     "metadata": {},
     "output_type": "display_data"
    }
   ],
   "source": [
    "print('La propriété privée :')\n",
    "\n",
    "A = \"Est un droit fondamental qui doit être défendu\"\n",
    "B = \"N'est pas un problème\"\n",
    "C = \"Peut être illégitime (héritages...) mais il est illusoire de vouloir la supprimer\"\n",
    "D = \"Doit être abolie pour les moyens de production\"\n",
    "E = \"Doit être totalement supprimée\"\n",
    "\n",
    "def evaluate(a):\n",
    "    if (a == A):\n",
    "        y[11]=2\n",
    "        display(Javascript('IPython.notebook.execute_cell_range(IPython.notebook.get_selected_index()+1, IPython.notebook.get_selected_index()+2)'))\n",
    "    elif(a == B):\n",
    "        y[11]=1\n",
    "        display(Javascript('IPython.notebook.execute_cell_range(IPython.notebook.get_selected_index()+1, IPython.notebook.get_selected_index()+2)'))\n",
    "    elif(a == C):\n",
    "        y[11]=0\n",
    "        display(Javascript('IPython.notebook.execute_cell_range(IPython.notebook.get_selected_index()+1, IPython.notebook.get_selected_index()+2)'))\n",
    "    elif(a == D):\n",
    "        y[11]=-1\n",
    "        display(Javascript('IPython.notebook.execute_cell_range(IPython.notebook.get_selected_index()+1, IPython.notebook.get_selected_index()+2)'))\n",
    "    elif(a == D):\n",
    "        y[11]=-2\n",
    "        display(Javascript('IPython.notebook.execute_cell_range(IPython.notebook.get_selected_index()+1, IPython.notebook.get_selected_index()+2)'))\n",
    "\n",
    "        \n",
    "alternativ = widgets.RadioButtons(options = [A, B, C, D, E], description = '', disabled = False, indent = False, align = 'center', layout={'width': 'max-content'}, value=None)\n",
    "    \n",
    "description_out = widgets.interactive_output(evaluate, {'a': alternativ})\n",
    "\n",
    "widgets.VBox([description_out, alternativ], layout=Layout(display='flex', flex_flow='column', align_items='stretch', width='auto'))\n"
   ]
  },
  {
   "cell_type": "code",
   "execution_count": null,
   "metadata": {
    "collapsed": true
   },
   "outputs": [],
   "source": []
  },
  {
   "cell_type": "code",
   "execution_count": 38,
   "metadata": {},
   "outputs": [
    {
     "name": "stdout",
     "output_type": "stream",
     "text": [
      "Le travail du sexe :\n"
     ]
    },
    {
     "data": {
      "application/vnd.jupyter.widget-view+json": {
       "model_id": "3c53d874d3f64d51b225c6de00d40726",
       "version_major": 2,
       "version_minor": 0
      },
      "text/plain": [
       "A Jupyter Widget"
      ]
     },
     "metadata": {},
     "output_type": "display_data"
    }
   ],
   "source": [
    "print('Le travail du sexe :')\n",
    "\n",
    "A = \"Doit être interdit\"\n",
    "B = \"Doit être fortement réglementé\"\n",
    "C = \"N'est pas forcément souhaitable en soi mais la liberté des travailleureuses doit être respectée\"\n",
    "D = \"Est un travail normal qui doit être légal et non-limité\"\n",
    "\n",
    "def evaluate(a):\n",
    "    if (a == A):\n",
    "        z[10]=1\n",
    "        x[19]=1\n",
    "        display(Javascript('IPython.notebook.execute_cell_range(IPython.notebook.get_selected_index()+1, IPython.notebook.get_selected_index()+2)'))\n",
    "    elif(a == B):\n",
    "        z[10]=0\n",
    "        display(Javascript('IPython.notebook.execute_cell_range(IPython.notebook.get_selected_index()+1, IPython.notebook.get_selected_index()+2)'))\n",
    "    elif(a == C):\n",
    "        z[10]=-1\n",
    "        x[19]=-1\n",
    "        display(Javascript('IPython.notebook.execute_cell_range(IPython.notebook.get_selected_index()+1, IPython.notebook.get_selected_index()+2)'))\n",
    "    elif(a == D):\n",
    "        z[10]=-1\n",
    "        display(Javascript('IPython.notebook.execute_cell_range(IPython.notebook.get_selected_index()+1, IPython.notebook.get_selected_index()+2)'))\n",
    "\n",
    "alternativ = widgets.RadioButtons(options = [A, B, C, D], description = '', disabled = False, indent = False, align = 'center', layout={'width': 'max-content'}, value=None)\n",
    "    \n",
    "description_out = widgets.interactive_output(evaluate, {'a': alternativ})\n",
    "\n",
    "widgets.VBox([description_out, alternativ], layout=Layout(display='flex', flex_flow='column', align_items='stretch', width='auto'))\n"
   ]
  },
  {
   "cell_type": "code",
   "execution_count": null,
   "metadata": {
    "collapsed": true
   },
   "outputs": [],
   "source": []
  },
  {
   "cell_type": "code",
   "execution_count": 39,
   "metadata": {},
   "outputs": [
    {
     "name": "stdout",
     "output_type": "stream",
     "text": [
      "Les problèmes de la société sont-ils causés par un petit groupe de personnes oeuvrant dans l'ombre ?\n"
     ]
    },
    {
     "data": {
      "application/vnd.jupyter.widget-view+json": {
       "model_id": "8a11e0e5b21647178ded7cf42f17c83d",
       "version_major": 2,
       "version_minor": 0
      },
      "text/plain": [
       "A Jupyter Widget"
      ]
     },
     "metadata": {},
     "output_type": "display_data"
    }
   ],
   "source": [
    "print('Les problèmes de la société sont-ils causés par un petit groupe de personnes oeuvrant dans l\\'ombre ?')\n",
    "\n",
    "A = \"Oui\"\n",
    "B = \"Non\"\n",
    "C = \"En partie\"\n",
    "\n",
    "def evaluate(a):\n",
    "    if (a == A):\n",
    "        z[11]=2\n",
    "        display(Javascript('IPython.notebook.execute_cell_range(IPython.notebook.get_selected_index()+1, IPython.notebook.get_selected_index()+2)'))\n",
    "    elif(a == B):\n",
    "        z[11]=-1\n",
    "        display(Javascript('IPython.notebook.execute_cell_range(IPython.notebook.get_selected_index()+1, IPython.notebook.get_selected_index()+2)'))\n",
    "    elif(a == C):\n",
    "        z[11]=1\n",
    "        display(Javascript('IPython.notebook.execute_cell_range(IPython.notebook.get_selected_index()+1, IPython.notebook.get_selected_index()+2)'))\n",
    "\n",
    "alternativ = widgets.RadioButtons(options = [A, B, C], description = '', disabled = False, indent = False, align = 'center', layout={'width': 'max-content'}, value=None)\n",
    "    \n",
    "description_out = widgets.interactive_output(evaluate, {'a': alternativ})\n",
    "\n",
    "widgets.VBox([description_out, alternativ], layout=Layout(display='flex', flex_flow='column', align_items='stretch', width='auto'))\n"
   ]
  },
  {
   "cell_type": "code",
   "execution_count": null,
   "metadata": {
    "collapsed": true
   },
   "outputs": [],
   "source": []
  },
  {
   "cell_type": "code",
   "execution_count": 40,
   "metadata": {},
   "outputs": [
    {
     "name": "stdout",
     "output_type": "stream",
     "text": [
      "La guerre :\n"
     ]
    },
    {
     "data": {
      "application/vnd.jupyter.widget-view+json": {
       "model_id": "50f67958663141f4979f47a075b8d7d8",
       "version_major": 2,
       "version_minor": 0
      },
      "text/plain": [
       "A Jupyter Widget"
      ]
     },
     "metadata": {},
     "output_type": "display_data"
    }
   ],
   "source": [
    "print('Le service militaire :')\n",
    "\n",
    "A = \"Est inacceptable\"\n",
    "B = \"N'est pas une bonne chose mais peut permettre une formation à la lutte armée\"\n",
    "C = \"Est plus intéressant que l'idée d'armée de métier mais il ne devrait pas être obligatoire\"\n",
    "D = \"Est une bonne chose pour maintenir la force d'une nation\"\n",
    "\n",
    "def evaluate(a):\n",
    "    if (a == A):\n",
    "        x[12]=-2\n",
    "        display(Javascript('IPython.notebook.execute_cell_range(IPython.notebook.get_selected_index()+1, IPython.notebook.get_selected_index()+2)'))\n",
    "    elif(a == B):\n",
    "        x[12]=0\n",
    "        display(Javascript('IPython.notebook.execute_cell_range(IPython.notebook.get_selected_index()+1, IPython.notebook.get_selected_index()+2)'))\n",
    "    elif(a == C):\n",
    "        x[12]=-1\n",
    "        display(Javascript('IPython.notebook.execute_cell_range(IPython.notebook.get_selected_index()+1, IPython.notebook.get_selected_index()+2)'))\n",
    "    elif(a == D):\n",
    "        x[12]=2\n",
    "        display(Javascript('IPython.notebook.execute_cell_range(IPython.notebook.get_selected_index()+1, IPython.notebook.get_selected_index()+2)'))\n",
    "\n",
    "alternativ = widgets.RadioButtons(options = [A, B, C, D], description = '', disabled = False, indent = False, align = 'center', layout={'width': 'max-content'}, value=None)\n",
    "    \n",
    "description_out = widgets.interactive_output(evaluate, {'a': alternativ})\n",
    "\n",
    "widgets.VBox([description_out, alternativ], layout=Layout(display='flex', flex_flow='column', align_items='stretch', width='auto'))\n"
   ]
  },
  {
   "cell_type": "code",
   "execution_count": null,
   "metadata": {
    "collapsed": true
   },
   "outputs": [],
   "source": []
  },
  {
   "cell_type": "code",
   "execution_count": 41,
   "metadata": {},
   "outputs": [
    {
     "name": "stdout",
     "output_type": "stream",
     "text": [
      "Les élections :\n"
     ]
    },
    {
     "data": {
      "application/vnd.jupyter.widget-view+json": {
       "model_id": "07191937a37949cdad35ad20bae037c8",
       "version_major": 2,
       "version_minor": 0
      },
      "text/plain": [
       "A Jupyter Widget"
      ]
     },
     "metadata": {},
     "output_type": "display_data"
    }
   ],
   "source": [
    "print('Les élections :')\n",
    "\n",
    "A = \"Sont une perte de temps, un système à parti unique ou une monarchie serait plus efficace\"\n",
    "B = \"N'ont que peu d'importance car elles n'élimineront pas les systèmes de domination\"\n",
    "C = \"N'ont pas beaucoup d'importance mais on peut toujours essayer de faire avancer des choses grâce à elles\"\n",
    "D = \"Sont un droit fondamental, il est nécessaire d'y participer\"\n",
    "\n",
    "def evaluate(a):\n",
    "    if (a == A):\n",
    "        x[13]=3\n",
    "        display(Javascript('IPython.notebook.execute_cell_range(IPython.notebook.get_selected_index()+1, IPython.notebook.get_selected_index()+2)'))\n",
    "    elif(a == B):\n",
    "        x[13]=-1\n",
    "        display(Javascript('IPython.notebook.execute_cell_range(IPython.notebook.get_selected_index()+1, IPython.notebook.get_selected_index()+2)'))\n",
    "    elif(a == C):\n",
    "        x[13]=0\n",
    "        display(Javascript('IPython.notebook.execute_cell_range(IPython.notebook.get_selected_index()+1, IPython.notebook.get_selected_index()+2)'))\n",
    "    elif(a == D):\n",
    "        x[13]=1\n",
    "        display(Javascript('IPython.notebook.execute_cell_range(IPython.notebook.get_selected_index()+1, IPython.notebook.get_selected_index()+2)'))\n",
    "\n",
    "alternativ = widgets.RadioButtons(options = [A, B, C, D], description = '', disabled = False, indent = False, align = 'center', layout={'width': 'max-content'}, value=None)\n",
    "    \n",
    "description_out = widgets.interactive_output(evaluate, {'a': alternativ})\n",
    "\n",
    "widgets.VBox([description_out, alternativ], layout=Layout(display='flex', flex_flow='column', align_items='stretch', width='auto'))\n"
   ]
  },
  {
   "cell_type": "code",
   "execution_count": null,
   "metadata": {
    "collapsed": true
   },
   "outputs": [],
   "source": []
  },
  {
   "cell_type": "code",
   "execution_count": 42,
   "metadata": {},
   "outputs": [
    {
     "name": "stdout",
     "output_type": "stream",
     "text": [
      "Choisir la meilleure mesure environnementale :\n"
     ]
    },
    {
     "data": {
      "application/vnd.jupyter.widget-view+json": {
       "model_id": "c9a7b3d62fd9466190c16466d7d7193f",
       "version_major": 2,
       "version_minor": 0
      },
      "text/plain": [
       "A Jupyter Widget"
      ]
     },
     "metadata": {},
     "output_type": "display_data"
    }
   ],
   "source": [
    "print('Choisir la meilleure mesure environnementale :')\n",
    "\n",
    "A = \"Sortir du nucléaire\"\n",
    "B = \"Investir dans le nucléaire\"\n",
    "C = \"Investir dans les énergies renouvelables\"\n",
    "D = \"Améliorer le traitement et le tri des déchets\"\n",
    "E = \"Développer les transports en commun\"\n",
    "\n",
    "def evaluate(a):\n",
    "    if (a == A):\n",
    "        y[12]=0\n",
    "        display(Javascript('IPython.notebook.execute_cell_range(IPython.notebook.get_selected_index()+1, IPython.notebook.get_selected_index()+2)'))\n",
    "    elif(a == B):\n",
    "        y[12]=1\n",
    "        display(Javascript('IPython.notebook.execute_cell_range(IPython.notebook.get_selected_index()+1, IPython.notebook.get_selected_index()+2)'))\n",
    "    elif(a == C):\n",
    "        y[12]=2\n",
    "        display(Javascript('IPython.notebook.execute_cell_range(IPython.notebook.get_selected_index()+1, IPython.notebook.get_selected_index()+2)'))\n",
    "    elif(a == D):\n",
    "        y[12]=-1\n",
    "        display(Javascript('IPython.notebook.execute_cell_range(IPython.notebook.get_selected_index()+1, IPython.notebook.get_selected_index()+2)'))\n",
    "    elif(a == E):\n",
    "        y[12]=-2\n",
    "        display(Javascript('IPython.notebook.execute_cell_range(IPython.notebook.get_selected_index()+1, IPython.notebook.get_selected_index()+2)'))\n",
    "\n",
    "alternativ = widgets.RadioButtons(options = [A, B, C, D, E], description = '', disabled = False, indent = False, align = 'center', layout={'width': 'max-content'}, value=None)\n",
    "    \n",
    "description_out = widgets.interactive_output(evaluate, {'a': alternativ})\n",
    "\n",
    "widgets.VBox([description_out, alternativ], layout=Layout(display='flex', flex_flow='column', align_items='stretch', width='auto'))\n"
   ]
  },
  {
   "cell_type": "code",
   "execution_count": null,
   "metadata": {
    "collapsed": true
   },
   "outputs": [],
   "source": []
  },
  {
   "cell_type": "code",
   "execution_count": 43,
   "metadata": {
    "scrolled": false
   },
   "outputs": [
    {
     "name": "stdout",
     "output_type": "stream",
     "text": [
      "L'éducation et la santé peuvent-elles être privées ?\n"
     ]
    },
    {
     "data": {
      "application/vnd.jupyter.widget-view+json": {
       "model_id": "1551286c8c284be2883341fe282e5df5",
       "version_major": 2,
       "version_minor": 0
      },
      "text/plain": [
       "A Jupyter Widget"
      ]
     },
     "metadata": {},
     "output_type": "display_data"
    }
   ],
   "source": [
    "print('L\\'éducation et la santé peuvent-elles être privées ?')\n",
    "\n",
    "A = \"Oui sans restriction\"\n",
    "B = \"Oui si l'éducation et la santé publiques sont de même qualité\"\n",
    "C = \"Non sauf si c'est la seule solution localement\"\n",
    "D = \"Non\"\n",
    "\n",
    "def evaluate(a):\n",
    "    if (a == A):\n",
    "        y[13]=2\n",
    "        display(Javascript('IPython.notebook.execute_cell_range(IPython.notebook.get_selected_index()+1, IPython.notebook.get_selected_index()+2)'))\n",
    "    elif(a == B):\n",
    "        y[13]=1\n",
    "        display(Javascript('IPython.notebook.execute_cell_range(IPython.notebook.get_selected_index()+1, IPython.notebook.get_selected_index()+2)'))\n",
    "    elif(a == C):\n",
    "        y[13]=0\n",
    "        display(Javascript('IPython.notebook.execute_cell_range(IPython.notebook.get_selected_index()+1, IPython.notebook.get_selected_index()+2)'))\n",
    "    elif(a == D):\n",
    "        y[13]=-1\n",
    "        display(Javascript('IPython.notebook.execute_cell_range(IPython.notebook.get_selected_index()+1, IPython.notebook.get_selected_index()+2)'))\n",
    "\n",
    "alternativ = widgets.RadioButtons(options = [A, B, C, D], description = '', disabled = False, indent = False, align = 'center', layout={'width': 'max-content'}, value=None)\n",
    "    \n",
    "description_out = widgets.interactive_output(evaluate, {'a': alternativ})\n",
    "\n",
    "widgets.VBox([description_out, alternativ], layout=Layout(display='flex', flex_flow='column', align_items='stretch', width='auto'))\n"
   ]
  },
  {
   "cell_type": "code",
   "execution_count": null,
   "metadata": {
    "collapsed": true
   },
   "outputs": [],
   "source": []
  },
  {
   "cell_type": "code",
   "execution_count": 44,
   "metadata": {},
   "outputs": [
    {
     "name": "stdout",
     "output_type": "stream",
     "text": [
      "L'usage de drogues autres que l'alcool et le tabac :\n"
     ]
    },
    {
     "data": {
      "application/vnd.jupyter.widget-view+json": {
       "model_id": "8fe2543e2113429eb91c397dd8c803e6",
       "version_major": 2,
       "version_minor": 0
      },
      "text/plain": [
       "A Jupyter Widget"
      ]
     },
     "metadata": {},
     "output_type": "display_data"
    }
   ],
   "source": [
    "print('L\\'usage de drogues autres que l\\'alcool et le tabac :')\n",
    "\n",
    "A = \"Doit être autorisé\"\n",
    "B = \"Doit être autorisé seulement pour les drogues dites douces\"\n",
    "C = \"Doit être interdit\"\n",
    "D = \"Doit être soumis au cas par cas aux professionnels de santé\"\n",
    "\n",
    "def evaluate(a):\n",
    "    if (a == A):\n",
    "        z[12]=-1\n",
    "        display(Javascript('IPython.notebook.execute_cell_range(IPython.notebook.get_selected_index()+1, IPython.notebook.get_selected_index()+2)'))\n",
    "    elif(a == B):\n",
    "        z[12]=0\n",
    "        display(Javascript('IPython.notebook.execute_cell_range(IPython.notebook.get_selected_index()+1, IPython.notebook.get_selected_index()+2)'))\n",
    "    elif(a == C):\n",
    "        z[12]=1\n",
    "        display(Javascript('IPython.notebook.execute_cell_range(IPython.notebook.get_selected_index()+1, IPython.notebook.get_selected_index()+2)'))\n",
    "    elif(a == D):\n",
    "        z[12]=-2\n",
    "        display(Javascript('IPython.notebook.execute_cell_range(IPython.notebook.get_selected_index()+1, IPython.notebook.get_selected_index()+2)'))\n",
    "\n",
    "alternativ = widgets.RadioButtons(options = [A, B, C, D], description = '', disabled = False, indent = False, align = 'center', layout={'width': 'max-content'}, value=None)\n",
    "    \n",
    "description_out = widgets.interactive_output(evaluate, {'a': alternativ})\n",
    "\n",
    "widgets.VBox([description_out, alternativ], layout=Layout(display='flex', flex_flow='column', align_items='stretch', width='auto'))\n"
   ]
  },
  {
   "cell_type": "code",
   "execution_count": null,
   "metadata": {
    "collapsed": true
   },
   "outputs": [],
   "source": []
  },
  {
   "cell_type": "code",
   "execution_count": 45,
   "metadata": {},
   "outputs": [
    {
     "name": "stdout",
     "output_type": "stream",
     "text": [
      "Le mariage :\n"
     ]
    },
    {
     "data": {
      "application/vnd.jupyter.widget-view+json": {
       "model_id": "d07a4c2e35a94ce4bfe0720fc98dca9c",
       "version_major": 2,
       "version_minor": 0
      },
      "text/plain": [
       "A Jupyter Widget"
      ]
     },
     "metadata": {},
     "output_type": "display_data"
    }
   ],
   "source": [
    "print('Le mariage :')\n",
    "\n",
    "A = \"Est une tradition garantissant le bonheur et la stabilité d'un couple qu'il faut respecter\"\n",
    "B = \"Est une belle institution, mais qui est surtout symbolique\"\n",
    "C = \"Ne sert à rien\"\n",
    "D = \"Sert à perpétuer le patriarcat\"\n",
    "\n",
    "def evaluate(a):\n",
    "    if (a == A):\n",
    "        z[13]=1\n",
    "        display(Javascript('IPython.notebook.execute_cell_range(IPython.notebook.get_selected_index()+1, IPython.notebook.get_selected_index()+2)'))\n",
    "    elif(a == B):\n",
    "        z[13]=0\n",
    "        display(Javascript('IPython.notebook.execute_cell_range(IPython.notebook.get_selected_index()+1, IPython.notebook.get_selected_index()+2)'))\n",
    "    elif(a == C):\n",
    "        z[13]=-1\n",
    "        display(Javascript('IPython.notebook.execute_cell_range(IPython.notebook.get_selected_index()+1, IPython.notebook.get_selected_index()+2)'))\n",
    "    elif(a == D):\n",
    "        z[13]=-2\n",
    "        display(Javascript('IPython.notebook.execute_cell_range(IPython.notebook.get_selected_index()+1, IPython.notebook.get_selected_index()+2)'))\n",
    "\n",
    "alternativ = widgets.RadioButtons(options = [A, B, C, D], description = '', disabled = False, indent = False, align = 'center', layout={'width': 'max-content'}, value=None)\n",
    "    \n",
    "description_out = widgets.interactive_output(evaluate, {'a': alternativ})\n",
    "\n",
    "widgets.VBox([description_out, alternativ], layout=Layout(display='flex', flex_flow='column', align_items='stretch', width='auto'))\n"
   ]
  },
  {
   "cell_type": "code",
   "execution_count": null,
   "metadata": {
    "collapsed": true
   },
   "outputs": [],
   "source": []
  },
  {
   "cell_type": "code",
   "execution_count": 46,
   "metadata": {},
   "outputs": [
    {
     "name": "stdout",
     "output_type": "stream",
     "text": [
      "Dans quel pays préférerais-tu habiter ?\n"
     ]
    },
    {
     "data": {
      "application/vnd.jupyter.widget-view+json": {
       "model_id": "1ab80836062f487b986846f951416a84",
       "version_major": 2,
       "version_minor": 0
      },
      "text/plain": [
       "A Jupyter Widget"
      ]
     },
     "metadata": {},
     "output_type": "display_data"
    }
   ],
   "source": [
    "print('Dans quel pays préférerais-tu habiter ?')\n",
    "\n",
    "A = \"France\"\n",
    "B = \"Singapour\"\n",
    "C = \"Etats-Unis\"\n",
    "D = \"Nouvelle-Zélande\"\n",
    "E = \"Aucun de ces derniers\"\n",
    "\n",
    "def evaluate(a):\n",
    "    if (a == A):\n",
    "        x[9]=1\n",
    "        display(Javascript('IPython.notebook.execute_cell_range(IPython.notebook.get_selected_index()+1, IPython.notebook.get_selected_index()+2)'))\n",
    "    elif(a == B):\n",
    "        x[9]=3\n",
    "        display(Javascript('IPython.notebook.execute_cell_range(IPython.notebook.get_selected_index()+1, IPython.notebook.get_selected_index()+2)'))\n",
    "    elif(a == C):\n",
    "        x[9]=2\n",
    "        display(Javascript('IPython.notebook.execute_cell_range(IPython.notebook.get_selected_index()+1, IPython.notebook.get_selected_index()+2)'))\n",
    "    elif(a == D):\n",
    "        x[9]=-1\n",
    "        display(Javascript('IPython.notebook.execute_cell_range(IPython.notebook.get_selected_index()+1, IPython.notebook.get_selected_index()+2)'))\n",
    "    elif(a == E):\n",
    "        x[9]=0\n",
    "        display(Javascript('IPython.notebook.execute_cell_range(IPython.notebook.get_selected_index()+1, IPython.notebook.get_selected_index()+2)'))\n",
    "\n",
    "alternativ = widgets.RadioButtons(options = [A, B, C, D, E], description = '', disabled = False, indent = False, align = 'center', layout={'width': 'max-content'}, value=None)\n",
    "    \n",
    "description_out = widgets.interactive_output(evaluate, {'a': alternativ})\n",
    "\n",
    "widgets.VBox([description_out, alternativ], layout=Layout(display='flex', flex_flow='column', align_items='stretch', width='auto'))\n"
   ]
  },
  {
   "cell_type": "code",
   "execution_count": null,
   "metadata": {},
   "outputs": [],
   "source": []
  },
  {
   "cell_type": "code",
   "execution_count": 47,
   "metadata": {},
   "outputs": [
    {
     "name": "stdout",
     "output_type": "stream",
     "text": [
      "As-tu été choqué.e par certaines propositions de réponses lors de ce test ?\n"
     ]
    },
    {
     "data": {
      "application/vnd.jupyter.widget-view+json": {
       "model_id": "4b2c6c26a94245fbbaa32eb8debc1b0a",
       "version_major": 2,
       "version_minor": 0
      },
      "text/plain": [
       "A Jupyter Widget"
      ]
     },
     "metadata": {},
     "output_type": "display_data"
    }
   ],
   "source": [
    "print('As-tu été choqué.e par certaines propositions de réponses lors de ce test ?')\n",
    "\n",
    "A = \"Oui\"\n",
    "B = \"Non\"\n",
    "\n",
    "def evaluate(a):\n",
    "    if (a == A):\n",
    "        z[17]=0\n",
    "        display(Javascript('IPython.notebook.execute_cell_range(IPython.notebook.get_selected_index()+1, IPython.notebook.get_selected_index()+2)'))\n",
    "    elif(a == B):\n",
    "        z[17]=1\n",
    "        display(Javascript('IPython.notebook.execute_cell_range(IPython.notebook.get_selected_index()+1, IPython.notebook.get_selected_index()+2)'))\n",
    "\n",
    "alternativ = widgets.RadioButtons(options = [A, B], description = '', disabled = False, indent = False, align = 'center', layout={'width': 'max-content'}, value=None)\n",
    "    \n",
    "description_out = widgets.interactive_output(evaluate, {'a': alternativ})\n",
    "\n",
    "widgets.VBox([description_out, alternativ], layout=Layout(display='flex', flex_flow='column', align_items='stretch', width='auto'))\n"
   ]
  },
  {
   "cell_type": "code",
   "execution_count": 37,
   "metadata": {
    "collapsed": true
   },
   "outputs": [],
   "source": [
    "X = x.sum()\n",
    "Y = y.sum()\n",
    "Z = z.sum()\n",
    "m=''\n",
    "\n",
    "if(X<-10):\n",
    "    if(Y<-12):\n",
    "        if(Z<-16):\n",
    "            m='de l\\'anarchisme !'\n",
    "        elif(Z<0):\n",
    "            m='de l\\'anarchisme et de l\\'individualisme !'\n",
    "        else:\n",
    "            m='de l\\'anarchisme et du conservatisme. Vous êtes peu nombreux et c\\'est très bien comme ça.'\n",
    "    elif(Y<4):\n",
    "        if(Z<0):\n",
    "            m='de l\\'anarchisme et du marxisme !'\n",
    "        else:\n",
    "            m='de l\\'anarchisme et du conservatisme. Vous êtes peu nombreux et c\\'est très bien comme ça.'\n",
    "    else:\n",
    "        if(Z<0):\n",
    "            m=' de l\\'anarchisme et de la sociale-démocratie.'\n",
    "        else:\n",
    "            m='du libertarianisme. Tu es louche.'\n",
    "elif(X<8):\n",
    "    if(Y<-18):\n",
    "        if(Z<-5):\n",
    "            m='du marxisme.'\n",
    "        else:\n",
    "            m='du marxisme et du conservatisme. Vous êtes peu nombreux et c\\'est très bien comme ça.'\n",
    "    elif(Y<-10):\n",
    "        if(Z<-5):\n",
    "            m='du marxisme et de la sociale-démocratie.'\n",
    "        else:\n",
    "            m='du marxisme et du conservatisme. Vous êtes peu nombreux et c\\'est très bien comme ça.'\n",
    "    else:\n",
    "        if(Z<2):\n",
    "            m='de la sociale-démocratie.'\n",
    "        else:\n",
    "            m='de la sociale-démocratie et de la droite libérale, c\\'est pas bien hein.'\n",
    "elif(X<20):\n",
    "    if(Y<0):\n",
    "        m='du stalinisme, connard/connasse.'\n",
    "    else:\n",
    "        if(Z<0):\n",
    "            m='de la droite libérale, c\\'est pas bien hein.'\n",
    "        else:\n",
    "            m='de la droite réactionnaire, connard/connasse.'\n",
    "else:\n",
    "    if(Y<0):\n",
    "        m='du stalinisme et du conservatisme, connard/connasse.'\n",
    "    else:\n",
    "        if(Z<-5):\n",
    "            m='de la droite libérale, c\\'est pas bien hein.'\n",
    "        elif(Z<10):\n",
    "            m='de la droite réactionnaire, connard/connasse.'\n",
    "        else:\n",
    "            m='du fascime. Va mourir.'\n",
    "            \n",
    "m='Indication : tu es proche '+m\n"
   ]
  },
  {
   "cell_type": "code",
   "execution_count": 38,
   "metadata": {},
   "outputs": [
    {
     "data": {
      "image/png": "[encoded data removed]",
      "text/plain": [
       "<matplotlib.figure.Figure at 0x2757641dfd0>"
      ]
     },
     "metadata": {},
     "output_type": "display_data"
    }
   ],
   "source": [
    "fig=plt.figure(figsize=(16,16))\n",
    "\n",
    "axes = plt.axes(projection='3d')\n",
    "axes.set_title('Résultat :', fontsize=20, fontweight='bold')\n",
    "axes.set_xlabel('Liberté            Autorité', fontsize=24)\n",
    "axes.set_ylabel('Antiproductivisme   Productivisme', fontsize=24)\n",
    "axes.set_zlabel('Progressisme    Conservatisme', fontsize=24)\n",
    "axes.set_xlim(-25, 32)\n",
    "axes.xaxis.set_tick_params(labelsize = 0)\n",
    "axes.set_ylim(-25, 32)\n",
    "axes.yaxis.set_tick_params(labelsize = 0)\n",
    "axes.set_zlim(-25, 32)\n",
    "axes.zaxis.set_tick_params(labelsize = 0)\n",
    "\n",
    "axes.plot3D([X], [Y], [Z], 'ro', markersize = 16)\n",
    "axes.plot3D([X], [-26], [-26], 'rx')\n",
    "axes.plot3D([33], [Y], [-26], 'rx')\n",
    "axes.plot3D([33], [33], [Z], 'rx')\n",
    "fig.text(.25, 0, m, fontsize=16)\n",
    "\n",
    "plt.show()"
   ]
  }
 ],
 "metadata": {
  "kernelspec": {
   "display_name": "Python 3",
   "language": "python",
   "name": "python3"
  },
  "language_info": {
   "codemirror_mode": {
    "name": "ipython",
    "version": 3
   },
   "file_extension": ".py",
   "mimetype": "text/x-python",
   "name": "python",
   "nbconvert_exporter": "python",
   "pygments_lexer": "ipython3",
   "version": "3.6.3"
  }
 },
 "nbformat": 4,
 "nbformat_minor": 2
}
